{
 "cells": [
  {
   "attachments": {},
   "cell_type": "markdown",
   "metadata": {},
   "source": [
    "# Spam Emails Detection NLP\n",
    "\n",
    "## Abstarct\n",
    "\n",
    "This project is to use the automated classification method of Natural Language Processing to extract relevant information such as entities, keywords and sentiments from emails for the detection of spams, spam filtering, and profanity. The target variable for this dataset is ‘spam’ in which a spam email is mapped to 1 and anything else is mapped to 0. The target variable can be thought of as what we are trying to predict. In machine learning problems, the value of this variable will be modeled and predicted by other variables. This is a binary classification problems analysis by using the Nature Language Processing to detect unsolicited and unwanted emails. The model created in this project should be able to prevent spam emails from creeping into the user's inbox, thereby improving user experience.\n",
    "\n",
    "\n",
    "## Business Introduction\n",
    "\n",
    "Spam emails can be costly to both individuals and organizations. To effectively handle the threats posted by email spams, there are huge demand for effective spam detection from machine learning techniques . This project we will practice several kind of NLP models to find out the most effective ones. The project will follow with the machine learning lige cycle to solve the following business problems:\n",
    "\n",
    "- Obtain a general data information for Data Cleaning and formatting\n",
    "- PracticeText Processing methods to determine the efficient approaches\n",
    "- Explore data analysis, features engineering and selection\n",
    "- Conduct Regular Expression, Name Entity Recognition and POS\n",
    "- Compare different algorithms to find the best model fitting the data\n",
    "- Determine Model Selection using Accuracy Matrix and other techniques\n",
    "- Find out the similarity words within spam emails and ham emails\n",
    "- Implementation of models to test the result\n",
    "- Determine the advantage and disadvantage of each approaches\n",
    "\n",
    "\n",
    "\n",
    "### Data set information\n",
    "\n",
    "The original dataset is from the opensource “Spambase dataset” of the UCI machine learning repository(https://archive.ics.uci. edu/ml/datasets/spambase). The data source for this project is from Kaggle(https://www.kaggle.com/ karthickveerakumar/spam-filter). There are total 5000 rows of observations with 2 columns of features. For a better practice for bigginer, the data is imported to the file by shuffling and select only 1000 rows for the project.\n",
    "\n"
   ]
  },
  {
   "cell_type": "code",
   "execution_count": 1,
   "metadata": {},
   "outputs": [],
   "source": [
    "import warnings\n",
    "warnings.filterwarnings(\"ignore\")\n",
    "\n",
    "from IPython.core.interactiveshell import InteractiveShell\n",
    "InteractiveShell.ast_node_interactivity = \"all\""
   ]
  },
  {
   "cell_type": "code",
   "execution_count": 2,
   "metadata": {},
   "outputs": [],
   "source": [
    "import numpy as np\n",
    "import pandas as pd\n",
    "import scipy as sp\n",
    "import matplotlib.pyplot as plt\n",
    "%matplotlib inline\n",
    "\n",
    "import re \n",
    "pd.options.display.max_colwidth = 200\n",
    "\n",
    "import spacy\n",
    "nlp = spacy.load(\"en_core_web_lg\")"
   ]
  },
  {
   "cell_type": "markdown",
   "metadata": {},
   "source": [
    "## Import dataset and Data Exploration\n",
    "\n",
    "[Source:](https://www.kaggle.com/karthickveerakumar/spam-filter)"
   ]
  },
  {
   "cell_type": "code",
   "execution_count": 3,
   "metadata": {},
   "outputs": [],
   "source": [
    "Emails = pd.read_csv('emails.csv')\n"
   ]
  },
  {
   "cell_type": "code",
   "execution_count": 4,
   "metadata": {},
   "outputs": [],
   "source": [
    "Emails = pd.DataFrame(Emails)"
   ]
  },
  {
   "cell_type": "code",
   "execution_count": 5,
   "metadata": {},
   "outputs": [],
   "source": [
    "Emails.columns = [\"text\",\"spam\"]"
   ]
  },
  {
   "cell_type": "code",
   "execution_count": 6,
   "metadata": {
    "scrolled": false
   },
   "outputs": [
    {
     "data": {
      "text/html": [
       "<div>\n",
       "<style scoped>\n",
       "    .dataframe tbody tr th:only-of-type {\n",
       "        vertical-align: middle;\n",
       "    }\n",
       "\n",
       "    .dataframe tbody tr th {\n",
       "        vertical-align: top;\n",
       "    }\n",
       "\n",
       "    .dataframe thead th {\n",
       "        text-align: right;\n",
       "    }\n",
       "</style>\n",
       "<table border=\"1\" class=\"dataframe\">\n",
       "  <thead>\n",
       "    <tr style=\"text-align: right;\">\n",
       "      <th></th>\n",
       "      <th>text</th>\n",
       "      <th>spam</th>\n",
       "    </tr>\n",
       "  </thead>\n",
       "  <tbody>\n",
       "    <tr>\n",
       "      <th>0</th>\n",
       "      <td>Subject: naturally irresistible your corporate identity  lt is really hard to recollect a company : the  market is full of suqgestions and the information isoverwhelminq ; but a good  catchy logo ...</td>\n",
       "      <td>1</td>\n",
       "    </tr>\n",
       "    <tr>\n",
       "      <th>1</th>\n",
       "      <td>Subject: the stock trading gunslinger  fanny is merrill but muzo not colza attainder and penultimate like esmark perspicuous ramble is segovia not group try slung kansas tanzania yes chameleon or ...</td>\n",
       "      <td>1</td>\n",
       "    </tr>\n",
       "    <tr>\n",
       "      <th>2</th>\n",
       "      <td>Subject: unbelievable new homes made easy  im wanting to show you this  homeowner  you have been pre - approved for a $ 454 , 169 home loan at a 3 . 72 fixed rate .  this offer is being extended t...</td>\n",
       "      <td>1</td>\n",
       "    </tr>\n",
       "    <tr>\n",
       "      <th>3</th>\n",
       "      <td>Subject: 4 color printing special  request additional information now ! click here  click here for a printable version of our order form ( pdf format )  phone : ( 626 ) 338 - 8090 fax : ( 626 ) 33...</td>\n",
       "      <td>1</td>\n",
       "    </tr>\n",
       "    <tr>\n",
       "      <th>4</th>\n",
       "      <td>Subject: do not have money , get software cds from here !  software compatibility . . . . ain ' t it great ?  grow old along with me the best is yet to be .  all tradgedies are finish ' d by death...</td>\n",
       "      <td>1</td>\n",
       "    </tr>\n",
       "  </tbody>\n",
       "</table>\n",
       "</div>"
      ],
      "text/plain": [
       "                                                                                                                                                                                                      text  \\\n",
       "0  Subject: naturally irresistible your corporate identity  lt is really hard to recollect a company : the  market is full of suqgestions and the information isoverwhelminq ; but a good  catchy logo ...   \n",
       "1  Subject: the stock trading gunslinger  fanny is merrill but muzo not colza attainder and penultimate like esmark perspicuous ramble is segovia not group try slung kansas tanzania yes chameleon or ...   \n",
       "2  Subject: unbelievable new homes made easy  im wanting to show you this  homeowner  you have been pre - approved for a $ 454 , 169 home loan at a 3 . 72 fixed rate .  this offer is being extended t...   \n",
       "3  Subject: 4 color printing special  request additional information now ! click here  click here for a printable version of our order form ( pdf format )  phone : ( 626 ) 338 - 8090 fax : ( 626 ) 33...   \n",
       "4  Subject: do not have money , get software cds from here !  software compatibility . . . . ain ' t it great ?  grow old along with me the best is yet to be .  all tradgedies are finish ' d by death...   \n",
       "\n",
       "   spam  \n",
       "0     1  \n",
       "1     1  \n",
       "2     1  \n",
       "3     1  \n",
       "4     1  "
      ]
     },
     "execution_count": 6,
     "metadata": {},
     "output_type": "execute_result"
    }
   ],
   "source": [
    "Emails.head()"
   ]
  },
  {
   "cell_type": "code",
   "execution_count": 7,
   "metadata": {
    "scrolled": true
   },
   "outputs": [
    {
     "data": {
      "text/plain": [
       "'Subject: unbelievable new homes made easy  im wanting to show you this  homeowner  you have been pre - approved for a $ 454 , 169 home loan at a 3 . 72 fixed rate .  this offer is being extended to you unconditionally and your credit is in no way a factor .  to take advantage of this limited time opportunity  all we ask is that you visit our website and complete  the 1 minute post approval form  look foward to hearing from you ,  dorcas pittman'"
      ]
     },
     "execution_count": 7,
     "metadata": {},
     "output_type": "execute_result"
    }
   ],
   "source": [
    "Emails['text'][2]"
   ]
  },
  {
   "cell_type": "code",
   "execution_count": 45,
   "metadata": {},
   "outputs": [
    {
     "data": {
      "text/plain": [
       "pandas.core.series.Series"
      ]
     },
     "execution_count": 45,
     "metadata": {},
     "output_type": "execute_result"
    }
   ],
   "source": [
    "type(Emails[\"text\"])"
   ]
  },
  {
   "cell_type": "code",
   "execution_count": 8,
   "metadata": {
    "scrolled": false
   },
   "outputs": [
    {
     "data": {
      "text/plain": [
       "text    0\n",
       "spam    0\n",
       "dtype: int64"
      ]
     },
     "execution_count": 8,
     "metadata": {},
     "output_type": "execute_result"
    }
   ],
   "source": [
    "Emails.isnull().sum()"
   ]
  },
  {
   "cell_type": "code",
   "execution_count": 9,
   "metadata": {
    "scrolled": false
   },
   "outputs": [
    {
     "data": {
      "text/plain": [
       "0    4360\n",
       "1    1368\n",
       "Name: spam, dtype: int64"
      ]
     },
     "execution_count": 9,
     "metadata": {},
     "output_type": "execute_result"
    }
   ],
   "source": [
    "Emails[\"spam\"].value_counts()"
   ]
  },
  {
   "cell_type": "code",
   "execution_count": 10,
   "metadata": {
    "scrolled": true
   },
   "outputs": [
    {
     "name": "stdout",
     "output_type": "stream",
     "text": [
      "Stored 'Emails' (DataFrame)\n"
     ]
    }
   ],
   "source": [
    "%store \"Emails\""
   ]
  },
  {
   "cell_type": "code",
   "execution_count": 120,
   "metadata": {},
   "outputs": [],
   "source": [
    "email = Emails"
   ]
  },
  {
   "cell_type": "markdown",
   "metadata": {},
   "source": [
    "### Randomly select 1000 rows for this project"
   ]
  },
  {
   "cell_type": "code",
   "execution_count": 121,
   "metadata": {},
   "outputs": [],
   "source": [
    "import random\n",
    "a = random.sample(range(0,5000),1000)\n",
    "email = email.loc[a]\n"
   ]
  },
  {
   "cell_type": "code",
   "execution_count": 122,
   "metadata": {},
   "outputs": [
    {
     "data": {
      "text/plain": [
       "0    724\n",
       "1    276\n",
       "Name: spam, dtype: int64"
      ]
     },
     "execution_count": 122,
     "metadata": {},
     "output_type": "execute_result"
    }
   ],
   "source": [
    "email[\"spam\"].value_counts()"
   ]
  },
  {
   "cell_type": "code",
   "execution_count": 123,
   "metadata": {
    "scrolled": true
   },
   "outputs": [
    {
     "name": "stdout",
     "output_type": "stream",
     "text": [
      "Stored 'email' (DataFrame)\n"
     ]
    }
   ],
   "source": [
    "%store \"email\""
   ]
  },
  {
   "cell_type": "code",
   "execution_count": 137,
   "metadata": {},
   "outputs": [],
   "source": [
    "emails = email"
   ]
  },
  {
   "cell_type": "code",
   "execution_count": 125,
   "metadata": {
    "scrolled": true
   },
   "outputs": [
    {
     "data": {
      "text/plain": [
       "0    724\n",
       "1    276\n",
       "Name: spam, dtype: int64"
      ]
     },
     "execution_count": 125,
     "metadata": {},
     "output_type": "execute_result"
    }
   ],
   "source": [
    "emails[\"spam\"].value_counts()\n"
   ]
  },
  {
   "cell_type": "code",
   "execution_count": 47,
   "metadata": {},
   "outputs": [
    {
     "data": {
      "text/plain": [
       "pandas.core.series.Series"
      ]
     },
     "execution_count": 47,
     "metadata": {},
     "output_type": "execute_result"
    }
   ],
   "source": [
    "type(emails['spam'])"
   ]
  },
  {
   "cell_type": "code",
   "execution_count": 126,
   "metadata": {},
   "outputs": [
    {
     "data": {
      "text/html": [
       "<div>\n",
       "<style scoped>\n",
       "    .dataframe tbody tr th:only-of-type {\n",
       "        vertical-align: middle;\n",
       "    }\n",
       "\n",
       "    .dataframe tbody tr th {\n",
       "        vertical-align: top;\n",
       "    }\n",
       "\n",
       "    .dataframe thead th {\n",
       "        text-align: right;\n",
       "    }\n",
       "</style>\n",
       "<table border=\"1\" class=\"dataframe\">\n",
       "  <thead>\n",
       "    <tr style=\"text-align: right;\">\n",
       "      <th></th>\n",
       "      <th>text</th>\n",
       "      <th>spam</th>\n",
       "    </tr>\n",
       "  </thead>\n",
       "  <tbody>\n",
       "    <tr>\n",
       "      <th>101</th>\n",
       "      <td>Subject: tell these cam sluts what to do  to be removed please click here or simply respond to this email . your address will be removed and blocked from ever being added again .  please scroll do...</td>\n",
       "      <td>1</td>\n",
       "    </tr>\n",
       "    <tr>\n",
       "      <th>4046</th>\n",
       "      <td>Subject: rw : howard confirmation for vince  hi vince - please examine . i think it ' s going to happen and you have  confirmation below - need sleep it ' s 3 : 30 pst - i ' ll need 7 hours sleep ...</td>\n",
       "      <td>0</td>\n",
       "    </tr>\n",
       "    <tr>\n",
       "      <th>3693</th>\n",
       "      <td>Subject: interview schedule for jinbaek kim  please find the interview packet for the above - referenced candidate . the  interview will occur on friday january 19 , 2001 . please print all docume...</td>\n",
       "      <td>0</td>\n",
       "    </tr>\n",
       "    <tr>\n",
       "      <th>4324</th>\n",
       "      <td>Subject: contact information  dear mr . kaminski ,  i sent my resume to your well respected company a few weeks ago  in regards to establishing a long - lasting career with them . i never  receive...</td>\n",
       "      <td>0</td>\n",
       "    </tr>\n",
       "    <tr>\n",
       "      <th>4586</th>\n",
       "      <td>Subject: proposal submission  francois and kent ,  hope this proposal reaches you in time for consideration for the upcoming  fma - european meeting . i normally don ' t like to commit myself to a...</td>\n",
       "      <td>0</td>\n",
       "    </tr>\n",
       "  </tbody>\n",
       "</table>\n",
       "</div>"
      ],
      "text/plain": [
       "                                                                                                                                                                                                         text  \\\n",
       "101   Subject: tell these cam sluts what to do  to be removed please click here or simply respond to this email . your address will be removed and blocked from ever being added again .  please scroll do...   \n",
       "4046  Subject: rw : howard confirmation for vince  hi vince - please examine . i think it ' s going to happen and you have  confirmation below - need sleep it ' s 3 : 30 pst - i ' ll need 7 hours sleep ...   \n",
       "3693  Subject: interview schedule for jinbaek kim  please find the interview packet for the above - referenced candidate . the  interview will occur on friday january 19 , 2001 . please print all docume...   \n",
       "4324  Subject: contact information  dear mr . kaminski ,  i sent my resume to your well respected company a few weeks ago  in regards to establishing a long - lasting career with them . i never  receive...   \n",
       "4586  Subject: proposal submission  francois and kent ,  hope this proposal reaches you in time for consideration for the upcoming  fma - european meeting . i normally don ' t like to commit myself to a...   \n",
       "\n",
       "      spam  \n",
       "101      1  \n",
       "4046     0  \n",
       "3693     0  \n",
       "4324     0  \n",
       "4586     0  "
      ]
     },
     "execution_count": 126,
     "metadata": {},
     "output_type": "execute_result"
    }
   ],
   "source": [
    "emails.head()"
   ]
  },
  {
   "cell_type": "markdown",
   "metadata": {},
   "source": []
  },
  {
   "cell_type": "markdown",
   "metadata": {},
   "source": [
    "### Visulazaion of the volums of spam emails and none spam emails"
   ]
  },
  {
   "cell_type": "code",
   "execution_count": 51,
   "metadata": {},
   "outputs": [
    {
     "data": {
      "image/png": "[encoded data removed]",
      "text/plain": [
       "<Figure size 432x288 with 1 Axes>"
      ]
     },
     "metadata": {
      "needs_background": "light"
     },
     "output_type": "display_data"
    }
   ],
   "source": [
    "import seaborn as sns\n",
    "plt.figure(figsize=(6,4))\n",
    "sns.set_context('talk') \n",
    "sns.countplot(emails['spam'], palette=\"plasma\")\n",
    "plt.title('spam vs ham');\n"
   ]
  },
  {
   "cell_type": "markdown",
   "metadata": {},
   "source": [
    "### Make word cloud to compare the spam emails and non spam emails\n",
    "\n"
   ]
  },
  {
   "cell_type": "code",
   "execution_count": 50,
   "metadata": {},
   "outputs": [],
   "source": [
    "from os import path\n",
    "from PIL import Image\n",
    "from wordcloud import WordCloud, STOPWORDS, ImageColorGenerator"
   ]
  },
  {
   "cell_type": "markdown",
   "metadata": {},
   "source": [
    "### Make two subset filter by \"spam\" or \"ham\""
   ]
  },
  {
   "cell_type": "code",
   "execution_count": 52,
   "metadata": {},
   "outputs": [
    {
     "data": {
      "text/plain": [
       "(269, 2)"
      ]
     },
     "execution_count": 52,
     "metadata": {},
     "output_type": "execute_result"
    }
   ],
   "source": [
    "spamdf = emails[emails['spam']== 1]\n",
    "spamdf.shape"
   ]
  },
  {
   "cell_type": "code",
   "execution_count": 53,
   "metadata": {},
   "outputs": [
    {
     "data": {
      "text/plain": [
       "(731, 2)"
      ]
     },
     "execution_count": 53,
     "metadata": {},
     "output_type": "execute_result"
    }
   ],
   "source": [
    "hamdf = emails[emails[\"spam\"] == 0]\n",
    "\n",
    "hamdf.shape"
   ]
  },
  {
   "cell_type": "code",
   "execution_count": 54,
   "metadata": {},
   "outputs": [],
   "source": [
    "X_spam= np.array(spamdf['text'])\n",
    "X_ham = np.array(hamdf['text'])"
   ]
  },
  {
   "cell_type": "code",
   "execution_count": 55,
   "metadata": {},
   "outputs": [],
   "source": [
    "doc_spam = np.array_str(X_spam)\n",
    "doc_ham = np.array_str(X_ham)"
   ]
  },
  {
   "cell_type": "code",
   "execution_count": 56,
   "metadata": {
    "scrolled": true
   },
   "outputs": [
    {
     "data": {
      "text/plain": [
       "<matplotlib.image.AxesImage at 0x7fd1b0105bb0>"
      ]
     },
     "execution_count": 56,
     "metadata": {},
     "output_type": "execute_result"
    },
    {
     "data": {
      "text/plain": [
       "(-0.5, 399.5, 199.5, -0.5)"
      ]
     },
     "execution_count": 56,
     "metadata": {},
     "output_type": "execute_result"
    },
    {
     "data": {
      "image/png": "[encoded data removed]",
      "text/plain": [
       "<Figure size 432x288 with 1 Axes>"
      ]
     },
     "metadata": {
      "needs_background": "light"
     },
     "output_type": "display_data"
    }
   ],
   "source": [
    "wordcloud = WordCloud().generate(doc_spam)\n",
    "plt.imshow(wordcloud, interpolation='bilinear')\n",
    "plt.axis(\"off\")\n",
    "plt.show()"
   ]
  },
  {
   "cell_type": "code",
   "execution_count": 57,
   "metadata": {},
   "outputs": [
    {
     "data": {
      "image/png": "[encoded data removed]",
      "text/plain": [
       "<Figure size 432x288 with 1 Axes>"
      ]
     },
     "metadata": {
      "needs_background": "light"
     },
     "output_type": "display_data"
    }
   ],
   "source": [
    "wordcloud = WordCloud().generate(doc_ham)\n",
    "wordcloud = WordCloud(max_font_size=50, max_words=100, background_color=\"white\").generate(doc_ham)\n",
    "plt.figure()\n",
    "plt.imshow(wordcloud, interpolation=\"bilinear\")\n",
    "plt.axis(\"off\")\n",
    "plt.show();\n"
   ]
  },
  {
   "cell_type": "markdown",
   "metadata": {},
   "source": [
    "## Text Pre_processing"
   ]
  },
  {
   "cell_type": "markdown",
   "metadata": {},
   "source": [
    "### Simple text-processing"
   ]
  },
  {
   "cell_type": "code",
   "execution_count": 58,
   "metadata": {},
   "outputs": [
    {
     "name": "stderr",
     "output_type": "stream",
     "text": [
      "[nltk_data] Downloading package stopwords to\n",
      "[nltk_data]     /Users/jeanbai/nltk_data...\n",
      "[nltk_data]   Package stopwords is already up-to-date!\n"
     ]
    },
    {
     "data": {
      "text/plain": [
       "True"
      ]
     },
     "execution_count": 58,
     "metadata": {},
     "output_type": "execute_result"
    }
   ],
   "source": [
    "\n",
    "import re\n",
    "import nltk\n",
    "nltk.download('stopwords')\n",
    "from nltk.corpus import stopwords\n",
    "from nltk.tokenize import word_tokenize"
   ]
  },
  {
   "cell_type": "code",
   "execution_count": 138,
   "metadata": {},
   "outputs": [],
   "source": [
    "\n",
    "wpt = nltk.WordPunctTokenizer()\n",
    "stop_words = nltk.corpus.stopwords.words('english')\n",
    "\n",
    "\n",
    "def normalize_document(doc):\n",
    "    # lower case and remove special characters\\whitespaces\n",
    "    #doc = re.sub(r'[^a-zA-Z0-9\\s]', ' ', doc, re.I)\n",
    "    doc = re.sub ('(a-zA-Z)',' ', doc)\n",
    "    # remove numbers\n",
    "    doc = re.sub(r'\\d+', '', doc)\n",
    "    doc = doc.lower()\n",
    "    doc = doc.strip()\n",
    "    \n",
    "    # remove of hyperlinks\n",
    "    doc = re.sub(r\"http\\S+\", \"\",doc)\n",
    "    # remove of HTML tags\n",
    "    doc = re.sub(r\"'<.*?>''\", \"\",doc)\n",
    "\n",
    "    # tokenize document\n",
    "    tokens = wpt.tokenize(doc)\n",
    "    \n",
    "    # filter stopwords out of document\n",
    "    filtered_tokens = [token for token in tokens if token not in stop_words]\n",
    "    # re-create document from filtered tokens\n",
    "    doc = ' '.join(filtered_tokens)\n",
    "    \n",
    "    return doc\n",
    "\n",
    "normalize_corpus = np.vectorize(normalize_document)\n"
   ]
  },
  {
   "cell_type": "code",
   "execution_count": null,
   "metadata": {},
   "outputs": [],
   "source": [
    "''''''\n",
    "nlp.Defaults.stop_words.add(\"pm\")\n",
    "nlp.Defaults.stop_words.add(\"000\")\n",
    "nlp.Defaults.stop_words.add(\"cc\")\n",
    "nlp.Defaults.stop_words.add(\"com\")\n",
    "nlp.Defaults.stop_words.add(\"etc\")\n",
    "nlp.Defaults.stop_words.add(\"id\")\n",
    "nlp.Defaults.stop_words.add(\"www\")\n",
    "nlp.Defaults.stop_words.add(\"a\")\n",
    "''''''"
   ]
  },
  {
   "cell_type": "code",
   "execution_count": 139,
   "metadata": {},
   "outputs": [],
   "source": [
    "X= np.array(emails['text'])\n",
    "y = np.array(emails['spam'])"
   ]
  },
  {
   "cell_type": "markdown",
   "metadata": {},
   "source": [
    "Xsubject : gas transportation meeting - / / hello everyone : meeting scheduled addressees wednesday , august th : pm ebl . questions , please let know . regards , shirley',"
   ]
  },
  {
   "cell_type": "code",
   "execution_count": 140,
   "metadata": {},
   "outputs": [],
   "source": [
    "norm_X = normalize_corpus(X)"
   ]
  },
  {
   "cell_type": "code",
   "execution_count": 141,
   "metadata": {
    "scrolled": false
   },
   "outputs": [
    {
     "data": {
      "text/plain": [
       "\"subject : tell cam sluts removed please click simply respond email . address removed blocked ever added . please scroll bottom email details . shows live right ! ahotsexycouple sensuality candice sui _ lei wild _ cat azcple world waiting ? click tell women live camera . ' shy , signup free tell want get . click free live show ! central mailing affiliate sites . question got , please email us glad help . fastest way get list click link . access , please respond email . please make sure include email address one list . zzzz @ example . com\""
      ]
     },
     "execution_count": 141,
     "metadata": {},
     "output_type": "execute_result"
    }
   ],
   "source": [
    "norm_X[0]"
   ]
  },
  {
   "cell_type": "code",
   "execution_count": 134,
   "metadata": {},
   "outputs": [],
   "source": [
    "''''''\n",
    "nlp.Defaults.stop_words.add(\"pm\")\n",
    "nlp.Defaults.stop_words.add(\"000\")\n",
    "nlp.Defaults.stop_words.add(\"cc\")\n",
    "nlp.Defaults.stop_words.add(\"com\")\n",
    "nlp.Defaults.stop_words.add(\"etc\")\n",
    "nlp.Defaults.stop_words.add(\"id\")\n",
    "nlp.Defaults.stop_words.add(\"www\")\n",
    "nlp.Defaults.stop_words.add(\"a\")\n",
    "''''''"
   ]
  },
  {
   "cell_type": "code",
   "execution_count": 133,
   "metadata": {},
   "outputs": [],
   "source": [
    "''''''\n",
    "nlp.vocab[\"000\"].is_stop = True\n",
    "nlp.vocab[\"pm\"].is_stop = True\n",
    "nlp.vocab[\"a\"].is_stop = True\n",
    "nlp.vocab[\"www\"].is_stop = True\n",
    "nlp.vocab[\"cc\"].is_stop = True\n",
    "nlp.vocab[\"com\"].is_stop = True\n",
    "nlp.vocab[\"etc\"].is_stop = True\n",
    "nlp.vocab['id'].is_stop = True\n",
    "''''''"
   ]
  },
  {
   "cell_type": "code",
   "execution_count": 123,
   "metadata": {},
   "outputs": [],
   "source": [
    "#X = np.array_str(X)"
   ]
  },
  {
   "cell_type": "code",
   "execution_count": 124,
   "metadata": {
    "scrolled": true
   },
   "outputs": [],
   "source": [
    "#nlp_X = nlp(X)"
   ]
  },
  {
   "cell_type": "markdown",
   "metadata": {},
   "source": [
    "## Split emails dataset into to train/ test set"
   ]
  },
  {
   "cell_type": "code",
   "execution_count": 136,
   "metadata": {},
   "outputs": [],
   "source": [
    "#from sklearn.model_selection import train_test_split"
   ]
  },
  {
   "cell_type": "code",
   "execution_count": 137,
   "metadata": {},
   "outputs": [],
   "source": [
    "#X_train, X_test, y_train,y_test = train_test_split(norm_X,y,test_size = 0.3,random_state=123)"
   ]
  },
  {
   "cell_type": "code",
   "execution_count": null,
   "metadata": {},
   "outputs": [],
   "source": []
  },
  {
   "cell_type": "markdown",
   "metadata": {},
   "source": [
    "### Make Bag of Words Model\n",
    "\n",
    "Text processing, tokenizing and stopwords are all included in sklearn CountVectorizer.\n",
    "\n",
    "Fit vectorize to the data(build a vocabulary, count the number of words). then transform the original text to vector"
   ]
  },
  {
   "cell_type": "markdown",
   "metadata": {},
   "source": [
    "### Bag of Words Model"
   ]
  },
  {
   "cell_type": "code",
   "execution_count": 87,
   "metadata": {},
   "outputs": [
    {
     "data": {
      "text/plain": [
       "array([[0, 0, 0, ..., 0, 0, 0],\n",
       "       [0, 0, 0, ..., 0, 0, 0],\n",
       "       [0, 0, 0, ..., 0, 0, 0],\n",
       "       ...,\n",
       "       [0, 0, 0, ..., 0, 0, 0],\n",
       "       [0, 0, 0, ..., 0, 0, 0],\n",
       "       [0, 0, 0, ..., 0, 0, 0]])"
      ]
     },
     "execution_count": 87,
     "metadata": {},
     "output_type": "execute_result"
    }
   ],
   "source": [
    "from sklearn.feature_extraction.text import CountVectorizer\n",
    "\n",
    "\n",
    "cv = CountVectorizer(min_df=0., max_df=1.)\n",
    "cv_norm_X = cv.fit_transform(norm_X)\n",
    "\n",
    "cv_norm_X = cv_norm_X.toarray()\n",
    "\n",
    "cv_norm_X"
   ]
  },
  {
   "cell_type": "code",
   "execution_count": 88,
   "metadata": {},
   "outputs": [
    {
     "data": {
      "text/plain": [
       "15340"
      ]
     },
     "execution_count": 88,
     "metadata": {},
     "output_type": "execute_result"
    }
   ],
   "source": [
    "# get all unique words in the corpus\n",
    "vocab = cv.get_feature_names()\n",
    "len(vocab)"
   ]
  },
  {
   "cell_type": "code",
   "execution_count": 89,
   "metadata": {},
   "outputs": [
    {
     "data": {
      "text/plain": [
       "(1000, 15340)"
      ]
     },
     "execution_count": 89,
     "metadata": {},
     "output_type": "execute_result"
    }
   ],
   "source": [
    "from sklearn.feature_extraction.text import TfidfTransformer\n",
    "tfidf_transformer = TfidfTransformer()\n",
    "\n",
    "norm_X_tfidf = tfidf_transformer.fit_transform(cv_norm_X)\n",
    "\n",
    "norm_X_tfidf.shape"
   ]
  },
  {
   "cell_type": "markdown",
   "metadata": {},
   "source": [
    "### TF-IDF Model\n",
    "\n",
    "#### Process vectorization and Tfidf by using one line of coding\n",
    "\n",
    "Convert a collection of raw documents to a matrix of TF-IDF features.\n",
    "Equivalent to CountVectorizer followed by TfidfTransformer."
   ]
  },
  {
   "cell_type": "code",
   "execution_count": 91,
   "metadata": {},
   "outputs": [],
   "source": [
    "from sklearn.feature_extraction.text import TfidfVectorizer"
   ]
  },
  {
   "cell_type": "code",
   "execution_count": 92,
   "metadata": {},
   "outputs": [
    {
     "data": {
      "text/plain": [
       "15340"
      ]
     },
     "execution_count": 92,
     "metadata": {},
     "output_type": "execute_result"
    }
   ],
   "source": [
    "tv = TfidfVectorizer(min_df=0., max_df=1., use_idf=True)\n",
    "tv_norm_X = tv.fit_transform(norm_X)\n",
    "tv_norm_X = tv_norm_X.toarray()\n",
    "\n",
    "vocab = tv.get_feature_names()\n",
    "#pd.DataFrame(np.round(tv_train_matrix, 2), columns=vocab)\n",
    "len(vocab)"
   ]
  },
  {
   "cell_type": "code",
   "execution_count": 93,
   "metadata": {
    "scrolled": true
   },
   "outputs": [
    {
     "data": {
      "text/plain": [
       "(1000, 15340)"
      ]
     },
     "execution_count": 93,
     "metadata": {},
     "output_type": "execute_result"
    }
   ],
   "source": [
    "tv_norm_X.shape"
   ]
  },
  {
   "cell_type": "code",
   "execution_count": 94,
   "metadata": {},
   "outputs": [
    {
     "data": {
      "text/plain": [
       "array([[0., 0., 0., ..., 0., 0., 0.],\n",
       "       [0., 0., 0., ..., 0., 0., 0.],\n",
       "       [0., 0., 0., ..., 0., 0., 0.],\n",
       "       ...,\n",
       "       [0., 0., 0., ..., 0., 0., 0.],\n",
       "       [0., 0., 0., ..., 0., 0., 0.],\n",
       "       [0., 0., 0., ..., 0., 0., 0.]])"
      ]
     },
     "execution_count": 94,
     "metadata": {},
     "output_type": "execute_result"
    }
   ],
   "source": [
    "tv_norm_X\n"
   ]
  },
  {
   "cell_type": "markdown",
   "metadata": {},
   "source": [
    "### Document Similarity\n",
    "\n",
    "Use similarity metric, cosine similarity and compare pairwise document similarity based on their TF-IDF feature vectors"
   ]
  },
  {
   "cell_type": "code",
   "execution_count": 95,
   "metadata": {},
   "outputs": [
    {
     "data": {
      "text/html": [
       "<div>\n",
       "<style scoped>\n",
       "    .dataframe tbody tr th:only-of-type {\n",
       "        vertical-align: middle;\n",
       "    }\n",
       "\n",
       "    .dataframe tbody tr th {\n",
       "        vertical-align: top;\n",
       "    }\n",
       "\n",
       "    .dataframe thead th {\n",
       "        text-align: right;\n",
       "    }\n",
       "</style>\n",
       "<table border=\"1\" class=\"dataframe\">\n",
       "  <thead>\n",
       "    <tr style=\"text-align: right;\">\n",
       "      <th></th>\n",
       "      <th>0</th>\n",
       "      <th>1</th>\n",
       "      <th>2</th>\n",
       "      <th>3</th>\n",
       "      <th>4</th>\n",
       "      <th>5</th>\n",
       "      <th>6</th>\n",
       "      <th>7</th>\n",
       "      <th>8</th>\n",
       "      <th>9</th>\n",
       "      <th>...</th>\n",
       "      <th>990</th>\n",
       "      <th>991</th>\n",
       "      <th>992</th>\n",
       "      <th>993</th>\n",
       "      <th>994</th>\n",
       "      <th>995</th>\n",
       "      <th>996</th>\n",
       "      <th>997</th>\n",
       "      <th>998</th>\n",
       "      <th>999</th>\n",
       "    </tr>\n",
       "  </thead>\n",
       "  <tbody>\n",
       "    <tr>\n",
       "      <th>0</th>\n",
       "      <td>1.000000</td>\n",
       "      <td>0.056654</td>\n",
       "      <td>0.009180</td>\n",
       "      <td>0.049512</td>\n",
       "      <td>0.059764</td>\n",
       "      <td>0.020385</td>\n",
       "      <td>0.024061</td>\n",
       "      <td>0.008668</td>\n",
       "      <td>0.030623</td>\n",
       "      <td>0.043340</td>\n",
       "      <td>...</td>\n",
       "      <td>0.016639</td>\n",
       "      <td>0.038723</td>\n",
       "      <td>0.009523</td>\n",
       "      <td>0.012835</td>\n",
       "      <td>0.012978</td>\n",
       "      <td>0.002167</td>\n",
       "      <td>0.064708</td>\n",
       "      <td>0.016363</td>\n",
       "      <td>0.011685</td>\n",
       "      <td>0.007119</td>\n",
       "    </tr>\n",
       "    <tr>\n",
       "      <th>1</th>\n",
       "      <td>0.056654</td>\n",
       "      <td>1.000000</td>\n",
       "      <td>0.013566</td>\n",
       "      <td>0.029956</td>\n",
       "      <td>0.019196</td>\n",
       "      <td>0.038239</td>\n",
       "      <td>0.027940</td>\n",
       "      <td>0.021639</td>\n",
       "      <td>0.015599</td>\n",
       "      <td>0.076821</td>\n",
       "      <td>...</td>\n",
       "      <td>0.047189</td>\n",
       "      <td>0.023856</td>\n",
       "      <td>0.044267</td>\n",
       "      <td>0.000437</td>\n",
       "      <td>0.019741</td>\n",
       "      <td>0.014958</td>\n",
       "      <td>0.035432</td>\n",
       "      <td>0.016753</td>\n",
       "      <td>0.009909</td>\n",
       "      <td>0.023660</td>\n",
       "    </tr>\n",
       "    <tr>\n",
       "      <th>2</th>\n",
       "      <td>0.009180</td>\n",
       "      <td>0.013566</td>\n",
       "      <td>1.000000</td>\n",
       "      <td>0.010553</td>\n",
       "      <td>0.008850</td>\n",
       "      <td>0.034177</td>\n",
       "      <td>0.017008</td>\n",
       "      <td>0.013660</td>\n",
       "      <td>0.014639</td>\n",
       "      <td>0.027843</td>\n",
       "      <td>...</td>\n",
       "      <td>0.029172</td>\n",
       "      <td>0.030014</td>\n",
       "      <td>0.006375</td>\n",
       "      <td>0.009600</td>\n",
       "      <td>0.016950</td>\n",
       "      <td>0.007661</td>\n",
       "      <td>0.009297</td>\n",
       "      <td>0.022572</td>\n",
       "      <td>0.041743</td>\n",
       "      <td>0.024012</td>\n",
       "    </tr>\n",
       "    <tr>\n",
       "      <th>3</th>\n",
       "      <td>0.049512</td>\n",
       "      <td>0.029956</td>\n",
       "      <td>0.010553</td>\n",
       "      <td>1.000000</td>\n",
       "      <td>0.328751</td>\n",
       "      <td>0.083635</td>\n",
       "      <td>0.007583</td>\n",
       "      <td>0.032951</td>\n",
       "      <td>0.037020</td>\n",
       "      <td>0.050564</td>\n",
       "      <td>...</td>\n",
       "      <td>0.050110</td>\n",
       "      <td>0.039307</td>\n",
       "      <td>0.022371</td>\n",
       "      <td>0.009670</td>\n",
       "      <td>0.037875</td>\n",
       "      <td>0.030707</td>\n",
       "      <td>0.034712</td>\n",
       "      <td>0.056104</td>\n",
       "      <td>0.012080</td>\n",
       "      <td>0.015174</td>\n",
       "    </tr>\n",
       "    <tr>\n",
       "      <th>4</th>\n",
       "      <td>0.059764</td>\n",
       "      <td>0.019196</td>\n",
       "      <td>0.008850</td>\n",
       "      <td>0.328751</td>\n",
       "      <td>1.000000</td>\n",
       "      <td>0.055015</td>\n",
       "      <td>0.002593</td>\n",
       "      <td>0.019336</td>\n",
       "      <td>0.009995</td>\n",
       "      <td>0.023231</td>\n",
       "      <td>...</td>\n",
       "      <td>0.039075</td>\n",
       "      <td>0.019839</td>\n",
       "      <td>0.007936</td>\n",
       "      <td>0.004839</td>\n",
       "      <td>0.037515</td>\n",
       "      <td>0.036818</td>\n",
       "      <td>0.019983</td>\n",
       "      <td>0.081398</td>\n",
       "      <td>0.006463</td>\n",
       "      <td>0.003544</td>\n",
       "    </tr>\n",
       "    <tr>\n",
       "      <th>...</th>\n",
       "      <td>...</td>\n",
       "      <td>...</td>\n",
       "      <td>...</td>\n",
       "      <td>...</td>\n",
       "      <td>...</td>\n",
       "      <td>...</td>\n",
       "      <td>...</td>\n",
       "      <td>...</td>\n",
       "      <td>...</td>\n",
       "      <td>...</td>\n",
       "      <td>...</td>\n",
       "      <td>...</td>\n",
       "      <td>...</td>\n",
       "      <td>...</td>\n",
       "      <td>...</td>\n",
       "      <td>...</td>\n",
       "      <td>...</td>\n",
       "      <td>...</td>\n",
       "      <td>...</td>\n",
       "      <td>...</td>\n",
       "      <td>...</td>\n",
       "    </tr>\n",
       "    <tr>\n",
       "      <th>995</th>\n",
       "      <td>0.002167</td>\n",
       "      <td>0.014958</td>\n",
       "      <td>0.007661</td>\n",
       "      <td>0.030707</td>\n",
       "      <td>0.036818</td>\n",
       "      <td>0.012978</td>\n",
       "      <td>0.016167</td>\n",
       "      <td>0.001650</td>\n",
       "      <td>0.007180</td>\n",
       "      <td>0.036655</td>\n",
       "      <td>...</td>\n",
       "      <td>0.044288</td>\n",
       "      <td>0.010201</td>\n",
       "      <td>0.018615</td>\n",
       "      <td>0.002249</td>\n",
       "      <td>0.006187</td>\n",
       "      <td>1.000000</td>\n",
       "      <td>0.021272</td>\n",
       "      <td>0.047977</td>\n",
       "      <td>0.014023</td>\n",
       "      <td>0.000296</td>\n",
       "    </tr>\n",
       "    <tr>\n",
       "      <th>996</th>\n",
       "      <td>0.064708</td>\n",
       "      <td>0.035432</td>\n",
       "      <td>0.009297</td>\n",
       "      <td>0.034712</td>\n",
       "      <td>0.019983</td>\n",
       "      <td>0.015154</td>\n",
       "      <td>0.015305</td>\n",
       "      <td>0.031274</td>\n",
       "      <td>0.018286</td>\n",
       "      <td>0.017897</td>\n",
       "      <td>...</td>\n",
       "      <td>0.025250</td>\n",
       "      <td>0.070050</td>\n",
       "      <td>0.003874</td>\n",
       "      <td>0.007640</td>\n",
       "      <td>0.035347</td>\n",
       "      <td>0.021272</td>\n",
       "      <td>1.000000</td>\n",
       "      <td>0.055083</td>\n",
       "      <td>0.050282</td>\n",
       "      <td>0.008536</td>\n",
       "    </tr>\n",
       "    <tr>\n",
       "      <th>997</th>\n",
       "      <td>0.016363</td>\n",
       "      <td>0.016753</td>\n",
       "      <td>0.022572</td>\n",
       "      <td>0.056104</td>\n",
       "      <td>0.081398</td>\n",
       "      <td>0.019695</td>\n",
       "      <td>0.008026</td>\n",
       "      <td>0.016106</td>\n",
       "      <td>0.025913</td>\n",
       "      <td>0.001129</td>\n",
       "      <td>...</td>\n",
       "      <td>0.024268</td>\n",
       "      <td>0.024202</td>\n",
       "      <td>0.001219</td>\n",
       "      <td>0.018098</td>\n",
       "      <td>0.013198</td>\n",
       "      <td>0.047977</td>\n",
       "      <td>0.055083</td>\n",
       "      <td>1.000000</td>\n",
       "      <td>0.022979</td>\n",
       "      <td>0.002604</td>\n",
       "    </tr>\n",
       "    <tr>\n",
       "      <th>998</th>\n",
       "      <td>0.011685</td>\n",
       "      <td>0.009909</td>\n",
       "      <td>0.041743</td>\n",
       "      <td>0.012080</td>\n",
       "      <td>0.006463</td>\n",
       "      <td>0.010984</td>\n",
       "      <td>0.012313</td>\n",
       "      <td>0.080385</td>\n",
       "      <td>0.018549</td>\n",
       "      <td>0.011319</td>\n",
       "      <td>...</td>\n",
       "      <td>0.032163</td>\n",
       "      <td>0.120160</td>\n",
       "      <td>0.024518</td>\n",
       "      <td>0.018408</td>\n",
       "      <td>0.041022</td>\n",
       "      <td>0.014023</td>\n",
       "      <td>0.050282</td>\n",
       "      <td>0.022979</td>\n",
       "      <td>1.000000</td>\n",
       "      <td>0.057535</td>\n",
       "    </tr>\n",
       "    <tr>\n",
       "      <th>999</th>\n",
       "      <td>0.007119</td>\n",
       "      <td>0.023660</td>\n",
       "      <td>0.024012</td>\n",
       "      <td>0.015174</td>\n",
       "      <td>0.003544</td>\n",
       "      <td>0.014229</td>\n",
       "      <td>0.052787</td>\n",
       "      <td>0.045611</td>\n",
       "      <td>0.015044</td>\n",
       "      <td>0.013231</td>\n",
       "      <td>...</td>\n",
       "      <td>0.030384</td>\n",
       "      <td>0.056561</td>\n",
       "      <td>0.017664</td>\n",
       "      <td>0.018225</td>\n",
       "      <td>0.012752</td>\n",
       "      <td>0.000296</td>\n",
       "      <td>0.008536</td>\n",
       "      <td>0.002604</td>\n",
       "      <td>0.057535</td>\n",
       "      <td>1.000000</td>\n",
       "    </tr>\n",
       "  </tbody>\n",
       "</table>\n",
       "<p>1000 rows × 1000 columns</p>\n",
       "</div>"
      ],
      "text/plain": [
       "          0         1         2         3         4         5         6    \\\n",
       "0    1.000000  0.056654  0.009180  0.049512  0.059764  0.020385  0.024061   \n",
       "1    0.056654  1.000000  0.013566  0.029956  0.019196  0.038239  0.027940   \n",
       "2    0.009180  0.013566  1.000000  0.010553  0.008850  0.034177  0.017008   \n",
       "3    0.049512  0.029956  0.010553  1.000000  0.328751  0.083635  0.007583   \n",
       "4    0.059764  0.019196  0.008850  0.328751  1.000000  0.055015  0.002593   \n",
       "..        ...       ...       ...       ...       ...       ...       ...   \n",
       "995  0.002167  0.014958  0.007661  0.030707  0.036818  0.012978  0.016167   \n",
       "996  0.064708  0.035432  0.009297  0.034712  0.019983  0.015154  0.015305   \n",
       "997  0.016363  0.016753  0.022572  0.056104  0.081398  0.019695  0.008026   \n",
       "998  0.011685  0.009909  0.041743  0.012080  0.006463  0.010984  0.012313   \n",
       "999  0.007119  0.023660  0.024012  0.015174  0.003544  0.014229  0.052787   \n",
       "\n",
       "          7         8         9    ...       990       991       992  \\\n",
       "0    0.008668  0.030623  0.043340  ...  0.016639  0.038723  0.009523   \n",
       "1    0.021639  0.015599  0.076821  ...  0.047189  0.023856  0.044267   \n",
       "2    0.013660  0.014639  0.027843  ...  0.029172  0.030014  0.006375   \n",
       "3    0.032951  0.037020  0.050564  ...  0.050110  0.039307  0.022371   \n",
       "4    0.019336  0.009995  0.023231  ...  0.039075  0.019839  0.007936   \n",
       "..        ...       ...       ...  ...       ...       ...       ...   \n",
       "995  0.001650  0.007180  0.036655  ...  0.044288  0.010201  0.018615   \n",
       "996  0.031274  0.018286  0.017897  ...  0.025250  0.070050  0.003874   \n",
       "997  0.016106  0.025913  0.001129  ...  0.024268  0.024202  0.001219   \n",
       "998  0.080385  0.018549  0.011319  ...  0.032163  0.120160  0.024518   \n",
       "999  0.045611  0.015044  0.013231  ...  0.030384  0.056561  0.017664   \n",
       "\n",
       "          993       994       995       996       997       998       999  \n",
       "0    0.012835  0.012978  0.002167  0.064708  0.016363  0.011685  0.007119  \n",
       "1    0.000437  0.019741  0.014958  0.035432  0.016753  0.009909  0.023660  \n",
       "2    0.009600  0.016950  0.007661  0.009297  0.022572  0.041743  0.024012  \n",
       "3    0.009670  0.037875  0.030707  0.034712  0.056104  0.012080  0.015174  \n",
       "4    0.004839  0.037515  0.036818  0.019983  0.081398  0.006463  0.003544  \n",
       "..        ...       ...       ...       ...       ...       ...       ...  \n",
       "995  0.002249  0.006187  1.000000  0.021272  0.047977  0.014023  0.000296  \n",
       "996  0.007640  0.035347  0.021272  1.000000  0.055083  0.050282  0.008536  \n",
       "997  0.018098  0.013198  0.047977  0.055083  1.000000  0.022979  0.002604  \n",
       "998  0.018408  0.041022  0.014023  0.050282  0.022979  1.000000  0.057535  \n",
       "999  0.018225  0.012752  0.000296  0.008536  0.002604  0.057535  1.000000  \n",
       "\n",
       "[1000 rows x 1000 columns]"
      ]
     },
     "execution_count": 95,
     "metadata": {},
     "output_type": "execute_result"
    }
   ],
   "source": [
    "from sklearn.metrics.pairwise import cosine_similarity\n",
    "\n",
    "similarity_matrix_norm_X = cosine_similarity(tv_norm_X)\n",
    "\n",
    "similarity_df_norm_X = pd.DataFrame(similarity_matrix_norm_X)\n",
    "similarity_df_norm_X"
   ]
  },
  {
   "cell_type": "markdown",
   "metadata": {},
   "source": [
    "### Document Clustering with Similarity Features\n",
    "\n",
    "There are two types of hierarchical clustering algorithms namely, agglomerative and divisive methods. I will be using a agglomerative clustering algorithm, which is hierarchical clustering using a bottom up approach i.e. each observation or document starts in its own cluster and clusters are successively merged together using a distance metric which measures distances between data points and a linkage merge criterion. Will use the Ward method to govern the mergo strategy."
   ]
  },
  {
   "cell_type": "code",
   "execution_count": 96,
   "metadata": {},
   "outputs": [
    {
     "data": {
      "text/html": [
       "<div>\n",
       "<style scoped>\n",
       "    .dataframe tbody tr th:only-of-type {\n",
       "        vertical-align: middle;\n",
       "    }\n",
       "\n",
       "    .dataframe tbody tr th {\n",
       "        vertical-align: top;\n",
       "    }\n",
       "\n",
       "    .dataframe thead th {\n",
       "        text-align: right;\n",
       "    }\n",
       "</style>\n",
       "<table border=\"1\" class=\"dataframe\">\n",
       "  <thead>\n",
       "    <tr style=\"text-align: right;\">\n",
       "      <th></th>\n",
       "      <th>Document\\Cluster 1</th>\n",
       "      <th>Document\\Cluster 2</th>\n",
       "      <th>Distance</th>\n",
       "      <th>Cluster Size</th>\n",
       "    </tr>\n",
       "  </thead>\n",
       "  <tbody>\n",
       "    <tr>\n",
       "      <th>0</th>\n",
       "      <td>265</td>\n",
       "      <td>578</td>\n",
       "      <td>0</td>\n",
       "      <td>2</td>\n",
       "    </tr>\n",
       "    <tr>\n",
       "      <th>1</th>\n",
       "      <td>488</td>\n",
       "      <td>495</td>\n",
       "      <td>0</td>\n",
       "      <td>2</td>\n",
       "    </tr>\n",
       "    <tr>\n",
       "      <th>2</th>\n",
       "      <td>177</td>\n",
       "      <td>954</td>\n",
       "      <td>0</td>\n",
       "      <td>2</td>\n",
       "    </tr>\n",
       "    <tr>\n",
       "      <th>3</th>\n",
       "      <td>197</td>\n",
       "      <td>678</td>\n",
       "      <td>0</td>\n",
       "      <td>2</td>\n",
       "    </tr>\n",
       "    <tr>\n",
       "      <th>4</th>\n",
       "      <td>623</td>\n",
       "      <td>856</td>\n",
       "      <td>0</td>\n",
       "      <td>2</td>\n",
       "    </tr>\n",
       "    <tr>\n",
       "      <th>...</th>\n",
       "      <td>...</td>\n",
       "      <td>...</td>\n",
       "      <td>...</td>\n",
       "      <td>...</td>\n",
       "    </tr>\n",
       "    <tr>\n",
       "      <th>994</th>\n",
       "      <td>1988</td>\n",
       "      <td>1992</td>\n",
       "      <td>9.75098</td>\n",
       "      <td>380</td>\n",
       "    </tr>\n",
       "    <tr>\n",
       "      <th>995</th>\n",
       "      <td>1985</td>\n",
       "      <td>1994</td>\n",
       "      <td>10.3058</td>\n",
       "      <td>705</td>\n",
       "    </tr>\n",
       "    <tr>\n",
       "      <th>996</th>\n",
       "      <td>1034</td>\n",
       "      <td>1995</td>\n",
       "      <td>11.1021</td>\n",
       "      <td>713</td>\n",
       "    </tr>\n",
       "    <tr>\n",
       "      <th>997</th>\n",
       "      <td>1991</td>\n",
       "      <td>1993</td>\n",
       "      <td>11.9465</td>\n",
       "      <td>287</td>\n",
       "    </tr>\n",
       "    <tr>\n",
       "      <th>998</th>\n",
       "      <td>1996</td>\n",
       "      <td>1997</td>\n",
       "      <td>25.2125</td>\n",
       "      <td>1000</td>\n",
       "    </tr>\n",
       "  </tbody>\n",
       "</table>\n",
       "<p>999 rows × 4 columns</p>\n",
       "</div>"
      ],
      "text/plain": [
       "    Document\\Cluster 1 Document\\Cluster 2 Distance Cluster Size\n",
       "0                  265                578        0            2\n",
       "1                  488                495        0            2\n",
       "2                  177                954        0            2\n",
       "3                  197                678        0            2\n",
       "4                  623                856        0            2\n",
       "..                 ...                ...      ...          ...\n",
       "994               1988               1992  9.75098          380\n",
       "995               1985               1994  10.3058          705\n",
       "996               1034               1995  11.1021          713\n",
       "997               1991               1993  11.9465          287\n",
       "998               1996               1997  25.2125         1000\n",
       "\n",
       "[999 rows x 4 columns]"
      ]
     },
     "execution_count": 96,
     "metadata": {},
     "output_type": "execute_result"
    }
   ],
   "source": [
    "from scipy.cluster.hierarchy import dendrogram, linkage\n",
    "\n",
    "Z = linkage(similarity_matrix_norm_X, 'ward')\n",
    "pd.DataFrame(Z, columns=['Document\\Cluster 1', 'Document\\Cluster 2', \n",
    "                         'Distance', 'Cluster Size'], dtype='object')\n"
   ]
  },
  {
   "cell_type": "code",
   "execution_count": 97,
   "metadata": {},
   "outputs": [
    {
     "data": {
      "image/png": "[encoded data removed]",
      "text/plain": [
       "<Figure size 576x216 with 1 Axes>"
      ]
     },
     "metadata": {
      "needs_background": "light"
     },
     "output_type": "display_data"
    }
   ],
   "source": [
    "plt.figure(figsize=(8, 3))\n",
    "plt.title('Hierarchical Clustering Dendrogram')\n",
    "plt.xlabel('Data point')\n",
    "plt.ylabel('Distance')\n",
    "dendrogram(Z)\n",
    "plt.axhline(y=1.0, c='k', ls='--', lw=0.5);\n"
   ]
  },
  {
   "cell_type": "markdown",
   "metadata": {},
   "source": [
    "### Topic Models\n",
    "\n",
    "Use Latent Dirichlet Allocation (LDA),which uses a generative probabilistic model where each document consists of a combination of several topics and each term or word can be assigned to a specific topic."
   ]
  },
  {
   "cell_type": "code",
   "execution_count": 98,
   "metadata": {
    "scrolled": true
   },
   "outputs": [
    {
     "data": {
      "text/html": [
       "<div>\n",
       "<style scoped>\n",
       "    .dataframe tbody tr th:only-of-type {\n",
       "        vertical-align: middle;\n",
       "    }\n",
       "\n",
       "    .dataframe tbody tr th {\n",
       "        vertical-align: top;\n",
       "    }\n",
       "\n",
       "    .dataframe thead th {\n",
       "        text-align: right;\n",
       "    }\n",
       "</style>\n",
       "<table border=\"1\" class=\"dataframe\">\n",
       "  <thead>\n",
       "    <tr style=\"text-align: right;\">\n",
       "      <th></th>\n",
       "      <th>T1</th>\n",
       "      <th>T2</th>\n",
       "      <th>T3</th>\n",
       "      <th>T4</th>\n",
       "      <th>T5</th>\n",
       "    </tr>\n",
       "  </thead>\n",
       "  <tbody>\n",
       "    <tr>\n",
       "      <th>0</th>\n",
       "      <td>0.039646</td>\n",
       "      <td>0.039673</td>\n",
       "      <td>0.039646</td>\n",
       "      <td>0.841388</td>\n",
       "      <td>0.039646</td>\n",
       "    </tr>\n",
       "    <tr>\n",
       "      <th>1</th>\n",
       "      <td>0.028959</td>\n",
       "      <td>0.028963</td>\n",
       "      <td>0.028959</td>\n",
       "      <td>0.884159</td>\n",
       "      <td>0.028959</td>\n",
       "    </tr>\n",
       "    <tr>\n",
       "      <th>2</th>\n",
       "      <td>0.016164</td>\n",
       "      <td>0.016173</td>\n",
       "      <td>0.016166</td>\n",
       "      <td>0.935332</td>\n",
       "      <td>0.016164</td>\n",
       "    </tr>\n",
       "    <tr>\n",
       "      <th>3</th>\n",
       "      <td>0.024336</td>\n",
       "      <td>0.024335</td>\n",
       "      <td>0.024336</td>\n",
       "      <td>0.902658</td>\n",
       "      <td>0.024336</td>\n",
       "    </tr>\n",
       "    <tr>\n",
       "      <th>4</th>\n",
       "      <td>0.023344</td>\n",
       "      <td>0.023403</td>\n",
       "      <td>0.023338</td>\n",
       "      <td>0.906579</td>\n",
       "      <td>0.023336</td>\n",
       "    </tr>\n",
       "    <tr>\n",
       "      <th>...</th>\n",
       "      <td>...</td>\n",
       "      <td>...</td>\n",
       "      <td>...</td>\n",
       "      <td>...</td>\n",
       "      <td>...</td>\n",
       "    </tr>\n",
       "    <tr>\n",
       "      <th>995</th>\n",
       "      <td>0.035881</td>\n",
       "      <td>0.035881</td>\n",
       "      <td>0.035881</td>\n",
       "      <td>0.856477</td>\n",
       "      <td>0.035881</td>\n",
       "    </tr>\n",
       "    <tr>\n",
       "      <th>996</th>\n",
       "      <td>0.018936</td>\n",
       "      <td>0.018938</td>\n",
       "      <td>0.018936</td>\n",
       "      <td>0.924256</td>\n",
       "      <td>0.018935</td>\n",
       "    </tr>\n",
       "    <tr>\n",
       "      <th>997</th>\n",
       "      <td>0.019541</td>\n",
       "      <td>0.019542</td>\n",
       "      <td>0.019541</td>\n",
       "      <td>0.921836</td>\n",
       "      <td>0.019540</td>\n",
       "    </tr>\n",
       "    <tr>\n",
       "      <th>998</th>\n",
       "      <td>0.012735</td>\n",
       "      <td>0.012779</td>\n",
       "      <td>0.012745</td>\n",
       "      <td>0.949012</td>\n",
       "      <td>0.012729</td>\n",
       "    </tr>\n",
       "    <tr>\n",
       "      <th>999</th>\n",
       "      <td>0.018789</td>\n",
       "      <td>0.018822</td>\n",
       "      <td>0.018797</td>\n",
       "      <td>0.924815</td>\n",
       "      <td>0.018776</td>\n",
       "    </tr>\n",
       "  </tbody>\n",
       "</table>\n",
       "<p>1000 rows × 5 columns</p>\n",
       "</div>"
      ],
      "text/plain": [
       "           T1        T2        T3        T4        T5\n",
       "0    0.039646  0.039673  0.039646  0.841388  0.039646\n",
       "1    0.028959  0.028963  0.028959  0.884159  0.028959\n",
       "2    0.016164  0.016173  0.016166  0.935332  0.016164\n",
       "3    0.024336  0.024335  0.024336  0.902658  0.024336\n",
       "4    0.023344  0.023403  0.023338  0.906579  0.023336\n",
       "..        ...       ...       ...       ...       ...\n",
       "995  0.035881  0.035881  0.035881  0.856477  0.035881\n",
       "996  0.018936  0.018938  0.018936  0.924256  0.018935\n",
       "997  0.019541  0.019542  0.019541  0.921836  0.019540\n",
       "998  0.012735  0.012779  0.012745  0.949012  0.012729\n",
       "999  0.018789  0.018822  0.018797  0.924815  0.018776\n",
       "\n",
       "[1000 rows x 5 columns]"
      ]
     },
     "execution_count": 98,
     "metadata": {},
     "output_type": "execute_result"
    }
   ],
   "source": [
    "from sklearn.decomposition import LatentDirichletAllocation\n",
    "\n",
    "lda = LatentDirichletAllocation(n_components=5, random_state=0)\n",
    "dt_matrix = lda.fit_transform(tv_norm_X)\n",
    "features = pd.DataFrame(dt_matrix, columns=['T1', 'T2', 'T3','T4','T5'])\n",
    "features\n"
   ]
  },
  {
   "cell_type": "code",
   "execution_count": 99,
   "metadata": {
    "scrolled": true
   },
   "outputs": [
    {
     "name": "stdout",
     "output_type": "stream",
     "text": [
      "[('logo', 1.5697360258460187), ('promise', 1.470339659534175), ('save', 1.4399956125947864), ('mulong', 1.4248877098444424), ('clear', 1.0479107837178319), ('logos', 1.0364013140185397), ('cum', 1.0205469040707242), ('easy', 1.0031195249166502), ('specially', 1.0030080804551786), ('effective', 0.9674404684106936)]\n",
      "[('software', 4.527930401790821), ('save', 2.4709495058460496), ('congratulations', 2.308418321512337), ('money', 1.9393776838602104), ('jul', 1.9055588918339672), ('need', 1.8697318763700144), ('oem', 1.8588983117501454), ('getting', 1.8576019432767963), ('thing', 1.8459264002094107), ('squirrelmail', 1.8128129639386197)]\n",
      "[('creoleart', 0.9602475936073784), ('doreen', 0.8817541759315675), ('de', 0.8810711720491182), ('lynn', 0.8030205769654346), ('ss', 0.7693248332367306), ('paypal', 0.7571338799420939), ('penis', 0.7479390342055365), ('nazareth', 0.746993209339698), ('je', 0.7430696458964126), ('verified', 0.6940894366882762)]\n",
      "[('ect', 45.7837322674058), ('enron', 44.71122357264178), ('vince', 37.47548636030109), ('subject', 30.436500684375368), ('com', 24.051895012439818), ('hou', 23.842436316086562), ('please', 22.580900060870604), ('kaminski', 22.253054094011784), ('would', 20.452368246665166), ('research', 16.712831956198453)]\n",
      "[('fap', 1.252727547810592), ('shdh', 1.1170621459641192), ('gbp', 1.0234811382687485), ('rankings', 1.0133875705713873), ('penn', 1.0132540273778319), ('lsu', 0.9760113187397024), ('sie', 0.9663971603896941), ('teleconferences', 0.9570044162080611), ('freightmart', 0.9506985395200833), ('jury', 0.9442544180303607)]\n"
     ]
    }
   ],
   "source": [
    "tt_matrix = lda.components_\n",
    "for topic_weights in tt_matrix:\n",
    "    topic = [(token, weight) for token, weight in zip(vocab, topic_weights)]\n",
    "    topic = sorted(topic, key=lambda x: -x[1])\n",
    "    topic = [item for item in topic if item[1] > 0.6]\n",
    "    print(topic[0:10])\n",
    "    "
   ]
  },
  {
   "cell_type": "markdown",
   "metadata": {},
   "source": [
    "### Document Clustering with Topic Model Features"
   ]
  },
  {
   "cell_type": "code",
   "execution_count": 100,
   "metadata": {
    "scrolled": true
   },
   "outputs": [
    {
     "data": {
      "text/plain": [
       "array([[0.03953141, 0.73598042, 0.86332754, 0.85784418, 0.54867929],\n",
       "       [0.00871999, 0.77332982, 0.90101795, 0.89558654, 0.58616099],\n",
       "       [0.06562345, 0.81945281, 0.94729921, 0.94195129, 0.63284465],\n",
       "       ...,\n",
       "       [0.050548  , 0.80714885, 0.93497804, 0.92960532, 0.62036039],\n",
       "       [0.08090753, 0.83202113, 0.95985364, 0.95454522, 0.64562066],\n",
       "       [0.05387383, 0.80986104, 0.93767528, 0.93232269, 0.62311822]])"
      ]
     },
     "execution_count": 100,
     "metadata": {},
     "output_type": "execute_result"
    },
    {
     "data": {
      "text/html": [
       "<div>\n",
       "<style scoped>\n",
       "    .dataframe tbody tr th:only-of-type {\n",
       "        vertical-align: middle;\n",
       "    }\n",
       "\n",
       "    .dataframe tbody tr th {\n",
       "        vertical-align: top;\n",
       "    }\n",
       "\n",
       "    .dataframe thead th {\n",
       "        text-align: right;\n",
       "    }\n",
       "</style>\n",
       "<table border=\"1\" class=\"dataframe\">\n",
       "  <thead>\n",
       "    <tr style=\"text-align: right;\">\n",
       "      <th></th>\n",
       "      <th>text</th>\n",
       "      <th>spam</th>\n",
       "      <th>ClusterLabel</th>\n",
       "    </tr>\n",
       "  </thead>\n",
       "  <tbody>\n",
       "    <tr>\n",
       "      <th>0</th>\n",
       "      <td>Subject: naturally irresistible your corporate identity  lt is really hard to recollect a company : the  market is full of suqgestions and the information isoverwhelminq ; but a good  catchy logo ...</td>\n",
       "      <td>1.0</td>\n",
       "      <td>0.0</td>\n",
       "    </tr>\n",
       "    <tr>\n",
       "      <th>1</th>\n",
       "      <td>Subject: the stock trading gunslinger  fanny is merrill but muzo not colza attainder and penultimate like esmark perspicuous ramble is segovia not group try slung kansas tanzania yes chameleon or ...</td>\n",
       "      <td>1.0</td>\n",
       "      <td>0.0</td>\n",
       "    </tr>\n",
       "    <tr>\n",
       "      <th>2</th>\n",
       "      <td>Subject: unbelievable new homes made easy  im wanting to show you this  homeowner  you have been pre - approved for a $ 454 , 169 home loan at a 3 . 72 fixed rate .  this offer is being extended t...</td>\n",
       "      <td>1.0</td>\n",
       "      <td>0.0</td>\n",
       "    </tr>\n",
       "    <tr>\n",
       "      <th>3</th>\n",
       "      <td>NaN</td>\n",
       "      <td>NaN</td>\n",
       "      <td>0.0</td>\n",
       "    </tr>\n",
       "    <tr>\n",
       "      <th>4</th>\n",
       "      <td>NaN</td>\n",
       "      <td>NaN</td>\n",
       "      <td>0.0</td>\n",
       "    </tr>\n",
       "    <tr>\n",
       "      <th>...</th>\n",
       "      <td>...</td>\n",
       "      <td>...</td>\n",
       "      <td>...</td>\n",
       "    </tr>\n",
       "    <tr>\n",
       "      <th>4982</th>\n",
       "      <td>Subject: invitation - whartonetevent - apr 20 / plsrsvp  vice and christie hello ,  this is a followup to our previous invitation to attend  our next wharton / et event . ? you can rsvp by replyin...</td>\n",
       "      <td>0.0</td>\n",
       "      <td>NaN</td>\n",
       "    </tr>\n",
       "    <tr>\n",
       "      <th>4984</th>\n",
       "      <td>Subject: re : book order  julie ,  there are many employees in london who would be interested .  you can send an inquiry to steve leppard .  i had a presentation last night  to garp in houston and...</td>\n",
       "      <td>0.0</td>\n",
       "      <td>NaN</td>\n",
       "    </tr>\n",
       "    <tr>\n",
       "      <th>4989</th>\n",
       "      <td>Subject: re : subscriptions  stephanie ,  please , discontinue credit and renew the two other publications :  energy &amp; power risk management and the journal of computational finance .  enron north...</td>\n",
       "      <td>0.0</td>\n",
       "      <td>NaN</td>\n",
       "    </tr>\n",
       "    <tr>\n",
       "      <th>4991</th>\n",
       "      <td>Subject: 7 - 1 - 00 to 7 - 15 - 00 off duty and overtime report  oops ! forgot to attach !  - - - - - - - - - - - - - - - - - - - - - - forwarded by shirley crenshaw / hou / ect on 07 / 14 / 2000 ...</td>\n",
       "      <td>0.0</td>\n",
       "      <td>NaN</td>\n",
       "    </tr>\n",
       "    <tr>\n",
       "      <th>4993</th>\n",
       "      <td>Subject: budget  hi dale  following discussions with vince , grant and stinson , we ' ve drawn up the  proposed budget . we ' re working on the basis that research group headcount  will grow to 8 ...</td>\n",
       "      <td>0.0</td>\n",
       "      <td>NaN</td>\n",
       "    </tr>\n",
       "  </tbody>\n",
       "</table>\n",
       "<p>1791 rows × 3 columns</p>\n",
       "</div>"
      ],
      "text/plain": [
       "                                                                                                                                                                                                         text  \\\n",
       "0     Subject: naturally irresistible your corporate identity  lt is really hard to recollect a company : the  market is full of suqgestions and the information isoverwhelminq ; but a good  catchy logo ...   \n",
       "1     Subject: the stock trading gunslinger  fanny is merrill but muzo not colza attainder and penultimate like esmark perspicuous ramble is segovia not group try slung kansas tanzania yes chameleon or ...   \n",
       "2     Subject: unbelievable new homes made easy  im wanting to show you this  homeowner  you have been pre - approved for a $ 454 , 169 home loan at a 3 . 72 fixed rate .  this offer is being extended t...   \n",
       "3                                                                                                                                                                                                         NaN   \n",
       "4                                                                                                                                                                                                         NaN   \n",
       "...                                                                                                                                                                                                       ...   \n",
       "4982  Subject: invitation - whartonetevent - apr 20 / plsrsvp  vice and christie hello ,  this is a followup to our previous invitation to attend  our next wharton / et event . ? you can rsvp by replyin...   \n",
       "4984  Subject: re : book order  julie ,  there are many employees in london who would be interested .  you can send an inquiry to steve leppard .  i had a presentation last night  to garp in houston and...   \n",
       "4989  Subject: re : subscriptions  stephanie ,  please , discontinue credit and renew the two other publications :  energy & power risk management and the journal of computational finance .  enron north...   \n",
       "4991  Subject: 7 - 1 - 00 to 7 - 15 - 00 off duty and overtime report  oops ! forgot to attach !  - - - - - - - - - - - - - - - - - - - - - - forwarded by shirley crenshaw / hou / ect on 07 / 14 / 2000 ...   \n",
       "4993  Subject: budget  hi dale  following discussions with vince , grant and stinson , we ' ve drawn up the  proposed budget . we ' re working on the basis that research group headcount  will grow to 8 ...   \n",
       "\n",
       "      spam  ClusterLabel  \n",
       "0      1.0           0.0  \n",
       "1      1.0           0.0  \n",
       "2      1.0           0.0  \n",
       "3      NaN           0.0  \n",
       "4      NaN           0.0  \n",
       "...    ...           ...  \n",
       "4982   0.0           NaN  \n",
       "4984   0.0           NaN  \n",
       "4989   0.0           NaN  \n",
       "4991   0.0           NaN  \n",
       "4993   0.0           NaN  \n",
       "\n",
       "[1791 rows x 3 columns]"
      ]
     },
     "execution_count": 100,
     "metadata": {},
     "output_type": "execute_result"
    }
   ],
   "source": [
    "from sklearn.cluster import KMeans\n",
    "\n",
    "km = KMeans(n_clusters=5, random_state=0)\n",
    "km.fit_transform(features)\n",
    "cluster_labels = km.labels_\n",
    "cluster_labels = pd.DataFrame(cluster_labels, columns=['ClusterLabel'])\n",
    "pd.concat([emails, cluster_labels], axis=1)\n"
   ]
  },
  {
   "cell_type": "markdown",
   "metadata": {},
   "source": [
    "#### Use the CountVectorizer treat the all text of emails dataset to view top 10 words for each topic\n",
    "\n",
    "create a new emails date with the norm_X."
   ]
  },
  {
   "cell_type": "code",
   "execution_count": 146,
   "metadata": {},
   "outputs": [],
   "source": [
    "norm_emails = pd.DataFrame(norm_X)\n",
    "norm_emails.rename(columns={0:\"norm_X\"}, inplace=True)"
   ]
  },
  {
   "cell_type": "code",
   "execution_count": 149,
   "metadata": {},
   "outputs": [
    {
     "data": {
      "text/html": [
       "<div>\n",
       "<style scoped>\n",
       "    .dataframe tbody tr th:only-of-type {\n",
       "        vertical-align: middle;\n",
       "    }\n",
       "\n",
       "    .dataframe tbody tr th {\n",
       "        vertical-align: top;\n",
       "    }\n",
       "\n",
       "    .dataframe thead th {\n",
       "        text-align: right;\n",
       "    }\n",
       "</style>\n",
       "<table border=\"1\" class=\"dataframe\">\n",
       "  <thead>\n",
       "    <tr style=\"text-align: right;\">\n",
       "      <th></th>\n",
       "      <th>norm_X</th>\n",
       "    </tr>\n",
       "  </thead>\n",
       "  <tbody>\n",
       "    <tr>\n",
       "      <th>0</th>\n",
       "      <td>subject : tell cam sluts removed please click simply respond email . address removed blocked ever added . please scroll bottom email details . shows live right ! ahotsexycouple sensuality candice ...</td>\n",
       "    </tr>\n",
       "    <tr>\n",
       "      <th>1</th>\n",
       "      <td>subject : rw : howard confirmation vince hi vince - please examine . think ' going happen confirmation - need sleep ' : pst - ' need hours sleep ' . . . add time difference ' available , service (...</td>\n",
       "    </tr>\n",
       "    <tr>\n",
       "      <th>2</th>\n",
       "      <td>subject : interview schedule jinbaek kim please find interview packet - referenced candidate . interview occur friday january , . please print documents reference . questions , conflicts schedule ...</td>\n",
       "    </tr>\n",
       "    <tr>\n",
       "      <th>3</th>\n",
       "      <td>subject : contact information dear mr . kaminski , sent resume well respected company weeks ago regards establishing long - lasting career . never received response wondering knew charge electric ...</td>\n",
       "    </tr>\n",
       "    <tr>\n",
       "      <th>4</th>\n",
       "      <td>subject : proposal submission francois kent , hope proposal reaches time consideration upcoming fma - european meeting . normally ' like commit proposal case ' comfortable light status project . s...</td>\n",
       "    </tr>\n",
       "  </tbody>\n",
       "</table>\n",
       "</div>"
      ],
      "text/plain": [
       "                                                                                                                                                                                                    norm_X\n",
       "0  subject : tell cam sluts removed please click simply respond email . address removed blocked ever added . please scroll bottom email details . shows live right ! ahotsexycouple sensuality candice ...\n",
       "1  subject : rw : howard confirmation vince hi vince - please examine . think ' going happen confirmation - need sleep ' : pst - ' need hours sleep ' . . . add time difference ' available , service (...\n",
       "2  subject : interview schedule jinbaek kim please find interview packet - referenced candidate . interview occur friday january , . please print documents reference . questions , conflicts schedule ...\n",
       "3  subject : contact information dear mr . kaminski , sent resume well respected company weeks ago regards establishing long - lasting career . never received response wondering knew charge electric ...\n",
       "4  subject : proposal submission francois kent , hope proposal reaches time consideration upcoming fma - european meeting . normally ' like commit proposal case ' comfortable light status project . s..."
      ]
     },
     "execution_count": 149,
     "metadata": {},
     "output_type": "execute_result"
    }
   ],
   "source": [
    "norm_emails.head()"
   ]
  },
  {
   "cell_type": "code",
   "execution_count": 134,
   "metadata": {},
   "outputs": [],
   "source": [
    "cv = CountVectorizer(max_df=0.95, min_df=2, stop_words='english')"
   ]
  },
  {
   "cell_type": "code",
   "execution_count": 151,
   "metadata": {},
   "outputs": [],
   "source": [
    "dtm = cv.fit_transform(norm_emails['norm_X'])"
   ]
  },
  {
   "cell_type": "code",
   "execution_count": 152,
   "metadata": {},
   "outputs": [
    {
     "data": {
      "text/plain": [
       "LatentDirichletAllocation(n_components=5, random_state=0)"
      ]
     },
     "execution_count": 152,
     "metadata": {},
     "output_type": "execute_result"
    }
   ],
   "source": [
    "lda.fit(dtm)"
   ]
  },
  {
   "cell_type": "code",
   "execution_count": 153,
   "metadata": {},
   "outputs": [
    {
     "data": {
      "text/plain": [
       "7010"
      ]
     },
     "execution_count": 153,
     "metadata": {},
     "output_type": "execute_result"
    }
   ],
   "source": [
    "len(cv.get_feature_names())"
   ]
  },
  {
   "cell_type": "code",
   "execution_count": 154,
   "metadata": {
    "scrolled": true
   },
   "outputs": [
    {
     "name": "stdout",
     "output_type": "stream",
     "text": [
      "THE TOP 10 WORDS FOR TOPIC #0\n",
      "['price', 'forward', 'conference', 'finance', 'vince', 'model', 'options', 'enron', 'risk', 'energy']\n",
      "\n",
      "\n",
      "THE TOP 10 WORDS FOR TOPIC #1\n",
      "['software', 'click', 'free', 'mail', 'http', 'money', 'new', 'com', 'business', 'email']\n",
      "\n",
      "\n",
      "THE TOP 10 WORDS FOR TOPIC #2\n",
      "['stock', 'security', 'companies', 'oil', 'business', 'market', 'investment', 'statements', 'information', 'company']\n",
      "\n",
      "\n",
      "THE TOP 10 WORDS FOR TOPIC #3\n",
      "['know', 'thanks', 'pm', 'cc', 'com', 'kaminski', 'hou', 'vince', 'ect', 'enron']\n",
      "\n",
      "\n",
      "THE TOP 10 WORDS FOR TOPIC #4\n",
      "['government', 'company', 'board', 'state', 'mseb', 'said', 'project', 'dpc', 'power', 'enron']\n",
      "\n",
      "\n"
     ]
    }
   ],
   "source": [
    "for index,topic in enumerate(lda.components_):\n",
    "    print(f'THE TOP 10 WORDS FOR TOPIC #{index}')\n",
    "    print([cv.get_feature_names()[i] for i in topic.argsort()[-10:]])\n",
    "    print('\\n')"
   ]
  },
  {
   "cell_type": "markdown",
   "metadata": {},
   "source": [
    "\n",
    "### Attaching Discovered Topic Labels to Original Articles"
   ]
  },
  {
   "cell_type": "code",
   "execution_count": 155,
   "metadata": {},
   "outputs": [],
   "source": [
    "topic_results = lda.transform(dtm)"
   ]
  },
  {
   "cell_type": "code",
   "execution_count": 156,
   "metadata": {},
   "outputs": [
    {
     "data": {
      "text/plain": [
       "(1000, 5)"
      ]
     },
     "execution_count": 156,
     "metadata": {},
     "output_type": "execute_result"
    }
   ],
   "source": [
    "topic_results.shape"
   ]
  },
  {
   "cell_type": "code",
   "execution_count": 157,
   "metadata": {},
   "outputs": [
    {
     "data": {
      "text/plain": [
       "3214"
      ]
     },
     "execution_count": 157,
     "metadata": {},
     "output_type": "execute_result"
    }
   ],
   "source": [
    "topic_results.argmax()"
   ]
  },
  {
   "cell_type": "code",
   "execution_count": 159,
   "metadata": {},
   "outputs": [],
   "source": [
    "norm_emails['topic'] = topic_results.argmax(axis=1)"
   ]
  },
  {
   "cell_type": "code",
   "execution_count": 160,
   "metadata": {},
   "outputs": [
    {
     "data": {
      "text/html": [
       "<div>\n",
       "<style scoped>\n",
       "    .dataframe tbody tr th:only-of-type {\n",
       "        vertical-align: middle;\n",
       "    }\n",
       "\n",
       "    .dataframe tbody tr th {\n",
       "        vertical-align: top;\n",
       "    }\n",
       "\n",
       "    .dataframe thead th {\n",
       "        text-align: right;\n",
       "    }\n",
       "</style>\n",
       "<table border=\"1\" class=\"dataframe\">\n",
       "  <thead>\n",
       "    <tr style=\"text-align: right;\">\n",
       "      <th></th>\n",
       "      <th>norm_X</th>\n",
       "      <th>topic</th>\n",
       "    </tr>\n",
       "  </thead>\n",
       "  <tbody>\n",
       "    <tr>\n",
       "      <th>0</th>\n",
       "      <td>subject : tell cam sluts removed please click simply respond email . address removed blocked ever added . please scroll bottom email details . shows live right ! ahotsexycouple sensuality candice ...</td>\n",
       "      <td>1</td>\n",
       "    </tr>\n",
       "    <tr>\n",
       "      <th>1</th>\n",
       "      <td>subject : rw : howard confirmation vince hi vince - please examine . think ' going happen confirmation - need sleep ' : pst - ' need hours sleep ' . . . add time difference ' available , service (...</td>\n",
       "      <td>3</td>\n",
       "    </tr>\n",
       "    <tr>\n",
       "      <th>2</th>\n",
       "      <td>subject : interview schedule jinbaek kim please find interview packet - referenced candidate . interview occur friday january , . please print documents reference . questions , conflicts schedule ...</td>\n",
       "      <td>3</td>\n",
       "    </tr>\n",
       "    <tr>\n",
       "      <th>3</th>\n",
       "      <td>subject : contact information dear mr . kaminski , sent resume well respected company weeks ago regards establishing long - lasting career . never received response wondering knew charge electric ...</td>\n",
       "      <td>3</td>\n",
       "    </tr>\n",
       "    <tr>\n",
       "      <th>4</th>\n",
       "      <td>subject : proposal submission francois kent , hope proposal reaches time consideration upcoming fma - european meeting . normally ' like commit proposal case ' comfortable light status project . s...</td>\n",
       "      <td>0</td>\n",
       "    </tr>\n",
       "    <tr>\n",
       "      <th>5</th>\n",
       "      <td>subject : generic viagra prices include free online prescription . medication - low price education life . high thoughts must high language . living easy eyes closed , misunderstanding see .</td>\n",
       "      <td>1</td>\n",
       "    </tr>\n",
       "    <tr>\n",
       "      <th>6</th>\n",
       "      <td>subject : : risk ' advanced stress testing course dear , asked give talk use copulas stress testing risk conference . ' really work directly sorts things anymore would need help putting anything t...</td>\n",
       "      <td>0</td>\n",
       "    </tr>\n",
       "    <tr>\n",
       "      <th>7</th>\n",
       "      <td>subject : : houston visit vince kaminski good afternoon shirley , great vince available / . w . r . . attached vince , let ' go afternoon slot / . look forward seeing @ lpm / . great w / e . many ...</td>\n",
       "      <td>3</td>\n",
       "    </tr>\n",
       "    <tr>\n",
       "      <th>8</th>\n",
       "      <td>subject : new pc two mb ram shirley , upgrade maureen ? vince - - - - - - - - - - - - - - - - - - - - - - forwarded vince j kaminski / hou / ect / / : pm - - - - - - - - - - - - - - - - - - - - - ...</td>\n",
       "      <td>3</td>\n",
       "    </tr>\n",
       "    <tr>\n",
       "      <th>9</th>\n",
       "      <td>subject : times filing units pat : recently , talked ordering another filing unit . turns need filing units . please order size floor ceiling cabinet . inside cabinets configured follows : cabinet...</td>\n",
       "      <td>4</td>\n",
       "    </tr>\n",
       "  </tbody>\n",
       "</table>\n",
       "</div>"
      ],
      "text/plain": [
       "                                                                                                                                                                                                    norm_X  \\\n",
       "0  subject : tell cam sluts removed please click simply respond email . address removed blocked ever added . please scroll bottom email details . shows live right ! ahotsexycouple sensuality candice ...   \n",
       "1  subject : rw : howard confirmation vince hi vince - please examine . think ' going happen confirmation - need sleep ' : pst - ' need hours sleep ' . . . add time difference ' available , service (...   \n",
       "2  subject : interview schedule jinbaek kim please find interview packet - referenced candidate . interview occur friday january , . please print documents reference . questions , conflicts schedule ...   \n",
       "3  subject : contact information dear mr . kaminski , sent resume well respected company weeks ago regards establishing long - lasting career . never received response wondering knew charge electric ...   \n",
       "4  subject : proposal submission francois kent , hope proposal reaches time consideration upcoming fma - european meeting . normally ' like commit proposal case ' comfortable light status project . s...   \n",
       "5           subject : generic viagra prices include free online prescription . medication - low price education life . high thoughts must high language . living easy eyes closed , misunderstanding see .   \n",
       "6  subject : : risk ' advanced stress testing course dear , asked give talk use copulas stress testing risk conference . ' really work directly sorts things anymore would need help putting anything t...   \n",
       "7  subject : : houston visit vince kaminski good afternoon shirley , great vince available / . w . r . . attached vince , let ' go afternoon slot / . look forward seeing @ lpm / . great w / e . many ...   \n",
       "8  subject : new pc two mb ram shirley , upgrade maureen ? vince - - - - - - - - - - - - - - - - - - - - - - forwarded vince j kaminski / hou / ect / / : pm - - - - - - - - - - - - - - - - - - - - - ...   \n",
       "9  subject : times filing units pat : recently , talked ordering another filing unit . turns need filing units . please order size floor ceiling cabinet . inside cabinets configured follows : cabinet...   \n",
       "\n",
       "   topic  \n",
       "0      1  \n",
       "1      3  \n",
       "2      3  \n",
       "3      3  \n",
       "4      0  \n",
       "5      1  \n",
       "6      0  \n",
       "7      3  \n",
       "8      3  \n",
       "9      4  "
      ]
     },
     "execution_count": 160,
     "metadata": {},
     "output_type": "execute_result"
    }
   ],
   "source": [
    "norm_emails.head(10)"
   ]
  },
  {
   "cell_type": "code",
   "execution_count": 162,
   "metadata": {
    "scrolled": false
   },
   "outputs": [
    {
     "data": {
      "image/png": "[encoded data removed]",
      "text/plain": [
       "<Figure size 432x288 with 1 Axes>"
      ]
     },
     "metadata": {
      "needs_background": "light"
     },
     "output_type": "display_data"
    }
   ],
   "source": [
    "import seaborn as sns\n",
    "plt.figure(figsize=(6,4))\n",
    "sns.set_context('talk') \n",
    "sns.countplot(y=norm_emails['topic'], palette=\"plasma\")\n",
    "plt.title('Topic Distribution');"
   ]
  },
  {
   "cell_type": "code",
   "execution_count": 163,
   "metadata": {},
   "outputs": [
    {
     "name": "stdout",
     "output_type": "stream",
     "text": [
      "absence\n",
      "abreast\n",
      "abn\n",
      "abroad\n",
      "aaldous\n",
      "ab\n"
     ]
    }
   ],
   "source": [
    "import random\n",
    "for i in range(6):\n",
    "    random_word_id = random.randint(0,12)\n",
    "    print(cv.get_feature_names()[random_word_id])"
   ]
  },
  {
   "cell_type": "markdown",
   "metadata": {},
   "source": [
    "Use the components index to find a single topic for each array as an example"
   ]
  },
  {
   "cell_type": "code",
   "execution_count": 164,
   "metadata": {},
   "outputs": [],
   "source": [
    "single_topic = lda.components_[2]"
   ]
  },
  {
   "cell_type": "code",
   "execution_count": 165,
   "metadata": {},
   "outputs": [
    {
     "data": {
      "text/plain": [
       "array([1663,  553, 3511, ..., 6015, 3144, 1179])"
      ]
     },
     "execution_count": 165,
     "metadata": {},
     "output_type": "execute_result"
    }
   ],
   "source": [
    "single_topic.argsort()"
   ]
  },
  {
   "cell_type": "code",
   "execution_count": 166,
   "metadata": {},
   "outputs": [
    {
     "data": {
      "text/plain": [
       "0.20217722737797286"
      ]
     },
     "execution_count": 166,
     "metadata": {},
     "output_type": "execute_result"
    },
    {
     "data": {
      "text/plain": [
       "array([6048, 5630, 1178, 4318,  811, 3847, 3266, 6015, 3144, 1179])"
      ]
     },
     "execution_count": 166,
     "metadata": {},
     "output_type": "execute_result"
    },
    {
     "name": "stdout",
     "output_type": "stream",
     "text": [
      "stock\n",
      "security\n",
      "companies\n",
      "oil\n",
      "business\n",
      "market\n",
      "investment\n",
      "statements\n",
      "information\n",
      "company\n"
     ]
    }
   ],
   "source": [
    "single_topic[100]\n",
    "#Top 10 words for this topic at the number 1055 email.\n",
    "\n",
    "single_topic.argsort()[-10:]\n",
    "\n",
    "top_word_indices = single_topic.argsort()[-10:]\n",
    "#Get the text information of this top 10 words\n",
    "\n",
    "for index in top_word_indices:\n",
    "    print(cv.get_feature_names()[index])"
   ]
  },
  {
   "cell_type": "markdown",
   "metadata": {},
   "source": [
    "\n",
    "## Deep learning Methods\n",
    "\n",
    "### Implementing a word2vec model using a CBOW (Continuous Bag of Words) neural network architecture\n"
   ]
  },
  {
   "cell_type": "markdown",
   "metadata": {},
   "source": [
    "#### Build the corpus vocabulary( use the normolize X matrix previously)"
   ]
  },
  {
   "cell_type": "code",
   "execution_count": 169,
   "metadata": {},
   "outputs": [
    {
     "data": {
      "text/plain": [
       "(1000,)"
      ]
     },
     "execution_count": 169,
     "metadata": {},
     "output_type": "execute_result"
    }
   ],
   "source": [
    "norm_X.shape"
   ]
  },
  {
   "cell_type": "code",
   "execution_count": 170,
   "metadata": {},
   "outputs": [
    {
     "name": "stdout",
     "output_type": "stream",
     "text": [
      "Vocabulary Size: 15177\n",
      "Vocabulary Sample: [('enron', 1), (\"'\", 2), ('ect', 3), ('subject', 4), ('vince', 5), ('com', 6), ('hou', 7), ('please', 8), ('kaminski', 9), ('would', 10)]\n"
     ]
    }
   ],
   "source": [
    "from keras.preprocessing import text\n",
    "from keras.utils import np_utils\n",
    "from keras.preprocessing import sequence\n",
    "\n",
    "tokenizer = text.Tokenizer()\n",
    "tokenizer.fit_on_texts(norm_X)\n",
    "word2id = tokenizer.word_index\n",
    "\n",
    "word2id['PAD'] = 0\n",
    "id2word = {v:k for k, v in word2id.items()}\n",
    "wids = [[word2id[w] for w in text.text_to_word_sequence(doc)] for doc in norm_X]\n",
    "\n",
    "vocab_size = len(word2id)\n",
    "embed_size = 100\n",
    "window_size = 2\n",
    "\n",
    "print('Vocabulary Size:', vocab_size)\n",
    "print('Vocabulary Sample:', list(word2id.items())[:10])"
   ]
  },
  {
   "cell_type": "markdown",
   "metadata": {},
   "source": [
    "### Build (context_words, target_word) pair generator"
   ]
  },
  {
   "cell_type": "code",
   "execution_count": 171,
   "metadata": {},
   "outputs": [],
   "source": [
    "def generate_context_word_pairs(corpus, window_size, vocab_size):\n",
    "    context_length = window_size*2\n",
    "    for words in corpus:\n",
    "        sentence_length = len(words)\n",
    "        for index, word in enumerate(words):\n",
    "            context_words = []\n",
    "            label_word   = []            \n",
    "            start = index - window_size\n",
    "            end = index + window_size + 1\n",
    "            \n",
    "            context_words.append([words[i] \n",
    "                                 for i in range(start, end) \n",
    "                                 if 0 <= i < sentence_length \n",
    "                                 and i != index])\n",
    "            label_word.append(word)\n",
    "\n",
    "            x = sequence.pad_sequences(context_words, maxlen=context_length)\n",
    "            y = np_utils.to_categorical(label_word, vocab_size)\n",
    "            yield (x, y)"
   ]
  },
  {
   "cell_type": "code",
   "execution_count": 172,
   "metadata": {},
   "outputs": [
    {
     "name": "stdout",
     "output_type": "stream",
     "text": [
      "Context (X): ['subject', 'tell', 'sluts', 'removed'] -> Target (Y): cam\n",
      "Context (X): ['tell', 'cam', 'removed', 'please'] -> Target (Y): sluts\n",
      "Context (X): ['cam', 'sluts', 'please', 'click'] -> Target (Y): removed\n",
      "Context (X): ['sluts', 'removed', 'click', 'simply'] -> Target (Y): please\n",
      "Context (X): ['removed', 'please', 'simply', 'respond'] -> Target (Y): click\n",
      "Context (X): ['please', 'click', 'respond', 'email'] -> Target (Y): simply\n",
      "Context (X): ['click', 'simply', 'email', 'address'] -> Target (Y): respond\n",
      "Context (X): ['simply', 'respond', 'address', 'removed'] -> Target (Y): email\n",
      "Context (X): ['respond', 'email', 'removed', 'blocked'] -> Target (Y): address\n",
      "Context (X): ['email', 'address', 'blocked', 'ever'] -> Target (Y): removed\n",
      "Context (X): ['address', 'removed', 'ever', 'added'] -> Target (Y): blocked\n"
     ]
    }
   ],
   "source": [
    "i = 0\n",
    "for x, y in generate_context_word_pairs(corpus=wids, window_size=window_size, vocab_size=vocab_size):\n",
    "    if 0 not in x[0]:\n",
    "        print('Context (X):', [id2word[w] for w in x[0]], '-> Target (Y):', id2word[np.argwhere(y[0])[0][0]])\n",
    "    \n",
    "        if i == 10:\n",
    "            break\n",
    "        i += 1"
   ]
  },
  {
   "cell_type": "markdown",
   "metadata": {},
   "source": [
    "### Build CBOW Deep Network Model"
   ]
  },
  {
   "cell_type": "code",
   "execution_count": 173,
   "metadata": {
    "scrolled": true
   },
   "outputs": [
    {
     "name": "stdout",
     "output_type": "stream",
     "text": [
      "Model: \"sequential\"\n",
      "_________________________________________________________________\n",
      "Layer (type)                 Output Shape              Param #   \n",
      "=================================================================\n",
      "embedding (Embedding)        (None, 4, 100)            1517700   \n",
      "_________________________________________________________________\n",
      "lambda (Lambda)              (None, 100)               0         \n",
      "_________________________________________________________________\n",
      "dense (Dense)                (None, 15177)             1532877   \n",
      "=================================================================\n",
      "Total params: 3,050,577\n",
      "Trainable params: 3,050,577\n",
      "Non-trainable params: 0\n",
      "_________________________________________________________________\n",
      "None\n"
     ]
    }
   ],
   "source": [
    "import keras.backend as K\n",
    "from keras.models import Sequential\n",
    "from keras.layers import Dense, Embedding, Lambda\n",
    "\n",
    "cbow = Sequential()\n",
    "cbow.add(Embedding(input_dim=vocab_size, output_dim=embed_size, input_length=window_size*2))\n",
    "cbow.add(Lambda(lambda x: K.mean(x, axis=1), output_shape=(embed_size,)))\n",
    "cbow.add(Dense(vocab_size, activation='softmax'))\n",
    "\n",
    "cbow.compile(loss='categorical_crossentropy', optimizer='rmsprop')\n",
    "print(cbow.summary())\n"
   ]
  },
  {
   "cell_type": "code",
   "execution_count": 174,
   "metadata": {},
   "outputs": [
    {
     "data": {
      "image/svg+xml": [
       "<svg xmlns=\"http://www.w3.org/2000/svg\" xmlns:xlink=\"http://www.w3.org/1999/xlink\" width=\"289pt\" height=\"405pt\" viewBox=\"0.00 0.00 217.00 304.00\">\n",
       "<g id=\"graph0\" class=\"graph\" transform=\"scale(1.33 1.33) rotate(0) translate(4 300)\">\n",
       "<title>G</title>\n",
       "<polygon fill=\"white\" stroke=\"transparent\" points=\"-4,4 -4,-300 213,-300 213,4 -4,4\"/>\n",
       "<!-- 140537649424368 -->\n",
       "<g id=\"node1\" class=\"node\">\n",
       "<title>140537649424368</title>\n",
       "<polygon fill=\"none\" stroke=\"black\" points=\"11,-249.5 11,-295.5 198,-295.5 198,-249.5 11,-249.5\"/>\n",
       "<text text-anchor=\"middle\" x=\"49.5\" y=\"-268.8\" font-family=\"Times,serif\" font-size=\"14.00\">InputLayer</text>\n",
       "<polyline fill=\"none\" stroke=\"black\" points=\"88,-249.5 88,-295.5 \"/>\n",
       "<text text-anchor=\"middle\" x=\"115.5\" y=\"-280.3\" font-family=\"Times,serif\" font-size=\"14.00\">input:</text>\n",
       "<polyline fill=\"none\" stroke=\"black\" points=\"88,-272.5 143,-272.5 \"/>\n",
       "<text text-anchor=\"middle\" x=\"115.5\" y=\"-257.3\" font-family=\"Times,serif\" font-size=\"14.00\">output:</text>\n",
       "<polyline fill=\"none\" stroke=\"black\" points=\"143,-249.5 143,-295.5 \"/>\n",
       "<text text-anchor=\"middle\" x=\"170.5\" y=\"-280.3\" font-family=\"Times,serif\" font-size=\"14.00\">[(?, 4)]</text>\n",
       "<polyline fill=\"none\" stroke=\"black\" points=\"143,-272.5 198,-272.5 \"/>\n",
       "<text text-anchor=\"middle\" x=\"170.5\" y=\"-257.3\" font-family=\"Times,serif\" font-size=\"14.00\">[(?, 4)]</text>\n",
       "</g>\n",
       "<!-- 140538628384560 -->\n",
       "<g id=\"node2\" class=\"node\">\n",
       "<title>140538628384560</title>\n",
       "<polygon fill=\"none\" stroke=\"black\" points=\"0,-166.5 0,-212.5 209,-212.5 209,-166.5 0,-166.5\"/>\n",
       "<text text-anchor=\"middle\" x=\"40\" y=\"-185.8\" font-family=\"Times,serif\" font-size=\"14.00\">Embedding</text>\n",
       "<polyline fill=\"none\" stroke=\"black\" points=\"80,-166.5 80,-212.5 \"/>\n",
       "<text text-anchor=\"middle\" x=\"107.5\" y=\"-197.3\" font-family=\"Times,serif\" font-size=\"14.00\">input:</text>\n",
       "<polyline fill=\"none\" stroke=\"black\" points=\"80,-189.5 135,-189.5 \"/>\n",
       "<text text-anchor=\"middle\" x=\"107.5\" y=\"-174.3\" font-family=\"Times,serif\" font-size=\"14.00\">output:</text>\n",
       "<polyline fill=\"none\" stroke=\"black\" points=\"135,-166.5 135,-212.5 \"/>\n",
       "<text text-anchor=\"middle\" x=\"172\" y=\"-197.3\" font-family=\"Times,serif\" font-size=\"14.00\">(?, 4)</text>\n",
       "<polyline fill=\"none\" stroke=\"black\" points=\"135,-189.5 209,-189.5 \"/>\n",
       "<text text-anchor=\"middle\" x=\"172\" y=\"-174.3\" font-family=\"Times,serif\" font-size=\"14.00\">(?, 4, 100)</text>\n",
       "</g>\n",
       "<!-- 140537649424368&#45;&gt;140538628384560 -->\n",
       "<g id=\"edge1\" class=\"edge\">\n",
       "<title>140537649424368-&gt;140538628384560</title>\n",
       "<path fill=\"none\" stroke=\"black\" d=\"M104.5,-249.37C104.5,-241.15 104.5,-231.66 104.5,-222.73\"/>\n",
       "<polygon fill=\"black\" stroke=\"black\" points=\"108,-222.61 104.5,-212.61 101,-222.61 108,-222.61\"/>\n",
       "</g>\n",
       "<!-- 140537649426000 -->\n",
       "<g id=\"node3\" class=\"node\">\n",
       "<title>140537649426000</title>\n",
       "<polygon fill=\"none\" stroke=\"black\" points=\"9,-83.5 9,-129.5 200,-129.5 200,-83.5 9,-83.5\"/>\n",
       "<text text-anchor=\"middle\" x=\"40\" y=\"-102.8\" font-family=\"Times,serif\" font-size=\"14.00\">Lambda</text>\n",
       "<polyline fill=\"none\" stroke=\"black\" points=\"71,-83.5 71,-129.5 \"/>\n",
       "<text text-anchor=\"middle\" x=\"98.5\" y=\"-114.3\" font-family=\"Times,serif\" font-size=\"14.00\">input:</text>\n",
       "<polyline fill=\"none\" stroke=\"black\" points=\"71,-106.5 126,-106.5 \"/>\n",
       "<text text-anchor=\"middle\" x=\"98.5\" y=\"-91.3\" font-family=\"Times,serif\" font-size=\"14.00\">output:</text>\n",
       "<polyline fill=\"none\" stroke=\"black\" points=\"126,-83.5 126,-129.5 \"/>\n",
       "<text text-anchor=\"middle\" x=\"163\" y=\"-114.3\" font-family=\"Times,serif\" font-size=\"14.00\">(?, 4, 100)</text>\n",
       "<polyline fill=\"none\" stroke=\"black\" points=\"126,-106.5 200,-106.5 \"/>\n",
       "<text text-anchor=\"middle\" x=\"163\" y=\"-91.3\" font-family=\"Times,serif\" font-size=\"14.00\">(?, 100)</text>\n",
       "</g>\n",
       "<!-- 140538628384560&#45;&gt;140537649426000 -->\n",
       "<g id=\"edge2\" class=\"edge\">\n",
       "<title>140538628384560-&gt;140537649426000</title>\n",
       "<path fill=\"none\" stroke=\"black\" d=\"M104.5,-166.37C104.5,-158.15 104.5,-148.66 104.5,-139.73\"/>\n",
       "<polygon fill=\"black\" stroke=\"black\" points=\"108,-139.61 104.5,-129.61 101,-139.61 108,-139.61\"/>\n",
       "</g>\n",
       "<!-- 140537649426240 -->\n",
       "<g id=\"node4\" class=\"node\">\n",
       "<title>140537649426240</title>\n",
       "<polygon fill=\"none\" stroke=\"black\" points=\"15.5,-0.5 15.5,-46.5 193.5,-46.5 193.5,-0.5 15.5,-0.5\"/>\n",
       "<text text-anchor=\"middle\" x=\"40.5\" y=\"-19.8\" font-family=\"Times,serif\" font-size=\"14.00\">Dense</text>\n",
       "<polyline fill=\"none\" stroke=\"black\" points=\"65.5,-0.5 65.5,-46.5 \"/>\n",
       "<text text-anchor=\"middle\" x=\"93\" y=\"-31.3\" font-family=\"Times,serif\" font-size=\"14.00\">input:</text>\n",
       "<polyline fill=\"none\" stroke=\"black\" points=\"65.5,-23.5 120.5,-23.5 \"/>\n",
       "<text text-anchor=\"middle\" x=\"93\" y=\"-8.3\" font-family=\"Times,serif\" font-size=\"14.00\">output:</text>\n",
       "<polyline fill=\"none\" stroke=\"black\" points=\"120.5,-0.5 120.5,-46.5 \"/>\n",
       "<text text-anchor=\"middle\" x=\"157\" y=\"-31.3\" font-family=\"Times,serif\" font-size=\"14.00\">(?, 100)</text>\n",
       "<polyline fill=\"none\" stroke=\"black\" points=\"120.5,-23.5 193.5,-23.5 \"/>\n",
       "<text text-anchor=\"middle\" x=\"157\" y=\"-8.3\" font-family=\"Times,serif\" font-size=\"14.00\">(?, 15177)</text>\n",
       "</g>\n",
       "<!-- 140537649426000&#45;&gt;140537649426240 -->\n",
       "<g id=\"edge3\" class=\"edge\">\n",
       "<title>140537649426000-&gt;140537649426240</title>\n",
       "<path fill=\"none\" stroke=\"black\" d=\"M104.5,-83.37C104.5,-75.15 104.5,-65.66 104.5,-56.73\"/>\n",
       "<polygon fill=\"black\" stroke=\"black\" points=\"108,-56.61 104.5,-46.61 101,-56.61 108,-56.61\"/>\n",
       "</g>\n",
       "</g>\n",
       "</svg>"
      ],
      "text/plain": [
       "<IPython.core.display.SVG object>"
      ]
     },
     "execution_count": 174,
     "metadata": {},
     "output_type": "execute_result"
    }
   ],
   "source": [
    "from IPython.display import SVG\n",
    "from keras.utils.vis_utils import model_to_dot\n",
    "\n",
    "SVG(model_to_dot(cbow, show_shapes=True, show_layer_names=False, \n",
    "                 rankdir='TB').create(prog='dot', format='svg'))"
   ]
  },
  {
   "cell_type": "markdown",
   "metadata": {},
   "source": [
    "### Get Word Embeddings"
   ]
  },
  {
   "cell_type": "code",
   "execution_count": 175,
   "metadata": {},
   "outputs": [
    {
     "name": "stdout",
     "output_type": "stream",
     "text": [
      "(15176, 100)\n"
     ]
    },
    {
     "data": {
      "text/html": [
       "<div>\n",
       "<style scoped>\n",
       "    .dataframe tbody tr th:only-of-type {\n",
       "        vertical-align: middle;\n",
       "    }\n",
       "\n",
       "    .dataframe tbody tr th {\n",
       "        vertical-align: top;\n",
       "    }\n",
       "\n",
       "    .dataframe thead th {\n",
       "        text-align: right;\n",
       "    }\n",
       "</style>\n",
       "<table border=\"1\" class=\"dataframe\">\n",
       "  <thead>\n",
       "    <tr style=\"text-align: right;\">\n",
       "      <th></th>\n",
       "      <th>0</th>\n",
       "      <th>1</th>\n",
       "      <th>2</th>\n",
       "      <th>3</th>\n",
       "      <th>4</th>\n",
       "      <th>5</th>\n",
       "      <th>6</th>\n",
       "      <th>7</th>\n",
       "      <th>8</th>\n",
       "      <th>9</th>\n",
       "      <th>...</th>\n",
       "      <th>90</th>\n",
       "      <th>91</th>\n",
       "      <th>92</th>\n",
       "      <th>93</th>\n",
       "      <th>94</th>\n",
       "      <th>95</th>\n",
       "      <th>96</th>\n",
       "      <th>97</th>\n",
       "      <th>98</th>\n",
       "      <th>99</th>\n",
       "    </tr>\n",
       "  </thead>\n",
       "  <tbody>\n",
       "    <tr>\n",
       "      <th>'</th>\n",
       "      <td>0.008036</td>\n",
       "      <td>0.023792</td>\n",
       "      <td>0.002024</td>\n",
       "      <td>-0.041122</td>\n",
       "      <td>0.026565</td>\n",
       "      <td>-0.041725</td>\n",
       "      <td>-0.041862</td>\n",
       "      <td>0.047056</td>\n",
       "      <td>0.007548</td>\n",
       "      <td>0.008293</td>\n",
       "      <td>...</td>\n",
       "      <td>0.049855</td>\n",
       "      <td>-0.043912</td>\n",
       "      <td>0.003032</td>\n",
       "      <td>-0.019173</td>\n",
       "      <td>-0.042442</td>\n",
       "      <td>-0.000126</td>\n",
       "      <td>0.020413</td>\n",
       "      <td>-0.035107</td>\n",
       "      <td>0.042566</td>\n",
       "      <td>-0.001673</td>\n",
       "    </tr>\n",
       "    <tr>\n",
       "      <th>ect</th>\n",
       "      <td>-0.008831</td>\n",
       "      <td>0.025682</td>\n",
       "      <td>0.002365</td>\n",
       "      <td>0.045508</td>\n",
       "      <td>-0.018489</td>\n",
       "      <td>0.014859</td>\n",
       "      <td>0.041684</td>\n",
       "      <td>-0.023778</td>\n",
       "      <td>-0.019391</td>\n",
       "      <td>0.014879</td>\n",
       "      <td>...</td>\n",
       "      <td>0.010730</td>\n",
       "      <td>-0.033063</td>\n",
       "      <td>-0.043193</td>\n",
       "      <td>0.014330</td>\n",
       "      <td>0.044086</td>\n",
       "      <td>0.040927</td>\n",
       "      <td>0.043833</td>\n",
       "      <td>-0.044263</td>\n",
       "      <td>0.011282</td>\n",
       "      <td>-0.043287</td>\n",
       "    </tr>\n",
       "    <tr>\n",
       "      <th>subject</th>\n",
       "      <td>-0.019471</td>\n",
       "      <td>-0.026221</td>\n",
       "      <td>0.019361</td>\n",
       "      <td>0.040115</td>\n",
       "      <td>0.004983</td>\n",
       "      <td>0.036429</td>\n",
       "      <td>-0.000578</td>\n",
       "      <td>-0.042672</td>\n",
       "      <td>-0.004102</td>\n",
       "      <td>-0.007365</td>\n",
       "      <td>...</td>\n",
       "      <td>0.010845</td>\n",
       "      <td>-0.015922</td>\n",
       "      <td>0.003866</td>\n",
       "      <td>-0.023069</td>\n",
       "      <td>-0.043907</td>\n",
       "      <td>0.019750</td>\n",
       "      <td>-0.014535</td>\n",
       "      <td>0.041427</td>\n",
       "      <td>0.035077</td>\n",
       "      <td>-0.018436</td>\n",
       "    </tr>\n",
       "    <tr>\n",
       "      <th>vince</th>\n",
       "      <td>-0.019818</td>\n",
       "      <td>0.013468</td>\n",
       "      <td>-0.038594</td>\n",
       "      <td>-0.017822</td>\n",
       "      <td>-0.003330</td>\n",
       "      <td>0.044869</td>\n",
       "      <td>-0.041612</td>\n",
       "      <td>0.037975</td>\n",
       "      <td>-0.014966</td>\n",
       "      <td>-0.033010</td>\n",
       "      <td>...</td>\n",
       "      <td>0.004188</td>\n",
       "      <td>-0.033888</td>\n",
       "      <td>0.040005</td>\n",
       "      <td>0.025509</td>\n",
       "      <td>-0.044187</td>\n",
       "      <td>0.005174</td>\n",
       "      <td>-0.016263</td>\n",
       "      <td>0.013015</td>\n",
       "      <td>-0.013582</td>\n",
       "      <td>0.041587</td>\n",
       "    </tr>\n",
       "    <tr>\n",
       "      <th>com</th>\n",
       "      <td>0.016095</td>\n",
       "      <td>0.019910</td>\n",
       "      <td>-0.004204</td>\n",
       "      <td>0.039569</td>\n",
       "      <td>0.025022</td>\n",
       "      <td>-0.020122</td>\n",
       "      <td>-0.014786</td>\n",
       "      <td>-0.005085</td>\n",
       "      <td>-0.004139</td>\n",
       "      <td>0.036077</td>\n",
       "      <td>...</td>\n",
       "      <td>-0.022290</td>\n",
       "      <td>0.013701</td>\n",
       "      <td>-0.028338</td>\n",
       "      <td>-0.014771</td>\n",
       "      <td>-0.010869</td>\n",
       "      <td>-0.013040</td>\n",
       "      <td>0.003796</td>\n",
       "      <td>-0.026331</td>\n",
       "      <td>0.008813</td>\n",
       "      <td>-0.022632</td>\n",
       "    </tr>\n",
       "  </tbody>\n",
       "</table>\n",
       "<p>5 rows × 100 columns</p>\n",
       "</div>"
      ],
      "text/plain": [
       "               0         1         2         3         4         5         6   \\\n",
       "'        0.008036  0.023792  0.002024 -0.041122  0.026565 -0.041725 -0.041862   \n",
       "ect     -0.008831  0.025682  0.002365  0.045508 -0.018489  0.014859  0.041684   \n",
       "subject -0.019471 -0.026221  0.019361  0.040115  0.004983  0.036429 -0.000578   \n",
       "vince   -0.019818  0.013468 -0.038594 -0.017822 -0.003330  0.044869 -0.041612   \n",
       "com      0.016095  0.019910 -0.004204  0.039569  0.025022 -0.020122 -0.014786   \n",
       "\n",
       "               7         8         9   ...        90        91        92  \\\n",
       "'        0.047056  0.007548  0.008293  ...  0.049855 -0.043912  0.003032   \n",
       "ect     -0.023778 -0.019391  0.014879  ...  0.010730 -0.033063 -0.043193   \n",
       "subject -0.042672 -0.004102 -0.007365  ...  0.010845 -0.015922  0.003866   \n",
       "vince    0.037975 -0.014966 -0.033010  ...  0.004188 -0.033888  0.040005   \n",
       "com     -0.005085 -0.004139  0.036077  ... -0.022290  0.013701 -0.028338   \n",
       "\n",
       "               93        94        95        96        97        98        99  \n",
       "'       -0.019173 -0.042442 -0.000126  0.020413 -0.035107  0.042566 -0.001673  \n",
       "ect      0.014330  0.044086  0.040927  0.043833 -0.044263  0.011282 -0.043287  \n",
       "subject -0.023069 -0.043907  0.019750 -0.014535  0.041427  0.035077 -0.018436  \n",
       "vince    0.025509 -0.044187  0.005174 -0.016263  0.013015 -0.013582  0.041587  \n",
       "com     -0.014771 -0.010869 -0.013040  0.003796 -0.026331  0.008813 -0.022632  \n",
       "\n",
       "[5 rows x 100 columns]"
      ]
     },
     "execution_count": 175,
     "metadata": {},
     "output_type": "execute_result"
    }
   ],
   "source": [
    "weights = cbow.get_weights()[0]\n",
    "weights = weights[1:]\n",
    "print(weights.shape)\n",
    "\n",
    "pd.DataFrame(weights, index=list(id2word.values())[1:]).head()"
   ]
  },
  {
   "cell_type": "markdown",
   "metadata": {},
   "source": [
    "### Build a distance matrix to view the most similar words (contextually)"
   ]
  },
  {
   "cell_type": "code",
   "execution_count": 145,
   "metadata": {},
   "outputs": [
    {
     "name": "stdout",
     "output_type": "stream",
     "text": [
      "(16096, 16096)\n"
     ]
    },
    {
     "data": {
      "text/plain": [
       "{'march': ['january', 'april', '23', 'feb', 'february'],\n",
       " 'options': ['real', 'presentation', 'analysis', 'recovery', 'grade'],\n",
       " 'vince': ['week', 'last', 'thank', 'next', 'wanted'],\n",
       " 'real': ['ball', 'partners', 'wide', 'theory', 'write'],\n",
       " 'conference': ['presentation', 'call', 'electric', 'professor', 'real'],\n",
       " 'try': ['tough', 'rest', 'result', 'keep', 'buying'],\n",
       " 'secretary': ['certainly', 'uc', 'worked', 'videoconferencing', 'clean'],\n",
       " 'something': ['immediately', 'worried', 'inn', 'cheers', 'personnel']}"
      ]
     },
     "execution_count": 145,
     "metadata": {},
     "output_type": "execute_result"
    }
   ],
   "source": [
    "from sklearn.metrics.pairwise import euclidean_distances\n",
    "\n",
    "# compute pairwise distance matrix\n",
    "distance_matrix = euclidean_distances(weights)\n",
    "print(distance_matrix.shape)\n",
    "\n",
    "# view contextually similar words\n",
    "similar_words = {search_term: [id2word[idx] for idx in distance_matrix[word2id[search_term]-1].argsort()[1:6]+1] \n",
    "                   for search_term in ['march', 'options', 'vince', 'real', 'conference', 'try', 'secretary','something']}\n",
    "\n",
    "similar_words"
   ]
  },
  {
   "cell_type": "markdown",
   "metadata": {},
   "source": [
    "### Implementing a word2vec model using a skip-gram neural network architecture"
   ]
  },
  {
   "cell_type": "code",
   "execution_count": 176,
   "metadata": {},
   "outputs": [
    {
     "name": "stdout",
     "output_type": "stream",
     "text": [
      "Vocabulary Size: 15177\n",
      "Vocabulary Sample: [('enron', 1), (\"'\", 2), ('ect', 3), ('subject', 4), ('vince', 5), ('com', 6), ('hou', 7), ('please', 8), ('kaminski', 9), ('would', 10)]\n"
     ]
    }
   ],
   "source": [
    "from keras.preprocessing import text\n",
    "\n",
    "tokenizer = text.Tokenizer()\n",
    "tokenizer.fit_on_texts(norm_X)\n",
    "\n",
    "word2id = tokenizer.word_index\n",
    "id2word = {v:k for k, v in word2id.items()}\n",
    "\n",
    "vocab_size = len(word2id) + 1 \n",
    "embed_size = 100\n",
    "\n",
    "wids = [[word2id[w] for w in text.text_to_word_sequence(doc)] for doc in norm_X]\n",
    "print('Vocabulary Size:', vocab_size)\n",
    "print('Vocabulary Sample:', list(word2id.items())[:10])\n"
   ]
  },
  {
   "cell_type": "markdown",
   "metadata": {},
   "source": [
    " Get the same result of by using  word2vec CBOW"
   ]
  },
  {
   "cell_type": "markdown",
   "metadata": {},
   "source": [
    "#### Build and View sample skip grams ((word1, word2) -> relevancy)"
   ]
  },
  {
   "cell_type": "code",
   "execution_count": 177,
   "metadata": {
    "scrolled": true
   },
   "outputs": [
    {
     "name": "stdout",
     "output_type": "stream",
     "text": [
      "(subject (4), hitch (10486)) -> 0\n",
      "(azcple (8487), shows (1928)) -> 1\n",
      "(link (379), email (14)) -> 1\n",
      "(email (14), tell (757)) -> 1\n",
      "(right (196), lei (8485)) -> 1\n",
      "(way (159), email (14)) -> 1\n",
      "(candice (4362), lando (9482)) -> 0\n",
      "(respond (429), scroll (5152)) -> 1\n",
      "(central (1010), click (132)) -> 1\n",
      "(signup (8489), refinancing (11195)) -> 0\n"
     ]
    }
   ],
   "source": [
    "from keras.preprocessing.sequence import skipgrams\n",
    "\n",
    "# generate skip-grams\n",
    "skip_grams = [skipgrams(wid, vocabulary_size=vocab_size, window_size=10) for wid in wids]\n",
    "\n",
    "# view sample skip-grams\n",
    "pairs, labels = skip_grams[0][0], skip_grams[0][1]\n",
    "for i in range(10):\n",
    "    print(\"({:s} ({:d}), {:s} ({:d})) -> {:d}\".format(\n",
    "          id2word[pairs[i][0]], pairs[i][0], \n",
    "          id2word[pairs[i][1]], pairs[i][1], \n",
    "          labels[i]))"
   ]
  },
  {
   "cell_type": "markdown",
   "metadata": {},
   "source": [
    "#### Build Skip-gram Deep Network Model"
   ]
  },
  {
   "cell_type": "code",
   "execution_count": 157,
   "metadata": {},
   "outputs": [
    {
     "ename": "ImportError",
     "evalue": "cannot import name 'Merge' from 'keras.layers' (/Users/jeanbai/opt/anaconda3/lib/python3.8/site-packages/keras/layers/__init__.py)",
     "output_type": "error",
     "traceback": [
      "\u001b[0;31m---------------------------------------------------------------------------\u001b[0m",
      "\u001b[0;31mImportError\u001b[0m                               Traceback (most recent call last)",
      "\u001b[0;32m<ipython-input-157-b2d397749342>\u001b[0m in \u001b[0;36m<module>\u001b[0;34m\u001b[0m\n\u001b[0;32m----> 1\u001b[0;31m \u001b[0;32mfrom\u001b[0m \u001b[0mkeras\u001b[0m\u001b[0;34m.\u001b[0m\u001b[0mlayers\u001b[0m \u001b[0;32mimport\u001b[0m \u001b[0mMerge\u001b[0m\u001b[0;34m\u001b[0m\u001b[0;34m\u001b[0m\u001b[0m\n\u001b[0m\u001b[1;32m      2\u001b[0m \u001b[0;32mfrom\u001b[0m \u001b[0mkeras\u001b[0m\u001b[0;34m.\u001b[0m\u001b[0mlayers\u001b[0m\u001b[0;34m.\u001b[0m\u001b[0mcore\u001b[0m \u001b[0;32mimport\u001b[0m \u001b[0mDense\u001b[0m\u001b[0;34m,\u001b[0m \u001b[0mReshape\u001b[0m\u001b[0;34m\u001b[0m\u001b[0;34m\u001b[0m\u001b[0m\n\u001b[1;32m      3\u001b[0m \u001b[0;32mfrom\u001b[0m \u001b[0mkeras\u001b[0m\u001b[0;34m.\u001b[0m\u001b[0mlayers\u001b[0m\u001b[0;34m.\u001b[0m\u001b[0membeddings\u001b[0m \u001b[0;32mimport\u001b[0m \u001b[0mEmbedding\u001b[0m\u001b[0;34m\u001b[0m\u001b[0;34m\u001b[0m\u001b[0m\n\u001b[1;32m      4\u001b[0m \u001b[0;32mfrom\u001b[0m \u001b[0mkeras\u001b[0m\u001b[0;34m.\u001b[0m\u001b[0mmodels\u001b[0m \u001b[0;32mimport\u001b[0m \u001b[0mSequential\u001b[0m\u001b[0;34m\u001b[0m\u001b[0;34m\u001b[0m\u001b[0m\n\u001b[1;32m      5\u001b[0m \u001b[0;34m\u001b[0m\u001b[0m\n",
      "\u001b[0;31mImportError\u001b[0m: cannot import name 'Merge' from 'keras.layers' (/Users/jeanbai/opt/anaconda3/lib/python3.8/site-packages/keras/layers/__init__.py)"
     ]
    }
   ],
   "source": [
    "from keras.layers import Merge\n",
    "from keras.layers.core import Dense, Reshape\n",
    "from keras.layers.embeddings import Embedding\n",
    "from keras.models import Sequential\n",
    "\n",
    "word_model = Sequential()\n",
    "word_model.add(Embedding(vocab_size, embed_size,\n",
    "                         embeddings_initializer=\"glorot_uniform\",\n",
    "                         input_length=1))\n",
    "word_model.add(Reshape((embed_size, )))\n",
    "\n",
    "context_model = Sequential()\n",
    "context_model.add(Embedding(vocab_size, embed_size,\n",
    "                  embeddings_initializer=\"glorot_uniform\",\n",
    "                  input_length=1))\n",
    "context_model.add(Reshape((embed_size,)))\n",
    "\n",
    "model = Sequential()\n",
    "model.add(Merge([word_model, context_model], mode=\"dot\"))\n",
    "model.add(Dense(1, kernel_initializer=\"glorot_uniform\", activation=\"sigmoid\"))\n",
    "model.compile(loss=\"mean_squared_error\", optimizer=\"rmsprop\")\n",
    "print(model.summary())"
   ]
  },
  {
   "cell_type": "code",
   "execution_count": 158,
   "metadata": {
    "scrolled": true
   },
   "outputs": [
    {
     "data": {
      "text/plain": [
       "''"
      ]
     },
     "execution_count": 158,
     "metadata": {},
     "output_type": "execute_result"
    },
    {
     "data": {
      "text/plain": [
       "''"
      ]
     },
     "execution_count": 158,
     "metadata": {},
     "output_type": "execute_result"
    }
   ],
   "source": [
    "''''''\n",
    "def test_merge_dot():\n",
    "    i1 = layers.Input(shape=(4,))\n",
    "    i2 = layers.Input(shape=(4,))\n",
    "    o = layers.dot([i1, i2], axes=1)\n",
    "    assert o._keras_shape == (None, 1)\n",
    "    model = models.Model([i1, i2], o)\n",
    "\n",
    "    dot_layer = layers.Dot(axes=1)\n",
    "    o2 = dot_layer([i1, i2])\n",
    "    assert dot_layer.output_shape == (None, 1)\n",
    "\n",
    "    x1 = np.random.random((2, 4))\n",
    "    x2 = np.random.random((2, 4))\n",
    "    out = model.predict([x1, x2])\n",
    "    assert out.shape == (2, 1)\n",
    "    expected = np.zeros((2, 1))\n",
    "    expected[0, 0] = np.dot(x1[0], x2[0])\n",
    "    expected[1, 0] = np.dot(x1[1], x2[1])\n",
    "    assert_allclose(out, expected, atol=1e-4)\n",
    "\n",
    "    # Test with negative tuple of axes.\n",
    "    o = layers.dot([i1, i2], axes=(-1, -1))\n",
    "    assert o._keras_shape == (None, 1)\n",
    "    model = models.Model([i1, i2], o)\n",
    "    out = model.predict([x1, x2])\n",
    "    assert out.shape == (2, 1)\n",
    "    assert_allclose(out, expected, atol=1e-4) \n",
    "''''''"
   ]
  },
  {
   "cell_type": "code",
   "execution_count": null,
   "metadata": {},
   "outputs": [],
   "source": []
  },
  {
   "cell_type": "code",
   "execution_count": null,
   "metadata": {},
   "outputs": [],
   "source": []
  },
  {
   "cell_type": "code",
   "execution_count": null,
   "metadata": {},
   "outputs": [],
   "source": []
  },
  {
   "cell_type": "code",
   "execution_count": null,
   "metadata": {},
   "outputs": [],
   "source": []
  },
  {
   "cell_type": "code",
   "execution_count": null,
   "metadata": {},
   "outputs": [],
   "source": []
  },
  {
   "cell_type": "markdown",
   "metadata": {},
   "source": [
    "## Unsupervised NLP /spaCy"
   ]
  },
  {
   "cell_type": "markdown",
   "metadata": {},
   "source": [
    "we can combine the CountVectorizer and TfidTransformer steps into one using TfidVectorizer:"
   ]
  },
  {
   "cell_type": "code",
   "execution_count": 159,
   "metadata": {
    "scrolled": true
   },
   "outputs": [],
   "source": [
    "import spacy\n",
    "nlp = spacy.load(\"en_core_web_lg\")"
   ]
  },
  {
   "cell_type": "code",
   "execution_count": 178,
   "metadata": {},
   "outputs": [],
   "source": [
    "from sklearn.model_selection import train_test_split\n",
    "\n",
    "X = emails['text']  \n",
    "y = emails['spam']\n",
    "\n",
    "X_train, X_test, y_train, y_test = train_test_split(X, y, test_size=0.33, random_state=123)"
   ]
  },
  {
   "cell_type": "code",
   "execution_count": 176,
   "metadata": {
    "scrolled": false
   },
   "outputs": [
    {
     "data": {
      "text/plain": [
       "(670, 12379)"
      ]
     },
     "execution_count": 176,
     "metadata": {},
     "output_type": "execute_result"
    }
   ],
   "source": [
    "from sklearn.feature_extraction.text import TfidfVectorizer\n",
    "tv = TfidfVectorizer()\n",
    "X_train_tfidf = tv.fit_transform(X_train) # remember to use the original X_train set\n",
    "X_train_tfidf.shape"
   ]
  },
  {
   "cell_type": "code",
   "execution_count": 189,
   "metadata": {},
   "outputs": [
    {
     "data": {
      "text/plain": [
       "scipy.sparse.csr.csr_matrix"
      ]
     },
     "execution_count": 189,
     "metadata": {},
     "output_type": "execute_result"
    }
   ],
   "source": [
    "type(X_train_tfidf)\n"
   ]
  },
  {
   "cell_type": "code",
   "execution_count": 190,
   "metadata": {},
   "outputs": [
    {
     "data": {
      "text/plain": [
       "pandas.core.series.Series"
      ]
     },
     "execution_count": 190,
     "metadata": {},
     "output_type": "execute_result"
    }
   ],
   "source": [
    "type(y_train)"
   ]
  },
  {
   "cell_type": "markdown",
   "metadata": {},
   "source": [
    "### Train a Classifier\n",
    "SVM classifier that's similar to SVC, called LinearSVC. LinearSVC handles sparse input better, and scales well to large numbers of samples."
   ]
  },
  {
   "cell_type": "code",
   "execution_count": 183,
   "metadata": {},
   "outputs": [
    {
     "ename": "ValueError",
     "evalue": "Unknown label type: 'unknown'",
     "output_type": "error",
     "traceback": [
      "\u001b[0;31m---------------------------------------------------------------------------\u001b[0m",
      "\u001b[0;31mValueError\u001b[0m                                Traceback (most recent call last)",
      "\u001b[0;32m<ipython-input-183-55b51270ebc9>\u001b[0m in \u001b[0;36m<module>\u001b[0;34m\u001b[0m\n\u001b[1;32m      1\u001b[0m \u001b[0;32mfrom\u001b[0m \u001b[0msklearn\u001b[0m\u001b[0;34m.\u001b[0m\u001b[0msvm\u001b[0m \u001b[0;32mimport\u001b[0m \u001b[0mLinearSVC\u001b[0m\u001b[0;34m\u001b[0m\u001b[0;34m\u001b[0m\u001b[0m\n\u001b[1;32m      2\u001b[0m \u001b[0mclf\u001b[0m \u001b[0;34m=\u001b[0m \u001b[0mLinearSVC\u001b[0m\u001b[0;34m(\u001b[0m\u001b[0;34m)\u001b[0m\u001b[0;34m\u001b[0m\u001b[0;34m\u001b[0m\u001b[0m\n\u001b[0;32m----> 3\u001b[0;31m \u001b[0mclf\u001b[0m\u001b[0;34m.\u001b[0m\u001b[0mfit\u001b[0m\u001b[0;34m(\u001b[0m\u001b[0mX_train_tfidf\u001b[0m\u001b[0;34m,\u001b[0m \u001b[0my_train\u001b[0m\u001b[0;34m)\u001b[0m\u001b[0;34m\u001b[0m\u001b[0;34m\u001b[0m\u001b[0m\n\u001b[0m",
      "\u001b[0;32m~/opt/anaconda3/lib/python3.8/site-packages/sklearn/svm/_classes.py\u001b[0m in \u001b[0;36mfit\u001b[0;34m(self, X, y, sample_weight)\u001b[0m\n\u001b[1;32m    228\u001b[0m                                    \u001b[0mdtype\u001b[0m\u001b[0;34m=\u001b[0m\u001b[0mnp\u001b[0m\u001b[0;34m.\u001b[0m\u001b[0mfloat64\u001b[0m\u001b[0;34m,\u001b[0m \u001b[0morder\u001b[0m\u001b[0;34m=\u001b[0m\u001b[0;34m\"C\"\u001b[0m\u001b[0;34m,\u001b[0m\u001b[0;34m\u001b[0m\u001b[0;34m\u001b[0m\u001b[0m\n\u001b[1;32m    229\u001b[0m                                    accept_large_sparse=False)\n\u001b[0;32m--> 230\u001b[0;31m         \u001b[0mcheck_classification_targets\u001b[0m\u001b[0;34m(\u001b[0m\u001b[0my\u001b[0m\u001b[0;34m)\u001b[0m\u001b[0;34m\u001b[0m\u001b[0;34m\u001b[0m\u001b[0m\n\u001b[0m\u001b[1;32m    231\u001b[0m         \u001b[0mself\u001b[0m\u001b[0;34m.\u001b[0m\u001b[0mclasses_\u001b[0m \u001b[0;34m=\u001b[0m \u001b[0mnp\u001b[0m\u001b[0;34m.\u001b[0m\u001b[0munique\u001b[0m\u001b[0;34m(\u001b[0m\u001b[0my\u001b[0m\u001b[0;34m)\u001b[0m\u001b[0;34m\u001b[0m\u001b[0;34m\u001b[0m\u001b[0m\n\u001b[1;32m    232\u001b[0m \u001b[0;34m\u001b[0m\u001b[0m\n",
      "\u001b[0;32m~/opt/anaconda3/lib/python3.8/site-packages/sklearn/utils/multiclass.py\u001b[0m in \u001b[0;36mcheck_classification_targets\u001b[0;34m(y)\u001b[0m\n\u001b[1;32m    170\u001b[0m     if y_type not in ['binary', 'multiclass', 'multiclass-multioutput',\n\u001b[1;32m    171\u001b[0m                       'multilabel-indicator', 'multilabel-sequences']:\n\u001b[0;32m--> 172\u001b[0;31m         \u001b[0;32mraise\u001b[0m \u001b[0mValueError\u001b[0m\u001b[0;34m(\u001b[0m\u001b[0;34m\"Unknown label type: %r\"\u001b[0m \u001b[0;34m%\u001b[0m \u001b[0my_type\u001b[0m\u001b[0;34m)\u001b[0m\u001b[0;34m\u001b[0m\u001b[0;34m\u001b[0m\u001b[0m\n\u001b[0m\u001b[1;32m    173\u001b[0m \u001b[0;34m\u001b[0m\u001b[0m\n\u001b[1;32m    174\u001b[0m \u001b[0;34m\u001b[0m\u001b[0m\n",
      "\u001b[0;31mValueError\u001b[0m: Unknown label type: 'unknown'"
     ]
    }
   ],
   "source": [
    "from sklearn.svm import LinearSVC\n",
    "clf = LinearSVC()\n",
    "clf.fit(X_train_tfidf, y_train)"
   ]
  },
  {
   "cell_type": "code",
   "execution_count": 112,
   "metadata": {},
   "outputs": [],
   "source": [
    "from sklearn.pipeline import Pipeline"
   ]
  },
  {
   "cell_type": "code",
   "execution_count": null,
   "metadata": {},
   "outputs": [],
   "source": [
    "text_clf = Pipleline([(\"tfidf\", TfidfVectorizer()),(\"clf\", LinearSVC())])"
   ]
  },
  {
   "cell_type": "code",
   "execution_count": null,
   "metadata": {},
   "outputs": [],
   "source": [
    "text_clf.fit(X_train,y_train)"
   ]
  },
  {
   "cell_type": "code",
   "execution_count": null,
   "metadata": {},
   "outputs": [],
   "source": [
    "predictions = text_clf.predict(X_test)"
   ]
  },
  {
   "cell_type": "code",
   "execution_count": null,
   "metadata": {},
   "outputs": [],
   "source": [
    "# Report the confusion matrix\n",
    "from sklearn import metrics\n",
    "print(metrics.confusion_matrix(y_test,predictions))"
   ]
  },
  {
   "cell_type": "code",
   "execution_count": null,
   "metadata": {},
   "outputs": [],
   "source": [
    "# Print a classification report\n",
    "print(metrics.classification_report(y_test,predictions))"
   ]
  },
  {
   "cell_type": "code",
   "execution_count": null,
   "metadata": {},
   "outputs": [],
   "source": [
    "text_clf.prediction([\"congrate,\"])"
   ]
  },
  {
   "cell_type": "code",
   "execution_count": null,
   "metadata": {},
   "outputs": [],
   "source": []
  },
  {
   "cell_type": "code",
   "execution_count": null,
   "metadata": {},
   "outputs": [],
   "source": []
  },
  {
   "cell_type": "code",
   "execution_count": null,
   "metadata": {},
   "outputs": [],
   "source": []
  },
  {
   "cell_type": "code",
   "execution_count": null,
   "metadata": {},
   "outputs": [],
   "source": []
  }
 ],
 "metadata": {
  "celltoolbar": "Raw Cell Format",
  "kernelspec": {
   "display_name": "Python 3",
   "language": "python",
   "name": "python3"
  },
  "language_info": {
   "codemirror_mode": {
    "name": "ipython",
    "version": 3
   },
   "file_extension": ".py",
   "mimetype": "text/x-python",
   "name": "python",
   "nbconvert_exporter": "python",
   "pygments_lexer": "ipython3",
   "version": "3.8.5"
  }
 },
 "nbformat": 4,
 "nbformat_minor": 2
}
