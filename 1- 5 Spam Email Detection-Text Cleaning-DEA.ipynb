{
 "cells": [
  {
   "cell_type": "markdown",
   "metadata": {},
   "source": [
    "# Spam Emails Detection NLP\n",
    "\n",
    "## Abstarct\n",
    "\n",
    "This project is to use the automated classification method of Natural Language Processing to extract relevant information such as entities, keywords and sentiments from emails for the detection of spams, spam filtering, and profanity. The target variable for this dataset is ‘spam’ in which a spam email is mapped to 1 and anything else is mapped to 0. The target variable can be thought of as what we are trying to predict. In machine learning problems, the value of this variable will be modeled and predicted by other variables. This is a binary classification problems analysis by using the Nature Language Processing to detect unsolicited and unwanted emails. The model created in this project should be able to prevent spam emails from creeping into the user's inbox, thereby improving user experience.\n",
    "\n",
    "\n",
    "## Business Introduction\n",
    "\n",
    "Spam emails can be costly to both individuals and organizations. To effectively handle the threats posted by email spams, there are huge demand for effective spam detection from machine learning techniques . This project we will practice several kind of NLP models to find out the most effective ones. The project will follow with the machine learning lige cycle to solve the following business problems:\n",
    "\n",
    "- Obtain a general data information for Data Cleaning and formatting\n",
    "- PracticeText Processing methods to determine the efficient approaches\n",
    "- Explore data analysis, features engineering and selection\n",
    "- Conduct Regular Expression, Name Entity Recognition and POS\n",
    "- Compare different algorithms to find the best model fitting the data\n",
    "- Determine Model Selection using Accuracy Matrix and other techniques\n",
    "- Find out the similarity words within spam emails and ham emails\n",
    "- Implementation of models to test the result\n",
    "- Determine the advantage and disadvantage of each approaches\n",
    "\n",
    "\n",
    "\n",
    "### Data set information\n",
    "\n",
    "The original dataset is from the opensource “Spambase dataset” of the UCI machine learning repository(https://archive.ics.uci. edu/ml/datasets/spambase). The data source for this project is from Kaggle(https://www.kaggle.com/ karthickveerakumar/spam-filter). There are total 5000 rows of observations with 2 columns of features. For a better practice for bigginer, the data is imported to the file by shuffling and select only 1000 rows for the project.\n",
    "\n"
   ]
  },
  {
   "cell_type": "code",
   "execution_count": 2,
   "metadata": {},
   "outputs": [],
   "source": [
    "import warnings\n",
    "warnings.filterwarnings(\"ignore\")\n",
    "\n",
    "from IPython.core.interactiveshell import InteractiveShell\n",
    "InteractiveShell.ast_node_interactivity = \"all\""
   ]
  },
  {
   "cell_type": "code",
   "execution_count": 3,
   "metadata": {},
   "outputs": [],
   "source": [
    "import numpy as np\n",
    "import pandas as pd\n",
    "import scipy as sp\n",
    "import matplotlib.pyplot as plt\n",
    "%matplotlib inline\n",
    "\n",
    "import re \n",
    "pd.options.display.max_colwidth = 200\n",
    "import gensim\n"
   ]
  },
  {
   "cell_type": "markdown",
   "metadata": {},
   "source": [
    "## Import dataset and Data Exploration\n",
    "\n",
    "[Source:](https://www.kaggle.com/karthickveerakumar/spam-filter)"
   ]
  },
  {
   "cell_type": "code",
   "execution_count": 4,
   "metadata": {},
   "outputs": [],
   "source": [
    "Emails = pd.read_csv('emails.csv')\n"
   ]
  },
  {
   "cell_type": "code",
   "execution_count": 5,
   "metadata": {},
   "outputs": [],
   "source": [
    "Emails = pd.DataFrame(Emails)"
   ]
  },
  {
   "cell_type": "code",
   "execution_count": 6,
   "metadata": {},
   "outputs": [],
   "source": [
    "Emails.columns = [\"text\",\"spam\"]"
   ]
  },
  {
   "cell_type": "code",
   "execution_count": 7,
   "metadata": {
    "scrolled": false
   },
   "outputs": [
    {
     "data": {
      "text/html": [
       "<div>\n",
       "<style scoped>\n",
       "    .dataframe tbody tr th:only-of-type {\n",
       "        vertical-align: middle;\n",
       "    }\n",
       "\n",
       "    .dataframe tbody tr th {\n",
       "        vertical-align: top;\n",
       "    }\n",
       "\n",
       "    .dataframe thead th {\n",
       "        text-align: right;\n",
       "    }\n",
       "</style>\n",
       "<table border=\"1\" class=\"dataframe\">\n",
       "  <thead>\n",
       "    <tr style=\"text-align: right;\">\n",
       "      <th></th>\n",
       "      <th>text</th>\n",
       "      <th>spam</th>\n",
       "    </tr>\n",
       "  </thead>\n",
       "  <tbody>\n",
       "    <tr>\n",
       "      <th>0</th>\n",
       "      <td>Subject: naturally irresistible your corporate identity  lt is really hard to recollect a company : the  market is full of suqgestions and the information isoverwhelminq ; but a good  catchy logo ...</td>\n",
       "      <td>1</td>\n",
       "    </tr>\n",
       "    <tr>\n",
       "      <th>1</th>\n",
       "      <td>Subject: the stock trading gunslinger  fanny is merrill but muzo not colza attainder and penultimate like esmark perspicuous ramble is segovia not group try slung kansas tanzania yes chameleon or ...</td>\n",
       "      <td>1</td>\n",
       "    </tr>\n",
       "    <tr>\n",
       "      <th>2</th>\n",
       "      <td>Subject: unbelievable new homes made easy  im wanting to show you this  homeowner  you have been pre - approved for a $ 454 , 169 home loan at a 3 . 72 fixed rate .  this offer is being extended t...</td>\n",
       "      <td>1</td>\n",
       "    </tr>\n",
       "    <tr>\n",
       "      <th>3</th>\n",
       "      <td>Subject: 4 color printing special  request additional information now ! click here  click here for a printable version of our order form ( pdf format )  phone : ( 626 ) 338 - 8090 fax : ( 626 ) 33...</td>\n",
       "      <td>1</td>\n",
       "    </tr>\n",
       "    <tr>\n",
       "      <th>4</th>\n",
       "      <td>Subject: do not have money , get software cds from here !  software compatibility . . . . ain ' t it great ?  grow old along with me the best is yet to be .  all tradgedies are finish ' d by death...</td>\n",
       "      <td>1</td>\n",
       "    </tr>\n",
       "  </tbody>\n",
       "</table>\n",
       "</div>"
      ],
      "text/plain": [
       "                                                                                                                                                                                                      text  \\\n",
       "0  Subject: naturally irresistible your corporate identity  lt is really hard to recollect a company : the  market is full of suqgestions and the information isoverwhelminq ; but a good  catchy logo ...   \n",
       "1  Subject: the stock trading gunslinger  fanny is merrill but muzo not colza attainder and penultimate like esmark perspicuous ramble is segovia not group try slung kansas tanzania yes chameleon or ...   \n",
       "2  Subject: unbelievable new homes made easy  im wanting to show you this  homeowner  you have been pre - approved for a $ 454 , 169 home loan at a 3 . 72 fixed rate .  this offer is being extended t...   \n",
       "3  Subject: 4 color printing special  request additional information now ! click here  click here for a printable version of our order form ( pdf format )  phone : ( 626 ) 338 - 8090 fax : ( 626 ) 33...   \n",
       "4  Subject: do not have money , get software cds from here !  software compatibility . . . . ain ' t it great ?  grow old along with me the best is yet to be .  all tradgedies are finish ' d by death...   \n",
       "\n",
       "   spam  \n",
       "0     1  \n",
       "1     1  \n",
       "2     1  \n",
       "3     1  \n",
       "4     1  "
      ]
     },
     "execution_count": 7,
     "metadata": {},
     "output_type": "execute_result"
    }
   ],
   "source": [
    "Emails.head()"
   ]
  },
  {
   "cell_type": "code",
   "execution_count": 8,
   "metadata": {
    "scrolled": true
   },
   "outputs": [
    {
     "data": {
      "text/plain": [
       "'Subject: unbelievable new homes made easy  im wanting to show you this  homeowner  you have been pre - approved for a $ 454 , 169 home loan at a 3 . 72 fixed rate .  this offer is being extended to you unconditionally and your credit is in no way a factor .  to take advantage of this limited time opportunity  all we ask is that you visit our website and complete  the 1 minute post approval form  look foward to hearing from you ,  dorcas pittman'"
      ]
     },
     "execution_count": 8,
     "metadata": {},
     "output_type": "execute_result"
    }
   ],
   "source": [
    "Emails['text'][2]"
   ]
  },
  {
   "cell_type": "code",
   "execution_count": 9,
   "metadata": {},
   "outputs": [
    {
     "data": {
      "text/plain": [
       "pandas.core.series.Series"
      ]
     },
     "execution_count": 9,
     "metadata": {},
     "output_type": "execute_result"
    }
   ],
   "source": [
    "type(Emails[\"text\"])"
   ]
  },
  {
   "cell_type": "code",
   "execution_count": 10,
   "metadata": {
    "scrolled": false
   },
   "outputs": [
    {
     "data": {
      "text/plain": [
       "text    0\n",
       "spam    0\n",
       "dtype: int64"
      ]
     },
     "execution_count": 10,
     "metadata": {},
     "output_type": "execute_result"
    }
   ],
   "source": [
    "Emails.isnull().sum()"
   ]
  },
  {
   "cell_type": "code",
   "execution_count": 11,
   "metadata": {
    "scrolled": false
   },
   "outputs": [
    {
     "data": {
      "text/plain": [
       "0    4360\n",
       "1    1368\n",
       "Name: spam, dtype: int64"
      ]
     },
     "execution_count": 11,
     "metadata": {},
     "output_type": "execute_result"
    }
   ],
   "source": [
    "Emails[\"spam\"].value_counts()"
   ]
  },
  {
   "cell_type": "code",
   "execution_count": 12,
   "metadata": {
    "scrolled": true
   },
   "outputs": [
    {
     "name": "stdout",
     "output_type": "stream",
     "text": [
      "Stored 'Emails' (DataFrame)\n"
     ]
    }
   ],
   "source": [
    "%store \"Emails\""
   ]
  },
  {
   "cell_type": "code",
   "execution_count": 13,
   "metadata": {},
   "outputs": [],
   "source": [
    "email = Emails"
   ]
  },
  {
   "cell_type": "markdown",
   "metadata": {},
   "source": [
    "### Randomly select 1000 rows for this project"
   ]
  },
  {
   "cell_type": "code",
   "execution_count": 14,
   "metadata": {},
   "outputs": [],
   "source": [
    "import random\n",
    "a = random.sample(range(0,5000),1000)\n",
    "email = email.loc[a]\n"
   ]
  },
  {
   "cell_type": "code",
   "execution_count": 15,
   "metadata": {},
   "outputs": [
    {
     "data": {
      "text/plain": [
       "0    717\n",
       "1    283\n",
       "Name: spam, dtype: int64"
      ]
     },
     "execution_count": 15,
     "metadata": {},
     "output_type": "execute_result"
    }
   ],
   "source": [
    "email[\"spam\"].value_counts()"
   ]
  },
  {
   "cell_type": "code",
   "execution_count": 16,
   "metadata": {
    "scrolled": true
   },
   "outputs": [
    {
     "name": "stdout",
     "output_type": "stream",
     "text": [
      "Stored 'email' (DataFrame)\n"
     ]
    }
   ],
   "source": [
    "%store \"email\""
   ]
  },
  {
   "cell_type": "code",
   "execution_count": 17,
   "metadata": {},
   "outputs": [],
   "source": [
    "emails = email"
   ]
  },
  {
   "cell_type": "code",
   "execution_count": 18,
   "metadata": {
    "scrolled": true
   },
   "outputs": [
    {
     "data": {
      "text/plain": [
       "0    717\n",
       "1    283\n",
       "Name: spam, dtype: int64"
      ]
     },
     "execution_count": 18,
     "metadata": {},
     "output_type": "execute_result"
    }
   ],
   "source": [
    "emails[\"spam\"].value_counts()\n"
   ]
  },
  {
   "cell_type": "code",
   "execution_count": 19,
   "metadata": {},
   "outputs": [
    {
     "data": {
      "text/plain": [
       "pandas.core.series.Series"
      ]
     },
     "execution_count": 19,
     "metadata": {},
     "output_type": "execute_result"
    }
   ],
   "source": [
    "type(emails['text'])"
   ]
  },
  {
   "cell_type": "code",
   "execution_count": 20,
   "metadata": {},
   "outputs": [
    {
     "data": {
      "text/html": [
       "<div>\n",
       "<style scoped>\n",
       "    .dataframe tbody tr th:only-of-type {\n",
       "        vertical-align: middle;\n",
       "    }\n",
       "\n",
       "    .dataframe tbody tr th {\n",
       "        vertical-align: top;\n",
       "    }\n",
       "\n",
       "    .dataframe thead th {\n",
       "        text-align: right;\n",
       "    }\n",
       "</style>\n",
       "<table border=\"1\" class=\"dataframe\">\n",
       "  <thead>\n",
       "    <tr style=\"text-align: right;\">\n",
       "      <th></th>\n",
       "      <th>text</th>\n",
       "      <th>spam</th>\n",
       "    </tr>\n",
       "  </thead>\n",
       "  <tbody>\n",
       "    <tr>\n",
       "      <th>97</th>\n",
       "      <td>Subject: do i require an attorney to use this system and clean up my record  calls about late payments are discontinued dead in their tracks .  we have pioneered an advanced system of proven strat...</td>\n",
       "      <td>1</td>\n",
       "    </tr>\n",
       "    <tr>\n",
       "      <th>1889</th>\n",
       "      <td>Subject: ees operational risk  per our conversation , here is the model that i have for simon . the notes  that i gave you were from some work i did back in september as i was looking  for volume ...</td>\n",
       "      <td>0</td>\n",
       "    </tr>\n",
       "    <tr>\n",
       "      <th>3250</th>\n",
       "      <td>Subject: re : hello from vince kaminski at enron  dear vince .  i sent you a reply earlier this month but i haven ' t heard from you about the  date of your visit . our department has a seminar ev...</td>\n",
       "      <td>0</td>\n",
       "    </tr>\n",
       "    <tr>\n",
       "      <th>479</th>\n",
       "      <td>Subject: extraa chance  how to save on your medlcatlons ove pettitoes r 60 % .  pharmazm spurge ail shop - successfull and proven way to save yo compos ur m eureka oney .  slowcoach v  a patriot g...</td>\n",
       "      <td>1</td>\n",
       "    </tr>\n",
       "    <tr>\n",
       "      <th>1517</th>\n",
       "      <td>Subject: re : nick bambos  sounds great . let me know how i can help .  tom  vince j kaminski @ ect  02 / 28 / 00 11 : 42 am  to : thomas d gros / hou / ect @ ect  cc : ravi thuraisingham / enron ...</td>\n",
       "      <td>0</td>\n",
       "    </tr>\n",
       "  </tbody>\n",
       "</table>\n",
       "</div>"
      ],
      "text/plain": [
       "                                                                                                                                                                                                         text  \\\n",
       "97    Subject: do i require an attorney to use this system and clean up my record  calls about late payments are discontinued dead in their tracks .  we have pioneered an advanced system of proven strat...   \n",
       "1889  Subject: ees operational risk  per our conversation , here is the model that i have for simon . the notes  that i gave you were from some work i did back in september as i was looking  for volume ...   \n",
       "3250  Subject: re : hello from vince kaminski at enron  dear vince .  i sent you a reply earlier this month but i haven ' t heard from you about the  date of your visit . our department has a seminar ev...   \n",
       "479   Subject: extraa chance  how to save on your medlcatlons ove pettitoes r 60 % .  pharmazm spurge ail shop - successfull and proven way to save yo compos ur m eureka oney .  slowcoach v  a patriot g...   \n",
       "1517  Subject: re : nick bambos  sounds great . let me know how i can help .  tom  vince j kaminski @ ect  02 / 28 / 00 11 : 42 am  to : thomas d gros / hou / ect @ ect  cc : ravi thuraisingham / enron ...   \n",
       "\n",
       "      spam  \n",
       "97       1  \n",
       "1889     0  \n",
       "3250     0  \n",
       "479      1  \n",
       "1517     0  "
      ]
     },
     "execution_count": 20,
     "metadata": {},
     "output_type": "execute_result"
    }
   ],
   "source": [
    "emails.head()"
   ]
  },
  {
   "cell_type": "markdown",
   "metadata": {},
   "source": [
    "### Visulazaion of the volums of spam emails and none spam emails"
   ]
  },
  {
   "cell_type": "code",
   "execution_count": 21,
   "metadata": {},
   "outputs": [
    {
     "data": {
      "image/png": "[encoded data removed]",
      "text/plain": [
       "<Figure size 432x288 with 1 Axes>"
      ]
     },
     "metadata": {
      "needs_background": "light"
     },
     "output_type": "display_data"
    }
   ],
   "source": [
    "import seaborn as sns\n",
    "plt.figure(figsize=(6,4))\n",
    "sns.set_context('talk') \n",
    "sns.countplot(emails['spam'], palette=\"plasma\")\n",
    "plt.title('spam vs ham');\n"
   ]
  },
  {
   "cell_type": "markdown",
   "metadata": {},
   "source": [
    "### Make word cloud to compare the spam emails and non spam emails\n",
    "\n"
   ]
  },
  {
   "cell_type": "code",
   "execution_count": 22,
   "metadata": {},
   "outputs": [],
   "source": [
    "from os import path\n",
    "from PIL import Image\n",
    "from wordcloud import WordCloud, STOPWORDS, ImageColorGenerator"
   ]
  },
  {
   "cell_type": "markdown",
   "metadata": {},
   "source": [
    "### Make two subset filter by \"spam\" or \"ham\""
   ]
  },
  {
   "cell_type": "code",
   "execution_count": 23,
   "metadata": {},
   "outputs": [
    {
     "data": {
      "text/plain": [
       "(283, 2)"
      ]
     },
     "execution_count": 23,
     "metadata": {},
     "output_type": "execute_result"
    }
   ],
   "source": [
    "spamdf = emails[emails['spam']== 1]\n",
    "spamdf.shape"
   ]
  },
  {
   "cell_type": "code",
   "execution_count": 24,
   "metadata": {},
   "outputs": [
    {
     "data": {
      "text/plain": [
       "(717, 2)"
      ]
     },
     "execution_count": 24,
     "metadata": {},
     "output_type": "execute_result"
    }
   ],
   "source": [
    "hamdf = emails[emails[\"spam\"] == 0]\n",
    "\n",
    "hamdf.shape"
   ]
  },
  {
   "cell_type": "code",
   "execution_count": 25,
   "metadata": {},
   "outputs": [],
   "source": [
    "X_spam= np.array(spamdf['text'])\n",
    "X_ham = np.array(hamdf['text'])"
   ]
  },
  {
   "cell_type": "code",
   "execution_count": 26,
   "metadata": {},
   "outputs": [],
   "source": [
    "doc_spam = np.array_str(X_spam)\n",
    "doc_ham = np.array_str(X_ham)"
   ]
  },
  {
   "cell_type": "code",
   "execution_count": 27,
   "metadata": {
    "scrolled": true
   },
   "outputs": [
    {
     "data": {
      "text/plain": [
       "<matplotlib.image.AxesImage at 0x7f96fe02fb50>"
      ]
     },
     "execution_count": 27,
     "metadata": {},
     "output_type": "execute_result"
    },
    {
     "data": {
      "text/plain": [
       "(-0.5, 399.5, 199.5, -0.5)"
      ]
     },
     "execution_count": 27,
     "metadata": {},
     "output_type": "execute_result"
    },
    {
     "data": {
      "image/png": "[encoded data removed]",
      "text/plain": [
       "<Figure size 432x288 with 1 Axes>"
      ]
     },
     "metadata": {
      "needs_background": "light"
     },
     "output_type": "display_data"
    }
   ],
   "source": [
    "wordcloud = WordCloud().generate(doc_spam)\n",
    "plt.imshow(wordcloud, interpolation='bilinear')\n",
    "plt.axis(\"off\")\n",
    "plt.show()"
   ]
  },
  {
   "cell_type": "code",
   "execution_count": 28,
   "metadata": {},
   "outputs": [
    {
     "data": {
      "image/png": "[encoded data removed]",
      "text/plain": [
       "<Figure size 432x288 with 1 Axes>"
      ]
     },
     "metadata": {
      "needs_background": "light"
     },
     "output_type": "display_data"
    }
   ],
   "source": [
    "wordcloud = WordCloud().generate(doc_ham)\n",
    "wordcloud = WordCloud(max_font_size=50, max_words=100, background_color=\"white\").generate(doc_ham)\n",
    "plt.figure()\n",
    "plt.imshow(wordcloud, interpolation=\"bilinear\")\n",
    "plt.axis(\"off\")\n",
    "plt.show();\n"
   ]
  },
  {
   "cell_type": "markdown",
   "metadata": {},
   "source": [
    "## Text Pre_processing"
   ]
  },
  {
   "cell_type": "markdown",
   "metadata": {},
   "source": [
    "### Simple text-processing"
   ]
  },
  {
   "cell_type": "code",
   "execution_count": 29,
   "metadata": {},
   "outputs": [],
   "source": [
    "emails = email"
   ]
  },
  {
   "cell_type": "code",
   "execution_count": 30,
   "metadata": {},
   "outputs": [],
   "source": [
    "X = np.array(emails['text'])"
   ]
  },
  {
   "cell_type": "code",
   "execution_count": 31,
   "metadata": {},
   "outputs": [],
   "source": [
    "import nltk\n",
    "#nltk.download()\n"
   ]
  },
  {
   "cell_type": "code",
   "execution_count": 32,
   "metadata": {},
   "outputs": [
    {
     "name": "stderr",
     "output_type": "stream",
     "text": [
      "[nltk_data] Downloading package stopwords to\n",
      "[nltk_data]     /Users/jeanbai/nltk_data...\n",
      "[nltk_data]   Package stopwords is already up-to-date!\n"
     ]
    },
    {
     "data": {
      "text/plain": [
       "True"
      ]
     },
     "execution_count": 32,
     "metadata": {},
     "output_type": "execute_result"
    }
   ],
   "source": [
    "\n",
    "from nltk.corpus import stopwords\n",
    "nltk.download('stopwords')\n",
    "from nltk.tokenize import word_tokenize\n",
    "\n",
    "\n",
    "stop_words = nltk.corpus.stopwords.words('english')\n",
    "\n",
    "\n",
    "def normalize_document(doc):\n",
    "    \n",
    "    # remove of hyperlinks\n",
    "    doc = re.sub(r\"http\\S+\", \"\",doc)\n",
    "    # remove of HTML tags\n",
    "    doc = re.sub(r\"'<.*?>''\", \"\",doc)\n",
    "\n",
    "    \n",
    "    # tokenize document\n",
    "    tokens = word_tokenize(doc)\n",
    "    \n",
    "    # filter stopwords out of document\n",
    "    filtered_tokens = [token for token in tokens if token not in stop_words]\n",
    "    # re-create document from filtered tokens\n",
    "    doc = ' '.join(filtered_tokens)\n",
    "    \n",
    "    return doc\n",
    "\n",
    "normalize_corpus = np.vectorize(normalize_document)\n"
   ]
  },
  {
   "cell_type": "code",
   "execution_count": 33,
   "metadata": {},
   "outputs": [],
   "source": [
    "X1 = normalize_corpus(X)"
   ]
  },
  {
   "cell_type": "code",
   "execution_count": 34,
   "metadata": {},
   "outputs": [],
   "source": [
    "X1_df = pd.DataFrame(X1)"
   ]
  },
  {
   "cell_type": "code",
   "execution_count": 36,
   "metadata": {},
   "outputs": [],
   "source": [
    "import re\n",
    "import string\n",
    "\n",
    "\n",
    "def clean_text(text):\n",
    "    '''Make text lowercase, remove text in square brackets, remove punctuation and remove words containing numbers.'''\n",
    "    text = text.lower()\n",
    "    text = re.sub('\\[.*?\\]', '', text)\n",
    "    text = re.sub('[%s]' % re.escape(string.punctuation), '', text)\n",
    "    text = re.sub('\\w*\\d\\w*', '', text)\n",
    "    return text\n",
    "\n",
    "clean = lambda x: clean_text(x)"
   ]
  },
  {
   "cell_type": "code",
   "execution_count": 37,
   "metadata": {
    "scrolled": true
   },
   "outputs": [],
   "source": [
    "X_clean = pd.DataFrame(X1_df[0].apply(clean))\n"
   ]
  },
  {
   "cell_type": "code",
   "execution_count": 38,
   "metadata": {},
   "outputs": [
    {
     "data": {
      "text/html": [
       "<div>\n",
       "<style scoped>\n",
       "    .dataframe tbody tr th:only-of-type {\n",
       "        vertical-align: middle;\n",
       "    }\n",
       "\n",
       "    .dataframe tbody tr th {\n",
       "        vertical-align: top;\n",
       "    }\n",
       "\n",
       "    .dataframe thead th {\n",
       "        text-align: right;\n",
       "    }\n",
       "</style>\n",
       "<table border=\"1\" class=\"dataframe\">\n",
       "  <thead>\n",
       "    <tr style=\"text-align: right;\">\n",
       "      <th></th>\n",
       "      <th>0</th>\n",
       "    </tr>\n",
       "  </thead>\n",
       "  <tbody>\n",
       "    <tr>\n",
       "      <th>0</th>\n",
       "      <td>subject  require attorney use system clean record calls late payments discontinued dead tracks  pioneered advanced system proven strategies get creditors debt collectors back good debt termination...</td>\n",
       "    </tr>\n",
       "    <tr>\n",
       "      <th>1</th>\n",
       "      <td>subject  ees operational risk per conversation  model simon  notes gave work back september looking volume numbers  notes show drives final cash flow numbers  briefly  issue surrounds exactly mean...</td>\n",
       "    </tr>\n",
       "    <tr>\n",
       "      <th>2</th>\n",
       "      <td>subject   hello vince kaminski enron dear vince  sent reply earlier month  heard date visit  department seminar every monday  schedule visit monday would like invite give seminar attended many gra...</td>\n",
       "    </tr>\n",
       "    <tr>\n",
       "      <th>3</th>\n",
       "      <td>subject  extraa chance save medlcatlons ove pettitoes r    pharmazm spurge ail shop  successfull proven way save yo compos ur eureka oney  slowcoach v patriot g tracker l l incubatory u americanis...</td>\n",
       "    </tr>\n",
       "    <tr>\n",
       "      <th>4</th>\n",
       "      <td>subject   nick bambos sounds great  let know help  tom vince j kaminski  ect          thomas gros  hou  ect  ect cc  ravi thuraisingham  enron communications  enron communications  vince j kaminsk...</td>\n",
       "    </tr>\n",
       "    <tr>\n",
       "      <th>...</th>\n",
       "      <td>...</td>\n",
       "    </tr>\n",
       "    <tr>\n",
       "      <th>995</th>\n",
       "      <td>subject  meeting riskcare discuss joint ventures  michael curran  manuel rensink  richard haddow  michael curran  head research   manuel rensink richard haddow  director technology services  atten...</td>\n",
       "    </tr>\n",
       "    <tr>\n",
       "      <th>996</th>\n",
       "      <td>subject  rice course vince adjunct professor rice  working wil uecker executive education  concurence  would like sit energy derivatives course  understand wil  students registered course  consent...</td>\n",
       "    </tr>\n",
       "    <tr>\n",
       "      <th>997</th>\n",
       "      <td>subject  big unit within days notice immediate erection size increases forget partner faking orgasm able please  able penetrate deeper partner experience pleasure well multiple orgasms sexual inte...</td>\n",
       "    </tr>\n",
       "    <tr>\n",
       "      <th>998</th>\n",
       "      <td>subject   e  commerce  continental europe anjam  would good opportunity update content intranet site expand coverage new areas  arrange resources us  everyone research works developing content  ne...</td>\n",
       "    </tr>\n",
       "    <tr>\n",
       "      <th>999</th>\n",
       "      <td>subject  business power june    international electric industry conference past five years  association power exchanges  apex  held business meetings different locations around world  first time  ...</td>\n",
       "    </tr>\n",
       "  </tbody>\n",
       "</table>\n",
       "<p>1000 rows × 1 columns</p>\n",
       "</div>"
      ],
      "text/plain": [
       "                                                                                                                                                                                                           0\n",
       "0    subject  require attorney use system clean record calls late payments discontinued dead tracks  pioneered advanced system proven strategies get creditors debt collectors back good debt termination...\n",
       "1    subject  ees operational risk per conversation  model simon  notes gave work back september looking volume numbers  notes show drives final cash flow numbers  briefly  issue surrounds exactly mean...\n",
       "2    subject   hello vince kaminski enron dear vince  sent reply earlier month  heard date visit  department seminar every monday  schedule visit monday would like invite give seminar attended many gra...\n",
       "3    subject  extraa chance save medlcatlons ove pettitoes r    pharmazm spurge ail shop  successfull proven way save yo compos ur eureka oney  slowcoach v patriot g tracker l l incubatory u americanis...\n",
       "4    subject   nick bambos sounds great  let know help  tom vince j kaminski  ect          thomas gros  hou  ect  ect cc  ravi thuraisingham  enron communications  enron communications  vince j kaminsk...\n",
       "..                                                                                                                                                                                                       ...\n",
       "995  subject  meeting riskcare discuss joint ventures  michael curran  manuel rensink  richard haddow  michael curran  head research   manuel rensink richard haddow  director technology services  atten...\n",
       "996  subject  rice course vince adjunct professor rice  working wil uecker executive education  concurence  would like sit energy derivatives course  understand wil  students registered course  consent...\n",
       "997  subject  big unit within days notice immediate erection size increases forget partner faking orgasm able please  able penetrate deeper partner experience pleasure well multiple orgasms sexual inte...\n",
       "998  subject   e  commerce  continental europe anjam  would good opportunity update content intranet site expand coverage new areas  arrange resources us  everyone research works developing content  ne...\n",
       "999  subject  business power june    international electric industry conference past five years  association power exchanges  apex  held business meetings different locations around world  first time  ...\n",
       "\n",
       "[1000 rows x 1 columns]"
      ]
     },
     "execution_count": 38,
     "metadata": {},
     "output_type": "execute_result"
    }
   ],
   "source": [
    "X_clean"
   ]
  },
  {
   "cell_type": "code",
   "execution_count": 39,
   "metadata": {},
   "outputs": [],
   "source": [
    "norm_X = np.array(X_clean[0])"
   ]
  },
  {
   "cell_type": "code",
   "execution_count": 40,
   "metadata": {},
   "outputs": [],
   "source": [
    "emails['norm_X'] = norm_X"
   ]
  },
  {
   "cell_type": "code",
   "execution_count": 41,
   "metadata": {
    "scrolled": true
   },
   "outputs": [
    {
     "data": {
      "text/html": [
       "<div>\n",
       "<style scoped>\n",
       "    .dataframe tbody tr th:only-of-type {\n",
       "        vertical-align: middle;\n",
       "    }\n",
       "\n",
       "    .dataframe tbody tr th {\n",
       "        vertical-align: top;\n",
       "    }\n",
       "\n",
       "    .dataframe thead th {\n",
       "        text-align: right;\n",
       "    }\n",
       "</style>\n",
       "<table border=\"1\" class=\"dataframe\">\n",
       "  <thead>\n",
       "    <tr style=\"text-align: right;\">\n",
       "      <th></th>\n",
       "      <th>text</th>\n",
       "      <th>spam</th>\n",
       "      <th>norm_X</th>\n",
       "    </tr>\n",
       "  </thead>\n",
       "  <tbody>\n",
       "    <tr>\n",
       "      <th>1889</th>\n",
       "      <td>Subject: ees operational risk  per our conversation , here is the model that i have for simon . the notes  that i gave you were from some work i did back in september as i was looking  for volume ...</td>\n",
       "      <td>0</td>\n",
       "      <td>subject  ees operational risk per conversation  model simon  notes gave work back september looking volume numbers  notes show drives final cash flow numbers  briefly  issue surrounds exactly mean...</td>\n",
       "    </tr>\n",
       "    <tr>\n",
       "      <th>3250</th>\n",
       "      <td>Subject: re : hello from vince kaminski at enron  dear vince .  i sent you a reply earlier this month but i haven ' t heard from you about the  date of your visit . our department has a seminar ev...</td>\n",
       "      <td>0</td>\n",
       "      <td>subject   hello vince kaminski enron dear vince  sent reply earlier month  heard date visit  department seminar every monday  schedule visit monday would like invite give seminar attended many gra...</td>\n",
       "    </tr>\n",
       "  </tbody>\n",
       "</table>\n",
       "</div>"
      ],
      "text/plain": [
       "                                                                                                                                                                                                         text  \\\n",
       "1889  Subject: ees operational risk  per our conversation , here is the model that i have for simon . the notes  that i gave you were from some work i did back in september as i was looking  for volume ...   \n",
       "3250  Subject: re : hello from vince kaminski at enron  dear vince .  i sent you a reply earlier this month but i haven ' t heard from you about the  date of your visit . our department has a seminar ev...   \n",
       "\n",
       "      spam  \\\n",
       "1889     0   \n",
       "3250     0   \n",
       "\n",
       "                                                                                                                                                                                                       norm_X  \n",
       "1889  subject  ees operational risk per conversation  model simon  notes gave work back september looking volume numbers  notes show drives final cash flow numbers  briefly  issue surrounds exactly mean...  \n",
       "3250  subject   hello vince kaminski enron dear vince  sent reply earlier month  heard date visit  department seminar every monday  schedule visit monday would like invite give seminar attended many gra...  "
      ]
     },
     "execution_count": 41,
     "metadata": {},
     "output_type": "execute_result"
    }
   ],
   "source": [
    "emails[1:3]"
   ]
  },
  {
   "cell_type": "code",
   "execution_count": 42,
   "metadata": {},
   "outputs": [],
   "source": [
    "norm_emails = emails"
   ]
  },
  {
   "cell_type": "code",
   "execution_count": 43,
   "metadata": {},
   "outputs": [],
   "source": [
    "norm_emails.to_csv('norm_emails.csv') \n"
   ]
  },
  {
   "cell_type": "markdown",
   "metadata": {},
   "source": [
    "## Use spaCy to remove more stop word"
   ]
  },
  {
   "cell_type": "code",
   "execution_count": 44,
   "metadata": {},
   "outputs": [],
   "source": [
    "import spacy\n",
    "nlp = spacy.load(\"en_core_web_lg\")\n",
    "\n",
    "\n",
    "all_stopwords = nlp.Defaults.stop_words\n",
    "\n",
    "\n",
    "def normalize_document(doc):\n",
    "    \n",
    "    # tokenize document\n",
    "    tokens = word_tokenize(doc)\n",
    "    \n",
    "    # filter stopwords out of document\n",
    "    filtered_tokens = [token for token in tokens if not token in all_stopwords]\n",
    "    # re-create document from filtered tokens\n",
    "    doc = ' '.join(filtered_tokens)\n",
    "    \n",
    "    return doc\n",
    "\n",
    "spacy_corpus1 = np.vectorize(normalize_document)\n",
    "\n",
    "\n",
    "nlp_X = spacy_corpus1(norm_X)"
   ]
  },
  {
   "cell_type": "code",
   "execution_count": 45,
   "metadata": {},
   "outputs": [],
   "source": [
    "\n",
    "nlp.Defaults.stop_words |= {'pm', 'com','cc','please','ect','http','www',}\n",
    "\n",
    "\n",
    "def normalize_document(doc):\n",
    "    \n",
    "    # tokenize document\n",
    "    tokens = word_tokenize(doc)\n",
    "    \n",
    "    # filter stopwords out of document\n",
    "    filtered_tokens = [token for token in tokens if not token in nlp.Defaults.stop_words]\n",
    "    # re-create document from filtered tokens\n",
    "    doc = ' '.join(filtered_tokens)\n",
    "    \n",
    "    return doc\n",
    "\n",
    "spacy_corpus2 = np.vectorize(normalize_document)\n"
   ]
  },
  {
   "cell_type": "code",
   "execution_count": 46,
   "metadata": {},
   "outputs": [
    {
     "data": {
      "text/html": [
       "<div>\n",
       "<style scoped>\n",
       "    .dataframe tbody tr th:only-of-type {\n",
       "        vertical-align: middle;\n",
       "    }\n",
       "\n",
       "    .dataframe tbody tr th {\n",
       "        vertical-align: top;\n",
       "    }\n",
       "\n",
       "    .dataframe thead th {\n",
       "        text-align: right;\n",
       "    }\n",
       "</style>\n",
       "<table border=\"1\" class=\"dataframe\">\n",
       "  <thead>\n",
       "    <tr style=\"text-align: right;\">\n",
       "      <th></th>\n",
       "      <th>nlp_X</th>\n",
       "    </tr>\n",
       "  </thead>\n",
       "  <tbody>\n",
       "    <tr>\n",
       "      <th>0</th>\n",
       "      <td>subject require attorney use system clean record calls late payments discontinued dead tracks pioneered advanced system proven strategies creditors debt collectors good debt termination program le...</td>\n",
       "    </tr>\n",
       "    <tr>\n",
       "      <th>1</th>\n",
       "      <td>subject ees operational risk conversation model simon notes gave work september looking volume numbers notes drives final cash flow numbers briefly issue surrounds exactly meant nonmarket noncredi...</td>\n",
       "    </tr>\n",
       "  </tbody>\n",
       "</table>\n",
       "</div>"
      ],
      "text/plain": [
       "                                                                                                                                                                                                     nlp_X\n",
       "0  subject require attorney use system clean record calls late payments discontinued dead tracks pioneered advanced system proven strategies creditors debt collectors good debt termination program le...\n",
       "1  subject ees operational risk conversation model simon notes gave work september looking volume numbers notes drives final cash flow numbers briefly issue surrounds exactly meant nonmarket noncredi..."
      ]
     },
     "execution_count": 46,
     "metadata": {},
     "output_type": "execute_result"
    }
   ],
   "source": [
    "nlp_X = spacy_corpus2(nlp_X)\n",
    "\n",
    "nlp_emails = pd.DataFrame(nlp_X)\n",
    "nlp_emails.rename(columns={0:\"nlp_X\"}, inplace=True)\n",
    "\n",
    "nlp_emails[0:2]"
   ]
  },
  {
   "cell_type": "markdown",
   "metadata": {},
   "source": [
    "### Make Bag of Words Model\n",
    "\n",
    "Text processing, tokenizing and stopwords are all included in sklearn CountVectorizer.\n",
    "\n",
    "Fit vectorize to the data(build a vocabulary, count the number of words). then transform the original text to vector"
   ]
  },
  {
   "cell_type": "markdown",
   "metadata": {},
   "source": [
    "### Bag of Words Model"
   ]
  },
  {
   "cell_type": "code",
   "execution_count": 47,
   "metadata": {},
   "outputs": [
    {
     "data": {
      "text/plain": [
       "array([[0, 0, 0, ..., 0, 0, 0],\n",
       "       [0, 0, 0, ..., 0, 0, 0],\n",
       "       [0, 0, 0, ..., 0, 0, 0],\n",
       "       ...,\n",
       "       [0, 0, 0, ..., 0, 0, 0],\n",
       "       [0, 0, 0, ..., 0, 0, 0],\n",
       "       [0, 0, 0, ..., 0, 0, 0]])"
      ]
     },
     "execution_count": 47,
     "metadata": {},
     "output_type": "execute_result"
    }
   ],
   "source": [
    "from sklearn.feature_extraction.text import CountVectorizer\n",
    "\n",
    "\n",
    "cv = CountVectorizer(min_df=0., max_df=1.)\n",
    "cv_nlp_X = cv.fit_transform(nlp_X)\n",
    "\n",
    "cv_nlp_X = cv_nlp_X.toarray()\n",
    "\n",
    "cv_nlp_X"
   ]
  },
  {
   "cell_type": "code",
   "execution_count": 48,
   "metadata": {},
   "outputs": [
    {
     "data": {
      "text/plain": [
       "14471"
      ]
     },
     "execution_count": 48,
     "metadata": {},
     "output_type": "execute_result"
    }
   ],
   "source": [
    "# get all unique words in the corpus\n",
    "vocab = cv.get_feature_names()\n",
    "len(vocab)"
   ]
  },
  {
   "cell_type": "code",
   "execution_count": 49,
   "metadata": {},
   "outputs": [
    {
     "data": {
      "text/plain": [
       "(1000, 14471)"
      ]
     },
     "execution_count": 49,
     "metadata": {},
     "output_type": "execute_result"
    }
   ],
   "source": [
    "from sklearn.feature_extraction.text import TfidfTransformer\n",
    "tfidf_transformer = TfidfTransformer()\n",
    "\n",
    "nlp_X_tfidf = tfidf_transformer.fit_transform(cv_nlp_X)\n",
    "\n",
    "nlp_X_tfidf.shape"
   ]
  },
  {
   "cell_type": "markdown",
   "metadata": {},
   "source": [
    "### TF-IDF Model\n",
    "\n",
    "#### Process vectorization and Tfidf by using one line of coding\n",
    "\n",
    "Convert a collection of raw documents to a matrix of TF-IDF features.\n",
    "Equivalent to CountVectorizer followed by TfidfTransformer."
   ]
  },
  {
   "cell_type": "code",
   "execution_count": 50,
   "metadata": {},
   "outputs": [],
   "source": [
    "from sklearn.feature_extraction.text import TfidfVectorizer"
   ]
  },
  {
   "cell_type": "code",
   "execution_count": 51,
   "metadata": {},
   "outputs": [
    {
     "data": {
      "text/plain": [
       "14449"
      ]
     },
     "execution_count": 51,
     "metadata": {},
     "output_type": "execute_result"
    }
   ],
   "source": [
    "tv = TfidfVectorizer(min_df=0., max_df=1., use_idf=True, stop_words='english')\n",
    "tv_nlp_X = tv.fit_transform(nlp_X)\n",
    "tv_nlp_X = tv_nlp_X.toarray()\n",
    "\n",
    "vocab = tv.get_feature_names()\n",
    "#pd.DataFrame(np.round(tv_train_matrix, 2), columns=vocab)\n",
    "len(vocab)"
   ]
  },
  {
   "cell_type": "code",
   "execution_count": 52,
   "metadata": {
    "scrolled": true
   },
   "outputs": [
    {
     "data": {
      "text/plain": [
       "(1000, 14449)"
      ]
     },
     "execution_count": 52,
     "metadata": {},
     "output_type": "execute_result"
    }
   ],
   "source": [
    "tv_nlp_X.shape"
   ]
  },
  {
   "cell_type": "code",
   "execution_count": 53,
   "metadata": {},
   "outputs": [
    {
     "data": {
      "text/plain": [
       "array([[0., 0., 0., ..., 0., 0., 0.],\n",
       "       [0., 0., 0., ..., 0., 0., 0.],\n",
       "       [0., 0., 0., ..., 0., 0., 0.],\n",
       "       ...,\n",
       "       [0., 0., 0., ..., 0., 0., 0.],\n",
       "       [0., 0., 0., ..., 0., 0., 0.],\n",
       "       [0., 0., 0., ..., 0., 0., 0.]])"
      ]
     },
     "execution_count": 53,
     "metadata": {},
     "output_type": "execute_result"
    }
   ],
   "source": [
    "tv_nlp_X\n"
   ]
  },
  {
   "cell_type": "markdown",
   "metadata": {},
   "source": [
    "### Document Similarity\n",
    "\n",
    "Use similarity metric, cosine similarity and compare pairwise document similarity based on their TF-IDF feature vectors"
   ]
  },
  {
   "cell_type": "code",
   "execution_count": 54,
   "metadata": {
    "scrolled": true
   },
   "outputs": [
    {
     "data": {
      "text/html": [
       "<div>\n",
       "<style scoped>\n",
       "    .dataframe tbody tr th:only-of-type {\n",
       "        vertical-align: middle;\n",
       "    }\n",
       "\n",
       "    .dataframe tbody tr th {\n",
       "        vertical-align: top;\n",
       "    }\n",
       "\n",
       "    .dataframe thead th {\n",
       "        text-align: right;\n",
       "    }\n",
       "</style>\n",
       "<table border=\"1\" class=\"dataframe\">\n",
       "  <thead>\n",
       "    <tr style=\"text-align: right;\">\n",
       "      <th></th>\n",
       "      <th>0</th>\n",
       "      <th>1</th>\n",
       "      <th>2</th>\n",
       "      <th>3</th>\n",
       "      <th>4</th>\n",
       "      <th>5</th>\n",
       "      <th>6</th>\n",
       "      <th>7</th>\n",
       "      <th>8</th>\n",
       "      <th>9</th>\n",
       "      <th>...</th>\n",
       "      <th>990</th>\n",
       "      <th>991</th>\n",
       "      <th>992</th>\n",
       "      <th>993</th>\n",
       "      <th>994</th>\n",
       "      <th>995</th>\n",
       "      <th>996</th>\n",
       "      <th>997</th>\n",
       "      <th>998</th>\n",
       "      <th>999</th>\n",
       "    </tr>\n",
       "  </thead>\n",
       "  <tbody>\n",
       "    <tr>\n",
       "      <th>0</th>\n",
       "      <td>1.000000</td>\n",
       "      <td>0.004467</td>\n",
       "      <td>0.038434</td>\n",
       "      <td>0.010395</td>\n",
       "      <td>0.000759</td>\n",
       "      <td>0.000694</td>\n",
       "      <td>0.010087</td>\n",
       "      <td>0.001787</td>\n",
       "      <td>0.023391</td>\n",
       "      <td>0.000415</td>\n",
       "      <td>...</td>\n",
       "      <td>0.007016</td>\n",
       "      <td>0.014939</td>\n",
       "      <td>0.008249</td>\n",
       "      <td>0.007969</td>\n",
       "      <td>0.007822</td>\n",
       "      <td>0.000587</td>\n",
       "      <td>0.006139</td>\n",
       "      <td>0.044498</td>\n",
       "      <td>0.002473</td>\n",
       "      <td>0.000390</td>\n",
       "    </tr>\n",
       "    <tr>\n",
       "      <th>1</th>\n",
       "      <td>0.004467</td>\n",
       "      <td>1.000000</td>\n",
       "      <td>0.012480</td>\n",
       "      <td>0.006893</td>\n",
       "      <td>0.013010</td>\n",
       "      <td>0.004925</td>\n",
       "      <td>0.003947</td>\n",
       "      <td>0.032042</td>\n",
       "      <td>0.007277</td>\n",
       "      <td>0.031337</td>\n",
       "      <td>...</td>\n",
       "      <td>0.016658</td>\n",
       "      <td>0.018653</td>\n",
       "      <td>0.027027</td>\n",
       "      <td>0.009934</td>\n",
       "      <td>0.008408</td>\n",
       "      <td>0.005703</td>\n",
       "      <td>0.011911</td>\n",
       "      <td>0.028896</td>\n",
       "      <td>0.022329</td>\n",
       "      <td>0.014290</td>\n",
       "    </tr>\n",
       "    <tr>\n",
       "      <th>2</th>\n",
       "      <td>0.038434</td>\n",
       "      <td>0.012480</td>\n",
       "      <td>1.000000</td>\n",
       "      <td>0.000741</td>\n",
       "      <td>0.082917</td>\n",
       "      <td>0.071568</td>\n",
       "      <td>0.001035</td>\n",
       "      <td>0.022951</td>\n",
       "      <td>0.064291</td>\n",
       "      <td>0.028364</td>\n",
       "      <td>...</td>\n",
       "      <td>0.110743</td>\n",
       "      <td>0.028634</td>\n",
       "      <td>0.100442</td>\n",
       "      <td>0.009519</td>\n",
       "      <td>0.084161</td>\n",
       "      <td>0.015359</td>\n",
       "      <td>0.042797</td>\n",
       "      <td>0.010815</td>\n",
       "      <td>0.044393</td>\n",
       "      <td>0.014354</td>\n",
       "    </tr>\n",
       "    <tr>\n",
       "      <th>3</th>\n",
       "      <td>0.010395</td>\n",
       "      <td>0.006893</td>\n",
       "      <td>0.000741</td>\n",
       "      <td>1.000000</td>\n",
       "      <td>0.000852</td>\n",
       "      <td>0.000779</td>\n",
       "      <td>0.000673</td>\n",
       "      <td>0.000384</td>\n",
       "      <td>0.000422</td>\n",
       "      <td>0.000466</td>\n",
       "      <td>...</td>\n",
       "      <td>0.005026</td>\n",
       "      <td>0.000778</td>\n",
       "      <td>0.000713</td>\n",
       "      <td>0.000329</td>\n",
       "      <td>0.000912</td>\n",
       "      <td>0.000658</td>\n",
       "      <td>0.000730</td>\n",
       "      <td>0.000400</td>\n",
       "      <td>0.000858</td>\n",
       "      <td>0.000438</td>\n",
       "    </tr>\n",
       "    <tr>\n",
       "      <th>4</th>\n",
       "      <td>0.000759</td>\n",
       "      <td>0.013010</td>\n",
       "      <td>0.082917</td>\n",
       "      <td>0.000852</td>\n",
       "      <td>1.000000</td>\n",
       "      <td>0.030620</td>\n",
       "      <td>0.001191</td>\n",
       "      <td>0.020908</td>\n",
       "      <td>0.007573</td>\n",
       "      <td>0.000824</td>\n",
       "      <td>...</td>\n",
       "      <td>0.074559</td>\n",
       "      <td>0.031662</td>\n",
       "      <td>0.131108</td>\n",
       "      <td>0.005086</td>\n",
       "      <td>0.077285</td>\n",
       "      <td>0.010199</td>\n",
       "      <td>0.041213</td>\n",
       "      <td>0.000708</td>\n",
       "      <td>0.062463</td>\n",
       "      <td>0.000775</td>\n",
       "    </tr>\n",
       "    <tr>\n",
       "      <th>...</th>\n",
       "      <td>...</td>\n",
       "      <td>...</td>\n",
       "      <td>...</td>\n",
       "      <td>...</td>\n",
       "      <td>...</td>\n",
       "      <td>...</td>\n",
       "      <td>...</td>\n",
       "      <td>...</td>\n",
       "      <td>...</td>\n",
       "      <td>...</td>\n",
       "      <td>...</td>\n",
       "      <td>...</td>\n",
       "      <td>...</td>\n",
       "      <td>...</td>\n",
       "      <td>...</td>\n",
       "      <td>...</td>\n",
       "      <td>...</td>\n",
       "      <td>...</td>\n",
       "      <td>...</td>\n",
       "      <td>...</td>\n",
       "      <td>...</td>\n",
       "    </tr>\n",
       "    <tr>\n",
       "      <th>995</th>\n",
       "      <td>0.000587</td>\n",
       "      <td>0.005703</td>\n",
       "      <td>0.015359</td>\n",
       "      <td>0.000658</td>\n",
       "      <td>0.010199</td>\n",
       "      <td>0.011491</td>\n",
       "      <td>0.000920</td>\n",
       "      <td>0.018045</td>\n",
       "      <td>0.033290</td>\n",
       "      <td>0.010762</td>\n",
       "      <td>...</td>\n",
       "      <td>0.007115</td>\n",
       "      <td>0.023319</td>\n",
       "      <td>0.023708</td>\n",
       "      <td>0.007114</td>\n",
       "      <td>0.001246</td>\n",
       "      <td>1.000000</td>\n",
       "      <td>0.000997</td>\n",
       "      <td>0.000547</td>\n",
       "      <td>0.018728</td>\n",
       "      <td>0.000598</td>\n",
       "    </tr>\n",
       "    <tr>\n",
       "      <th>996</th>\n",
       "      <td>0.006139</td>\n",
       "      <td>0.011911</td>\n",
       "      <td>0.042797</td>\n",
       "      <td>0.000730</td>\n",
       "      <td>0.041213</td>\n",
       "      <td>0.076161</td>\n",
       "      <td>0.001020</td>\n",
       "      <td>0.028839</td>\n",
       "      <td>0.014523</td>\n",
       "      <td>0.004470</td>\n",
       "      <td>...</td>\n",
       "      <td>0.031885</td>\n",
       "      <td>0.008704</td>\n",
       "      <td>0.052212</td>\n",
       "      <td>0.004687</td>\n",
       "      <td>0.026263</td>\n",
       "      <td>0.000997</td>\n",
       "      <td>1.000000</td>\n",
       "      <td>0.012199</td>\n",
       "      <td>0.056919</td>\n",
       "      <td>0.000664</td>\n",
       "    </tr>\n",
       "    <tr>\n",
       "      <th>997</th>\n",
       "      <td>0.044498</td>\n",
       "      <td>0.028896</td>\n",
       "      <td>0.010815</td>\n",
       "      <td>0.000400</td>\n",
       "      <td>0.000708</td>\n",
       "      <td>0.007559</td>\n",
       "      <td>0.039522</td>\n",
       "      <td>0.007012</td>\n",
       "      <td>0.003309</td>\n",
       "      <td>0.020301</td>\n",
       "      <td>...</td>\n",
       "      <td>0.005477</td>\n",
       "      <td>0.029824</td>\n",
       "      <td>0.024311</td>\n",
       "      <td>0.022876</td>\n",
       "      <td>0.007220</td>\n",
       "      <td>0.000547</td>\n",
       "      <td>0.012199</td>\n",
       "      <td>1.000000</td>\n",
       "      <td>0.001971</td>\n",
       "      <td>0.019094</td>\n",
       "    </tr>\n",
       "    <tr>\n",
       "      <th>998</th>\n",
       "      <td>0.002473</td>\n",
       "      <td>0.022329</td>\n",
       "      <td>0.044393</td>\n",
       "      <td>0.000858</td>\n",
       "      <td>0.062463</td>\n",
       "      <td>0.009569</td>\n",
       "      <td>0.001199</td>\n",
       "      <td>0.057412</td>\n",
       "      <td>0.012753</td>\n",
       "      <td>0.062622</td>\n",
       "      <td>...</td>\n",
       "      <td>0.051809</td>\n",
       "      <td>0.036218</td>\n",
       "      <td>0.053138</td>\n",
       "      <td>0.019599</td>\n",
       "      <td>0.028266</td>\n",
       "      <td>0.018728</td>\n",
       "      <td>0.056919</td>\n",
       "      <td>0.001971</td>\n",
       "      <td>1.000000</td>\n",
       "      <td>0.012441</td>\n",
       "    </tr>\n",
       "    <tr>\n",
       "      <th>999</th>\n",
       "      <td>0.000390</td>\n",
       "      <td>0.014290</td>\n",
       "      <td>0.014354</td>\n",
       "      <td>0.000438</td>\n",
       "      <td>0.000775</td>\n",
       "      <td>0.000708</td>\n",
       "      <td>0.000612</td>\n",
       "      <td>0.028745</td>\n",
       "      <td>0.016860</td>\n",
       "      <td>0.045215</td>\n",
       "      <td>...</td>\n",
       "      <td>0.002900</td>\n",
       "      <td>0.037666</td>\n",
       "      <td>0.013058</td>\n",
       "      <td>0.025216</td>\n",
       "      <td>0.029224</td>\n",
       "      <td>0.000598</td>\n",
       "      <td>0.000664</td>\n",
       "      <td>0.019094</td>\n",
       "      <td>0.012441</td>\n",
       "      <td>1.000000</td>\n",
       "    </tr>\n",
       "  </tbody>\n",
       "</table>\n",
       "<p>1000 rows × 1000 columns</p>\n",
       "</div>"
      ],
      "text/plain": [
       "          0         1         2         3         4         5         6    \\\n",
       "0    1.000000  0.004467  0.038434  0.010395  0.000759  0.000694  0.010087   \n",
       "1    0.004467  1.000000  0.012480  0.006893  0.013010  0.004925  0.003947   \n",
       "2    0.038434  0.012480  1.000000  0.000741  0.082917  0.071568  0.001035   \n",
       "3    0.010395  0.006893  0.000741  1.000000  0.000852  0.000779  0.000673   \n",
       "4    0.000759  0.013010  0.082917  0.000852  1.000000  0.030620  0.001191   \n",
       "..        ...       ...       ...       ...       ...       ...       ...   \n",
       "995  0.000587  0.005703  0.015359  0.000658  0.010199  0.011491  0.000920   \n",
       "996  0.006139  0.011911  0.042797  0.000730  0.041213  0.076161  0.001020   \n",
       "997  0.044498  0.028896  0.010815  0.000400  0.000708  0.007559  0.039522   \n",
       "998  0.002473  0.022329  0.044393  0.000858  0.062463  0.009569  0.001199   \n",
       "999  0.000390  0.014290  0.014354  0.000438  0.000775  0.000708  0.000612   \n",
       "\n",
       "          7         8         9    ...       990       991       992  \\\n",
       "0    0.001787  0.023391  0.000415  ...  0.007016  0.014939  0.008249   \n",
       "1    0.032042  0.007277  0.031337  ...  0.016658  0.018653  0.027027   \n",
       "2    0.022951  0.064291  0.028364  ...  0.110743  0.028634  0.100442   \n",
       "3    0.000384  0.000422  0.000466  ...  0.005026  0.000778  0.000713   \n",
       "4    0.020908  0.007573  0.000824  ...  0.074559  0.031662  0.131108   \n",
       "..        ...       ...       ...  ...       ...       ...       ...   \n",
       "995  0.018045  0.033290  0.010762  ...  0.007115  0.023319  0.023708   \n",
       "996  0.028839  0.014523  0.004470  ...  0.031885  0.008704  0.052212   \n",
       "997  0.007012  0.003309  0.020301  ...  0.005477  0.029824  0.024311   \n",
       "998  0.057412  0.012753  0.062622  ...  0.051809  0.036218  0.053138   \n",
       "999  0.028745  0.016860  0.045215  ...  0.002900  0.037666  0.013058   \n",
       "\n",
       "          993       994       995       996       997       998       999  \n",
       "0    0.007969  0.007822  0.000587  0.006139  0.044498  0.002473  0.000390  \n",
       "1    0.009934  0.008408  0.005703  0.011911  0.028896  0.022329  0.014290  \n",
       "2    0.009519  0.084161  0.015359  0.042797  0.010815  0.044393  0.014354  \n",
       "3    0.000329  0.000912  0.000658  0.000730  0.000400  0.000858  0.000438  \n",
       "4    0.005086  0.077285  0.010199  0.041213  0.000708  0.062463  0.000775  \n",
       "..        ...       ...       ...       ...       ...       ...       ...  \n",
       "995  0.007114  0.001246  1.000000  0.000997  0.000547  0.018728  0.000598  \n",
       "996  0.004687  0.026263  0.000997  1.000000  0.012199  0.056919  0.000664  \n",
       "997  0.022876  0.007220  0.000547  0.012199  1.000000  0.001971  0.019094  \n",
       "998  0.019599  0.028266  0.018728  0.056919  0.001971  1.000000  0.012441  \n",
       "999  0.025216  0.029224  0.000598  0.000664  0.019094  0.012441  1.000000  \n",
       "\n",
       "[1000 rows x 1000 columns]"
      ]
     },
     "execution_count": 54,
     "metadata": {},
     "output_type": "execute_result"
    }
   ],
   "source": [
    "from sklearn.metrics.pairwise import cosine_similarity\n",
    "\n",
    "similarity_matrix_nlp_X = cosine_similarity(tv_nlp_X)\n",
    "\n",
    "similarity_df_nlp_X = pd.DataFrame(similarity_matrix_nlp_X)\n",
    "similarity_df_nlp_X"
   ]
  },
  {
   "cell_type": "markdown",
   "metadata": {},
   "source": [
    "### Document Clustering with Similarity Features\n",
    "\n",
    "There are two types of hierarchical clustering algorithms namely, agglomerative and divisive methods. I will be using a agglomerative clustering algorithm, which is hierarchical clustering using a bottom up approach i.e. each observation or document starts in its own cluster and clusters are successively merged together using a distance metric which measures distances between data points and a linkage merge criterion. Will use the Ward method to govern the mergo strategy."
   ]
  },
  {
   "cell_type": "code",
   "execution_count": 57,
   "metadata": {},
   "outputs": [
    {
     "data": {
      "text/html": [
       "<div>\n",
       "<style scoped>\n",
       "    .dataframe tbody tr th:only-of-type {\n",
       "        vertical-align: middle;\n",
       "    }\n",
       "\n",
       "    .dataframe tbody tr th {\n",
       "        vertical-align: top;\n",
       "    }\n",
       "\n",
       "    .dataframe thead th {\n",
       "        text-align: right;\n",
       "    }\n",
       "</style>\n",
       "<table border=\"1\" class=\"dataframe\">\n",
       "  <thead>\n",
       "    <tr style=\"text-align: right;\">\n",
       "      <th></th>\n",
       "      <th>Document\\Cluster 1</th>\n",
       "      <th>Document\\Cluster 2</th>\n",
       "      <th>Distance</th>\n",
       "      <th>Cluster Size</th>\n",
       "    </tr>\n",
       "  </thead>\n",
       "  <tbody>\n",
       "    <tr>\n",
       "      <th>0</th>\n",
       "      <td>21</td>\n",
       "      <td>446</td>\n",
       "      <td>0</td>\n",
       "      <td>2</td>\n",
       "    </tr>\n",
       "    <tr>\n",
       "      <th>1</th>\n",
       "      <td>44</td>\n",
       "      <td>656</td>\n",
       "      <td>0</td>\n",
       "      <td>2</td>\n",
       "    </tr>\n",
       "    <tr>\n",
       "      <th>2</th>\n",
       "      <td>139</td>\n",
       "      <td>515</td>\n",
       "      <td>0</td>\n",
       "      <td>2</td>\n",
       "    </tr>\n",
       "    <tr>\n",
       "      <th>3</th>\n",
       "      <td>140</td>\n",
       "      <td>986</td>\n",
       "      <td>0</td>\n",
       "      <td>2</td>\n",
       "    </tr>\n",
       "    <tr>\n",
       "      <th>4</th>\n",
       "      <td>169</td>\n",
       "      <td>683</td>\n",
       "      <td>0</td>\n",
       "      <td>2</td>\n",
       "    </tr>\n",
       "    <tr>\n",
       "      <th>...</th>\n",
       "      <td>...</td>\n",
       "      <td>...</td>\n",
       "      <td>...</td>\n",
       "      <td>...</td>\n",
       "    </tr>\n",
       "    <tr>\n",
       "      <th>994</th>\n",
       "      <td>1956</td>\n",
       "      <td>1988</td>\n",
       "      <td>8.96167</td>\n",
       "      <td>337</td>\n",
       "    </tr>\n",
       "    <tr>\n",
       "      <th>995</th>\n",
       "      <td>1992</td>\n",
       "      <td>1993</td>\n",
       "      <td>9.10367</td>\n",
       "      <td>563</td>\n",
       "    </tr>\n",
       "    <tr>\n",
       "      <th>996</th>\n",
       "      <td>1990</td>\n",
       "      <td>1994</td>\n",
       "      <td>9.41232</td>\n",
       "      <td>427</td>\n",
       "    </tr>\n",
       "    <tr>\n",
       "      <th>997</th>\n",
       "      <td>1779</td>\n",
       "      <td>1995</td>\n",
       "      <td>10.6033</td>\n",
       "      <td>573</td>\n",
       "    </tr>\n",
       "    <tr>\n",
       "      <th>998</th>\n",
       "      <td>1996</td>\n",
       "      <td>1997</td>\n",
       "      <td>17.6234</td>\n",
       "      <td>1000</td>\n",
       "    </tr>\n",
       "  </tbody>\n",
       "</table>\n",
       "<p>999 rows × 4 columns</p>\n",
       "</div>"
      ],
      "text/plain": [
       "    Document\\Cluster 1 Document\\Cluster 2 Distance Cluster Size\n",
       "0                   21                446        0            2\n",
       "1                   44                656        0            2\n",
       "2                  139                515        0            2\n",
       "3                  140                986        0            2\n",
       "4                  169                683        0            2\n",
       "..                 ...                ...      ...          ...\n",
       "994               1956               1988  8.96167          337\n",
       "995               1992               1993  9.10367          563\n",
       "996               1990               1994  9.41232          427\n",
       "997               1779               1995  10.6033          573\n",
       "998               1996               1997  17.6234         1000\n",
       "\n",
       "[999 rows x 4 columns]"
      ]
     },
     "execution_count": 57,
     "metadata": {},
     "output_type": "execute_result"
    }
   ],
   "source": [
    "from scipy.cluster.hierarchy import dendrogram, linkage\n",
    "\n",
    "Z = linkage(similarity_matrix_nlp_X, 'ward')\n",
    "pd.DataFrame(Z, columns=['Document\\Cluster 1', 'Document\\Cluster 2', \n",
    "                         'Distance', 'Cluster Size'], dtype='object')\n"
   ]
  },
  {
   "cell_type": "code",
   "execution_count": 58,
   "metadata": {},
   "outputs": [
    {
     "data": {
      "image/png": "[encoded data removed]",
      "text/plain": [
       "<Figure size 576x216 with 1 Axes>"
      ]
     },
     "metadata": {
      "needs_background": "light"
     },
     "output_type": "display_data"
    }
   ],
   "source": [
    "plt.figure(figsize=(8, 3))\n",
    "plt.title('Hierarchical Clustering Dendrogram')\n",
    "plt.xlabel('Data point')\n",
    "plt.ylabel('Distance')\n",
    "dendrogram(Z)\n",
    "plt.axhline(y=1.0, c='k', ls='--', lw=0.5);\n"
   ]
  },
  {
   "cell_type": "markdown",
   "metadata": {},
   "source": [
    "### Topic Models\n",
    "\n",
    "Use Latent Dirichlet Allocation (LDA),which uses a generative probabilistic model where each document consists of a combination of several topics and each term or word can be assigned to a specific topic."
   ]
  },
  {
   "cell_type": "code",
   "execution_count": 59,
   "metadata": {
    "scrolled": true
   },
   "outputs": [
    {
     "data": {
      "text/html": [
       "<div>\n",
       "<style scoped>\n",
       "    .dataframe tbody tr th:only-of-type {\n",
       "        vertical-align: middle;\n",
       "    }\n",
       "\n",
       "    .dataframe tbody tr th {\n",
       "        vertical-align: top;\n",
       "    }\n",
       "\n",
       "    .dataframe thead th {\n",
       "        text-align: right;\n",
       "    }\n",
       "</style>\n",
       "<table border=\"1\" class=\"dataframe\">\n",
       "  <thead>\n",
       "    <tr style=\"text-align: right;\">\n",
       "      <th></th>\n",
       "      <th>T1</th>\n",
       "      <th>T2</th>\n",
       "      <th>T3</th>\n",
       "      <th>T4</th>\n",
       "      <th>T5</th>\n",
       "    </tr>\n",
       "  </thead>\n",
       "  <tbody>\n",
       "    <tr>\n",
       "      <th>0</th>\n",
       "      <td>0.508314</td>\n",
       "      <td>0.023467</td>\n",
       "      <td>0.421296</td>\n",
       "      <td>0.023470</td>\n",
       "      <td>0.023453</td>\n",
       "    </tr>\n",
       "    <tr>\n",
       "      <th>1</th>\n",
       "      <td>0.930613</td>\n",
       "      <td>0.017351</td>\n",
       "      <td>0.017347</td>\n",
       "      <td>0.017341</td>\n",
       "      <td>0.017347</td>\n",
       "    </tr>\n",
       "    <tr>\n",
       "      <th>2</th>\n",
       "      <td>0.916953</td>\n",
       "      <td>0.020764</td>\n",
       "      <td>0.020761</td>\n",
       "      <td>0.020761</td>\n",
       "      <td>0.020761</td>\n",
       "    </tr>\n",
       "    <tr>\n",
       "      <th>3</th>\n",
       "      <td>0.897342</td>\n",
       "      <td>0.025466</td>\n",
       "      <td>0.026126</td>\n",
       "      <td>0.025722</td>\n",
       "      <td>0.025343</td>\n",
       "    </tr>\n",
       "    <tr>\n",
       "      <th>4</th>\n",
       "      <td>0.890688</td>\n",
       "      <td>0.027326</td>\n",
       "      <td>0.027326</td>\n",
       "      <td>0.027333</td>\n",
       "      <td>0.027327</td>\n",
       "    </tr>\n",
       "    <tr>\n",
       "      <th>...</th>\n",
       "      <td>...</td>\n",
       "      <td>...</td>\n",
       "      <td>...</td>\n",
       "      <td>...</td>\n",
       "      <td>...</td>\n",
       "    </tr>\n",
       "    <tr>\n",
       "      <th>995</th>\n",
       "      <td>0.433982</td>\n",
       "      <td>0.440611</td>\n",
       "      <td>0.041656</td>\n",
       "      <td>0.042096</td>\n",
       "      <td>0.041656</td>\n",
       "    </tr>\n",
       "    <tr>\n",
       "      <th>996</th>\n",
       "      <td>0.856568</td>\n",
       "      <td>0.035859</td>\n",
       "      <td>0.035858</td>\n",
       "      <td>0.035858</td>\n",
       "      <td>0.035857</td>\n",
       "    </tr>\n",
       "    <tr>\n",
       "      <th>997</th>\n",
       "      <td>0.500542</td>\n",
       "      <td>0.021233</td>\n",
       "      <td>0.021215</td>\n",
       "      <td>0.435774</td>\n",
       "      <td>0.021237</td>\n",
       "    </tr>\n",
       "    <tr>\n",
       "      <th>998</th>\n",
       "      <td>0.915057</td>\n",
       "      <td>0.021216</td>\n",
       "      <td>0.021201</td>\n",
       "      <td>0.021201</td>\n",
       "      <td>0.021325</td>\n",
       "    </tr>\n",
       "    <tr>\n",
       "      <th>999</th>\n",
       "      <td>0.812875</td>\n",
       "      <td>0.028982</td>\n",
       "      <td>0.028997</td>\n",
       "      <td>0.100149</td>\n",
       "      <td>0.028996</td>\n",
       "    </tr>\n",
       "  </tbody>\n",
       "</table>\n",
       "<p>1000 rows × 5 columns</p>\n",
       "</div>"
      ],
      "text/plain": [
       "           T1        T2        T3        T4        T5\n",
       "0    0.508314  0.023467  0.421296  0.023470  0.023453\n",
       "1    0.930613  0.017351  0.017347  0.017341  0.017347\n",
       "2    0.916953  0.020764  0.020761  0.020761  0.020761\n",
       "3    0.897342  0.025466  0.026126  0.025722  0.025343\n",
       "4    0.890688  0.027326  0.027326  0.027333  0.027327\n",
       "..        ...       ...       ...       ...       ...\n",
       "995  0.433982  0.440611  0.041656  0.042096  0.041656\n",
       "996  0.856568  0.035859  0.035858  0.035858  0.035857\n",
       "997  0.500542  0.021233  0.021215  0.435774  0.021237\n",
       "998  0.915057  0.021216  0.021201  0.021201  0.021325\n",
       "999  0.812875  0.028982  0.028997  0.100149  0.028996\n",
       "\n",
       "[1000 rows x 5 columns]"
      ]
     },
     "execution_count": 59,
     "metadata": {},
     "output_type": "execute_result"
    }
   ],
   "source": [
    "from sklearn.decomposition import LatentDirichletAllocation\n",
    "\n",
    "lda = LatentDirichletAllocation(n_components=5, random_state=0)\n",
    "dt_matrix = lda.fit_transform(tv_nlp_X)\n",
    "features = pd.DataFrame(dt_matrix, columns=['T1', 'T2', 'T3','T4','T5'])\n",
    "features\n"
   ]
  },
  {
   "cell_type": "code",
   "execution_count": 60,
   "metadata": {
    "scrolled": false
   },
   "outputs": [
    {
     "name": "stdout",
     "output_type": "stream",
     "text": [
      "[('enron', 42.94623340475713), ('vince', 39.0592520725271), ('subject', 29.118920533844637), ('hou', 25.48118814382884), ('kaminski', 23.17849218689364), ('research', 16.52003111656732), ('thanks', 16.055239970889687), ('group', 15.665705567176255), ('know', 14.647345156650685), ('time', 14.309471450280311)]\n",
      "[('ibuyit', 1.890780403065729), ('elsb', 1.6067400241284946), ('man', 1.353619084313283), ('viagra', 1.1965297247207756), ('dysfunction', 1.1385017505902024), ('save', 1.1337569559804712), ('nbp', 1.1301560015087544), ('hello', 1.0842989815859645), ('convinient', 1.0796969111623689), ('jokes', 1.0796969111623689)]\n",
      "[('pep', 1.677628662057179), ('reviewers', 1.639526577133773), ('approver', 1.4756765706249892), ('save', 1.2436697332128426), ('projecthoneypot', 1.1553651202097002), ('viagra', 1.1112799746630102), ('proven', 1.0543432296283364), ('zingales', 0.999194168453122), ('dailyupdate', 0.987864363388474), ('enl', 0.987864363388474)]\n",
      "[('adobe', 5.411470783509837), ('order', 3.4070247345650704), ('confirmation', 2.9289271980821048), ('website', 2.5656612391884823), ('search', 2.0641572194405287), ('automatic', 2.0288799920300606), ('ecth', 1.9782997784164682), ('online', 1.9054736769469587), ('purchasing', 1.7042730645126525), ('cs', 1.6930104144504354)]\n",
      "[('baylor', 4.173850506124998), ('logo', 4.155695153585245), ('business', 3.0292109058760364), ('stationery', 2.5475587994899214), ('offers', 2.432939374185319), ('jul', 2.2489274548133005), ('competitors', 2.1569385959994474), ('creative', 2.1014716099113024), ('life', 2.0975436934154845), ('hot', 1.8294030136390533)]\n"
     ]
    }
   ],
   "source": [
    "tt_matrix = lda.components_\n",
    "for topic_weights in tt_matrix:\n",
    "    topic = [(token, weight) for token, weight in zip(vocab, topic_weights)]\n",
    "    topic = sorted(topic, key=lambda x: -x[1])\n",
    "    topic = [item for item in topic if item[1] > 0.6]\n",
    "    print(topic[0:10])\n",
    "    "
   ]
  },
  {
   "cell_type": "markdown",
   "metadata": {},
   "source": [
    "### Document Clustering with Topic Model Features"
   ]
  },
  {
   "cell_type": "code",
   "execution_count": 61,
   "metadata": {
    "scrolled": true
   },
   "outputs": [
    {
     "data": {
      "text/plain": [
       "array([[0.5233603 , 0.77378343, 0.84707052, 0.19589298, 0.72849388],\n",
       "       [0.08039934, 0.92382032, 1.00611293, 0.77918579, 0.86038246],\n",
       "       [0.06515433, 0.91129794, 0.99375459, 0.76662338, 0.84793168],\n",
       "       ...,\n",
       "       [0.53629662, 0.32486625, 0.85285294, 0.67485999, 0.73593523],\n",
       "       [0.06303547, 0.90958971, 0.99198372, 0.76490902, 0.84622592],\n",
       "       [0.07846101, 0.78087512, 0.91785616, 0.69080768, 0.77223838]])"
      ]
     },
     "execution_count": 61,
     "metadata": {},
     "output_type": "execute_result"
    },
    {
     "data": {
      "text/html": [
       "<div>\n",
       "<style scoped>\n",
       "    .dataframe tbody tr th:only-of-type {\n",
       "        vertical-align: middle;\n",
       "    }\n",
       "\n",
       "    .dataframe tbody tr th {\n",
       "        vertical-align: top;\n",
       "    }\n",
       "\n",
       "    .dataframe thead th {\n",
       "        text-align: right;\n",
       "    }\n",
       "</style>\n",
       "<table border=\"1\" class=\"dataframe\">\n",
       "  <thead>\n",
       "    <tr style=\"text-align: right;\">\n",
       "      <th></th>\n",
       "      <th>nlp_X</th>\n",
       "      <th>ClusterLabel</th>\n",
       "    </tr>\n",
       "  </thead>\n",
       "  <tbody>\n",
       "    <tr>\n",
       "      <th>0</th>\n",
       "      <td>subject require attorney use system clean record calls late payments discontinued dead tracks pioneered advanced system proven strategies creditors debt collectors good debt termination program le...</td>\n",
       "      <td>3</td>\n",
       "    </tr>\n",
       "    <tr>\n",
       "      <th>1</th>\n",
       "      <td>subject ees operational risk conversation model simon notes gave work september looking volume numbers notes drives final cash flow numbers briefly issue surrounds exactly meant nonmarket noncredi...</td>\n",
       "      <td>0</td>\n",
       "    </tr>\n",
       "    <tr>\n",
       "      <th>2</th>\n",
       "      <td>subject hello vince kaminski enron dear vince sent reply earlier month heard date visit department seminar monday schedule visit monday like invite seminar attended graduate students faculty oppor...</td>\n",
       "      <td>0</td>\n",
       "    </tr>\n",
       "    <tr>\n",
       "      <th>3</th>\n",
       "      <td>subject extraa chance save medlcatlons ove pettitoes r pharmazm spurge ail shop successfull proven way save yo compos ur eureka oney slowcoach v patriot g tracker l l incubatory u americanism l de...</td>\n",
       "      <td>0</td>\n",
       "    </tr>\n",
       "    <tr>\n",
       "      <th>4</th>\n",
       "      <td>subject nick bambos sounds great let know help tom vince j kaminski thomas gros hou ravi thuraisingham enron communications enron communications vince j kaminski hou stinson gibner hou subject nic...</td>\n",
       "      <td>0</td>\n",
       "    </tr>\n",
       "    <tr>\n",
       "      <th>...</th>\n",
       "      <td>...</td>\n",
       "      <td>...</td>\n",
       "    </tr>\n",
       "    <tr>\n",
       "      <th>995</th>\n",
       "      <td>subject meeting riskcare discuss joint ventures michael curran manuel rensink richard haddow michael curran head research manuel rensink richard haddow director technology services attendance cont...</td>\n",
       "      <td>4</td>\n",
       "    </tr>\n",
       "    <tr>\n",
       "      <th>996</th>\n",
       "      <td>subject rice course vince adjunct professor rice working wil uecker executive education concurence like sit energy derivatives course understand wil students registered course consent let know mat...</td>\n",
       "      <td>0</td>\n",
       "    </tr>\n",
       "    <tr>\n",
       "      <th>997</th>\n",
       "      <td>subject big unit days notice immediate erection size increases forget partner faking orgasm able able penetrate deeper partner experience pleasure multiple orgasms sexual intercourse women surveye...</td>\n",
       "      <td>1</td>\n",
       "    </tr>\n",
       "    <tr>\n",
       "      <th>998</th>\n",
       "      <td>subject e commerce continental europe anjam good opportunity update content intranet site expand coverage new areas arrange resources research works developing content need publish intranet though...</td>\n",
       "      <td>0</td>\n",
       "    </tr>\n",
       "    <tr>\n",
       "      <th>999</th>\n",
       "      <td>subject business power june international electric industry conference past years association power exchanges apex held business meetings different locations world time industry conference held co...</td>\n",
       "      <td>0</td>\n",
       "    </tr>\n",
       "  </tbody>\n",
       "</table>\n",
       "<p>1000 rows × 2 columns</p>\n",
       "</div>"
      ],
      "text/plain": [
       "                                                                                                                                                                                                       nlp_X  \\\n",
       "0    subject require attorney use system clean record calls late payments discontinued dead tracks pioneered advanced system proven strategies creditors debt collectors good debt termination program le...   \n",
       "1    subject ees operational risk conversation model simon notes gave work september looking volume numbers notes drives final cash flow numbers briefly issue surrounds exactly meant nonmarket noncredi...   \n",
       "2    subject hello vince kaminski enron dear vince sent reply earlier month heard date visit department seminar monday schedule visit monday like invite seminar attended graduate students faculty oppor...   \n",
       "3    subject extraa chance save medlcatlons ove pettitoes r pharmazm spurge ail shop successfull proven way save yo compos ur eureka oney slowcoach v patriot g tracker l l incubatory u americanism l de...   \n",
       "4    subject nick bambos sounds great let know help tom vince j kaminski thomas gros hou ravi thuraisingham enron communications enron communications vince j kaminski hou stinson gibner hou subject nic...   \n",
       "..                                                                                                                                                                                                       ...   \n",
       "995  subject meeting riskcare discuss joint ventures michael curran manuel rensink richard haddow michael curran head research manuel rensink richard haddow director technology services attendance cont...   \n",
       "996  subject rice course vince adjunct professor rice working wil uecker executive education concurence like sit energy derivatives course understand wil students registered course consent let know mat...   \n",
       "997  subject big unit days notice immediate erection size increases forget partner faking orgasm able able penetrate deeper partner experience pleasure multiple orgasms sexual intercourse women surveye...   \n",
       "998  subject e commerce continental europe anjam good opportunity update content intranet site expand coverage new areas arrange resources research works developing content need publish intranet though...   \n",
       "999  subject business power june international electric industry conference past years association power exchanges apex held business meetings different locations world time industry conference held co...   \n",
       "\n",
       "     ClusterLabel  \n",
       "0               3  \n",
       "1               0  \n",
       "2               0  \n",
       "3               0  \n",
       "4               0  \n",
       "..            ...  \n",
       "995             4  \n",
       "996             0  \n",
       "997             1  \n",
       "998             0  \n",
       "999             0  \n",
       "\n",
       "[1000 rows x 2 columns]"
      ]
     },
     "execution_count": 61,
     "metadata": {},
     "output_type": "execute_result"
    }
   ],
   "source": [
    "from sklearn.cluster import KMeans\n",
    "\n",
    "km = KMeans(n_clusters=5, random_state=0)\n",
    "km.fit_transform(features)\n",
    "cluster_labels = km.labels_\n",
    "cluster_labels = pd.DataFrame(cluster_labels, columns=['ClusterLabel'])\n",
    "pd.concat([nlp_emails, cluster_labels], axis=1)\n"
   ]
  },
  {
   "cell_type": "markdown",
   "metadata": {},
   "source": [
    "#### Use the CountVectorizer treat the all text of emails dataset to view top 10 words for each topic\n",
    "\n",
    "create a new emails date with the norm_X."
   ]
  },
  {
   "cell_type": "code",
   "execution_count": 62,
   "metadata": {},
   "outputs": [],
   "source": [
    "cv = CountVectorizer(max_df=0.95, min_df=2)"
   ]
  },
  {
   "cell_type": "code",
   "execution_count": 63,
   "metadata": {},
   "outputs": [],
   "source": [
    "dtm = cv.fit_transform(nlp_emails['nlp_X'])"
   ]
  },
  {
   "cell_type": "code",
   "execution_count": 64,
   "metadata": {},
   "outputs": [
    {
     "data": {
      "text/plain": [
       "LatentDirichletAllocation(n_components=5, random_state=0)"
      ]
     },
     "execution_count": 64,
     "metadata": {},
     "output_type": "execute_result"
    }
   ],
   "source": [
    "lda.fit(dtm)"
   ]
  },
  {
   "cell_type": "code",
   "execution_count": 65,
   "metadata": {},
   "outputs": [
    {
     "data": {
      "text/plain": [
       "<1000x6655 sparse matrix of type '<class 'numpy.int64'>'\n",
       "\twith 67316 stored elements in Compressed Sparse Row format>"
      ]
     },
     "execution_count": 65,
     "metadata": {},
     "output_type": "execute_result"
    }
   ],
   "source": [
    "dtm"
   ]
  },
  {
   "cell_type": "code",
   "execution_count": 66,
   "metadata": {
    "scrolled": true
   },
   "outputs": [
    {
     "name": "stdout",
     "output_type": "stream",
     "text": [
      "THE TOP 10 WORDS FOR TOPIC #0\n",
      "['business', 'new', 'management', 'gas', 'year', 'information', 'company', 'power', 'energy', 'market']\n",
      "\n",
      "\n",
      "THE TOP 10 WORDS FOR TOPIC #1\n",
      "['account', 'send', 'information', 'address', 'new', 'money', 'business', 'energy', 'mail', 'email']\n",
      "\n",
      "\n",
      "THE TOP 10 WORDS FOR TOPIC #2\n",
      "['shirley', 'group', 'know', 'time', 'interview', 'edu', 'research', 'kaminski', 'enron', 'vince']\n",
      "\n",
      "\n",
      "THE TOP 10 WORDS FOR TOPIC #3\n",
      "['var', 'prices', 'new', 'click', 'business', 'time', 'price', 'power', 'message', 'model']\n",
      "\n",
      "\n",
      "THE TOP 10 WORDS FOR TOPIC #4\n",
      "['know', 'forwarded', 'corp', 'research', 'group', 'thanks', 'kaminski', 'vince', 'hou', 'enron']\n",
      "\n",
      "\n"
     ]
    }
   ],
   "source": [
    "for index,topic in enumerate(lda.components_):\n",
    "    print(f'THE TOP 10 WORDS FOR TOPIC #{index}')\n",
    "    print([cv.get_feature_names()[i] for i in topic.argsort()[-10:]])\n",
    "    print('\\n')"
   ]
  },
  {
   "cell_type": "markdown",
   "metadata": {},
   "source": [
    "\n",
    "### Attaching Discovered Topic Labels to Original Articles"
   ]
  },
  {
   "cell_type": "code",
   "execution_count": 67,
   "metadata": {},
   "outputs": [],
   "source": [
    "topic_results = lda.transform(dtm)"
   ]
  },
  {
   "cell_type": "code",
   "execution_count": 68,
   "metadata": {},
   "outputs": [
    {
     "data": {
      "text/plain": [
       "550"
      ]
     },
     "execution_count": 68,
     "metadata": {},
     "output_type": "execute_result"
    }
   ],
   "source": [
    "topic_results.argmax()"
   ]
  },
  {
   "cell_type": "code",
   "execution_count": 69,
   "metadata": {},
   "outputs": [],
   "source": [
    "nlp_emails['topic'] = topic_results.argmax(axis=1)"
   ]
  },
  {
   "cell_type": "code",
   "execution_count": 70,
   "metadata": {},
   "outputs": [
    {
     "data": {
      "text/html": [
       "<div>\n",
       "<style scoped>\n",
       "    .dataframe tbody tr th:only-of-type {\n",
       "        vertical-align: middle;\n",
       "    }\n",
       "\n",
       "    .dataframe tbody tr th {\n",
       "        vertical-align: top;\n",
       "    }\n",
       "\n",
       "    .dataframe thead th {\n",
       "        text-align: right;\n",
       "    }\n",
       "</style>\n",
       "<table border=\"1\" class=\"dataframe\">\n",
       "  <thead>\n",
       "    <tr style=\"text-align: right;\">\n",
       "      <th></th>\n",
       "      <th>nlp_X</th>\n",
       "      <th>topic</th>\n",
       "    </tr>\n",
       "  </thead>\n",
       "  <tbody>\n",
       "    <tr>\n",
       "      <th>0</th>\n",
       "      <td>subject require attorney use system clean record calls late payments discontinued dead tracks pioneered advanced system proven strategies creditors debt collectors good debt termination program le...</td>\n",
       "      <td>1</td>\n",
       "    </tr>\n",
       "    <tr>\n",
       "      <th>1</th>\n",
       "      <td>subject ees operational risk conversation model simon notes gave work september looking volume numbers notes drives final cash flow numbers briefly issue surrounds exactly meant nonmarket noncredi...</td>\n",
       "      <td>3</td>\n",
       "    </tr>\n",
       "    <tr>\n",
       "      <th>2</th>\n",
       "      <td>subject hello vince kaminski enron dear vince sent reply earlier month heard date visit department seminar monday schedule visit monday like invite seminar attended graduate students faculty oppor...</td>\n",
       "      <td>2</td>\n",
       "    </tr>\n",
       "    <tr>\n",
       "      <th>3</th>\n",
       "      <td>subject extraa chance save medlcatlons ove pettitoes r pharmazm spurge ail shop successfull proven way save yo compos ur eureka oney slowcoach v patriot g tracker l l incubatory u americanism l de...</td>\n",
       "      <td>3</td>\n",
       "    </tr>\n",
       "    <tr>\n",
       "      <th>4</th>\n",
       "      <td>subject nick bambos sounds great let know help tom vince j kaminski thomas gros hou ravi thuraisingham enron communications enron communications vince j kaminski hou stinson gibner hou subject nic...</td>\n",
       "      <td>4</td>\n",
       "    </tr>\n",
       "  </tbody>\n",
       "</table>\n",
       "</div>"
      ],
      "text/plain": [
       "                                                                                                                                                                                                     nlp_X  \\\n",
       "0  subject require attorney use system clean record calls late payments discontinued dead tracks pioneered advanced system proven strategies creditors debt collectors good debt termination program le...   \n",
       "1  subject ees operational risk conversation model simon notes gave work september looking volume numbers notes drives final cash flow numbers briefly issue surrounds exactly meant nonmarket noncredi...   \n",
       "2  subject hello vince kaminski enron dear vince sent reply earlier month heard date visit department seminar monday schedule visit monday like invite seminar attended graduate students faculty oppor...   \n",
       "3  subject extraa chance save medlcatlons ove pettitoes r pharmazm spurge ail shop successfull proven way save yo compos ur eureka oney slowcoach v patriot g tracker l l incubatory u americanism l de...   \n",
       "4  subject nick bambos sounds great let know help tom vince j kaminski thomas gros hou ravi thuraisingham enron communications enron communications vince j kaminski hou stinson gibner hou subject nic...   \n",
       "\n",
       "   topic  \n",
       "0      1  \n",
       "1      3  \n",
       "2      2  \n",
       "3      3  \n",
       "4      4  "
      ]
     },
     "execution_count": 70,
     "metadata": {},
     "output_type": "execute_result"
    }
   ],
   "source": [
    "nlp_emails[0:5]"
   ]
  },
  {
   "cell_type": "code",
   "execution_count": 71,
   "metadata": {
    "scrolled": false
   },
   "outputs": [
    {
     "data": {
      "image/png": "[encoded data removed]",
      "text/plain": [
       "<Figure size 432x288 with 1 Axes>"
      ]
     },
     "metadata": {
      "needs_background": "light"
     },
     "output_type": "display_data"
    }
   ],
   "source": [
    "import seaborn as sns\n",
    "plt.figure(figsize=(6,4))\n",
    "sns.set_context('talk') \n",
    "sns.countplot(y=nlp_emails['topic'], palette=\"plasma\")\n",
    "plt.title('Topic Distribution');"
   ]
  },
  {
   "cell_type": "markdown",
   "metadata": {},
   "source": [
    "### Use the components index to find a single topic for each array as an example"
   ]
  },
  {
   "cell_type": "code",
   "execution_count": 72,
   "metadata": {},
   "outputs": [],
   "source": [
    "single_topic = lda.components_[2]"
   ]
  },
  {
   "cell_type": "code",
   "execution_count": 73,
   "metadata": {},
   "outputs": [
    {
     "data": {
      "text/plain": [
       "array([4912, 1782, 3906, ..., 3226, 1962, 6381])"
      ]
     },
     "execution_count": 73,
     "metadata": {},
     "output_type": "execute_result"
    }
   ],
   "source": [
    "single_topic.argsort()"
   ]
  },
  {
   "cell_type": "code",
   "execution_count": 74,
   "metadata": {
    "scrolled": true
   },
   "outputs": [
    {
     "data": {
      "text/plain": [
       "3.196849725655368"
      ]
     },
     "execution_count": 74,
     "metadata": {},
     "output_type": "execute_result"
    },
    {
     "data": {
      "text/plain": [
       "array([5458, 2595, 3278, 6064, 3044, 1848, 5063, 3226, 1962, 6381])"
      ]
     },
     "execution_count": 74,
     "metadata": {},
     "output_type": "execute_result"
    },
    {
     "name": "stdout",
     "output_type": "stream",
     "text": [
      "shirley\n",
      "group\n",
      "know\n",
      "time\n",
      "interview\n",
      "edu\n",
      "research\n",
      "kaminski\n",
      "enron\n",
      "vince\n"
     ]
    }
   ],
   "source": [
    "single_topic[100]\n",
    "#Top 10 words for this topic at the number 1055 email.\n",
    "\n",
    "single_topic.argsort()[-10:]\n",
    "\n",
    "top_word_indices = single_topic.argsort()[-10:]\n",
    "#Get the text information of this top 10 words\n",
    "\n",
    "for index in top_word_indices:\n",
    "    print(cv.get_feature_names()[index])"
   ]
  },
  {
   "cell_type": "code",
   "execution_count": 78,
   "metadata": {},
   "outputs": [],
   "source": [
    "norm_emails[\"nlp_X\"] = nlp_X"
   ]
  },
  {
   "cell_type": "code",
   "execution_count": null,
   "metadata": {},
   "outputs": [],
   "source": [
    "nlp_emails = norm_emails"
   ]
  },
  {
   "cell_type": "code",
   "execution_count": 82,
   "metadata": {},
   "outputs": [
    {
     "data": {
      "text/html": [
       "<div>\n",
       "<style scoped>\n",
       "    .dataframe tbody tr th:only-of-type {\n",
       "        vertical-align: middle;\n",
       "    }\n",
       "\n",
       "    .dataframe tbody tr th {\n",
       "        vertical-align: top;\n",
       "    }\n",
       "\n",
       "    .dataframe thead th {\n",
       "        text-align: right;\n",
       "    }\n",
       "</style>\n",
       "<table border=\"1\" class=\"dataframe\">\n",
       "  <thead>\n",
       "    <tr style=\"text-align: right;\">\n",
       "      <th></th>\n",
       "      <th>text</th>\n",
       "      <th>spam</th>\n",
       "      <th>norm_X</th>\n",
       "      <th>nlp_X</th>\n",
       "    </tr>\n",
       "  </thead>\n",
       "  <tbody>\n",
       "    <tr>\n",
       "      <th>97</th>\n",
       "      <td>Subject: do i require an attorney to use this system and clean up my record  calls about late payments are discontinued dead in their tracks .  we have pioneered an advanced system of proven strat...</td>\n",
       "      <td>1</td>\n",
       "      <td>subject  require attorney use system clean record calls late payments discontinued dead tracks  pioneered advanced system proven strategies get creditors debt collectors back good debt termination...</td>\n",
       "      <td>subject require attorney use system clean record calls late payments discontinued dead tracks pioneered advanced system proven strategies creditors debt collectors good debt termination program le...</td>\n",
       "    </tr>\n",
       "    <tr>\n",
       "      <th>1889</th>\n",
       "      <td>Subject: ees operational risk  per our conversation , here is the model that i have for simon . the notes  that i gave you were from some work i did back in september as i was looking  for volume ...</td>\n",
       "      <td>0</td>\n",
       "      <td>subject  ees operational risk per conversation  model simon  notes gave work back september looking volume numbers  notes show drives final cash flow numbers  briefly  issue surrounds exactly mean...</td>\n",
       "      <td>subject ees operational risk conversation model simon notes gave work september looking volume numbers notes drives final cash flow numbers briefly issue surrounds exactly meant nonmarket noncredi...</td>\n",
       "    </tr>\n",
       "    <tr>\n",
       "      <th>3250</th>\n",
       "      <td>Subject: re : hello from vince kaminski at enron  dear vince .  i sent you a reply earlier this month but i haven ' t heard from you about the  date of your visit . our department has a seminar ev...</td>\n",
       "      <td>0</td>\n",
       "      <td>subject   hello vince kaminski enron dear vince  sent reply earlier month  heard date visit  department seminar every monday  schedule visit monday would like invite give seminar attended many gra...</td>\n",
       "      <td>subject hello vince kaminski enron dear vince sent reply earlier month heard date visit department seminar monday schedule visit monday like invite seminar attended graduate students faculty oppor...</td>\n",
       "    </tr>\n",
       "  </tbody>\n",
       "</table>\n",
       "</div>"
      ],
      "text/plain": [
       "                                                                                                                                                                                                         text  \\\n",
       "97    Subject: do i require an attorney to use this system and clean up my record  calls about late payments are discontinued dead in their tracks .  we have pioneered an advanced system of proven strat...   \n",
       "1889  Subject: ees operational risk  per our conversation , here is the model that i have for simon . the notes  that i gave you were from some work i did back in september as i was looking  for volume ...   \n",
       "3250  Subject: re : hello from vince kaminski at enron  dear vince .  i sent you a reply earlier this month but i haven ' t heard from you about the  date of your visit . our department has a seminar ev...   \n",
       "\n",
       "      spam  \\\n",
       "97       1   \n",
       "1889     0   \n",
       "3250     0   \n",
       "\n",
       "                                                                                                                                                                                                       norm_X  \\\n",
       "97    subject  require attorney use system clean record calls late payments discontinued dead tracks  pioneered advanced system proven strategies get creditors debt collectors back good debt termination...   \n",
       "1889  subject  ees operational risk per conversation  model simon  notes gave work back september looking volume numbers  notes show drives final cash flow numbers  briefly  issue surrounds exactly mean...   \n",
       "3250  subject   hello vince kaminski enron dear vince  sent reply earlier month  heard date visit  department seminar every monday  schedule visit monday would like invite give seminar attended many gra...   \n",
       "\n",
       "                                                                                                                                                                                                        nlp_X  \n",
       "97    subject require attorney use system clean record calls late payments discontinued dead tracks pioneered advanced system proven strategies creditors debt collectors good debt termination program le...  \n",
       "1889  subject ees operational risk conversation model simon notes gave work september looking volume numbers notes drives final cash flow numbers briefly issue surrounds exactly meant nonmarket noncredi...  \n",
       "3250  subject hello vince kaminski enron dear vince sent reply earlier month heard date visit department seminar monday schedule visit monday like invite seminar attended graduate students faculty oppor...  "
      ]
     },
     "execution_count": 82,
     "metadata": {},
     "output_type": "execute_result"
    }
   ],
   "source": [
    "nlp_emails[0:3]"
   ]
  },
  {
   "cell_type": "code",
   "execution_count": 83,
   "metadata": {},
   "outputs": [],
   "source": [
    "nlp_emails.to_csv(\"nlp_emails.csv\")\n"
   ]
  }
 ],
 "metadata": {
  "celltoolbar": "Raw Cell Format",
  "kernelspec": {
   "display_name": "Python 3",
   "language": "python",
   "name": "python3"
  },
  "language_info": {
   "codemirror_mode": {
    "name": "ipython",
    "version": 3
   },
   "file_extension": ".py",
   "mimetype": "text/x-python",
   "name": "python",
   "nbconvert_exporter": "python",
   "pygments_lexer": "ipython3",
   "version": "3.8.5"
  }
 },
 "nbformat": 4,
 "nbformat_minor": 2
}
