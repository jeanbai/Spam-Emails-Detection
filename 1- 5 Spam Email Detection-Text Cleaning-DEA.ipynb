{
 "cells": [
  {
   "cell_type": "markdown",
   "metadata": {},
   "source": [
    "# Spam Emails Detection NLP\n",
    "\n",
    "## Abstarct\n",
    "\n",
    "This project is to use the automated classification method of Natural Language Processing to extract relevant information such as entities, keywords and sentiments from emails for the detection of spams, spam filtering, and profanity. The target variable for this dataset is ‘spam’ in which a spam email is mapped to 1 and anything else is mapped to 0. The target variable can be thought of as what we are trying to predict. In machine learning problems, the value of this variable will be modeled and predicted by other variables. This is a binary classification problems analysis by using the Nature Language Processing to detect unsolicited and unwanted emails. The model created in this project should be able to prevent spam emails from creeping into the user's inbox, thereby improving user experience.\n",
    "\n",
    "\n",
    "## Business Introduction\n",
    "\n",
    "Spam emails can be costly to both individuals and organizations. To effectively handle the threats posted by email spams, there are huge demand for effective spam detection from machine learning techniques . This project we will practice several kind of NLP models to find out the most effective ones. The project will follow with the machine learning lige cycle to solve the following business problems:\n",
    "\n",
    "- Obtain a general data information for Data Cleaning and formatting\n",
    "- PracticeText Processing methods to determine the efficient approaches\n",
    "- Explore data analysis, features engineering and selection\n",
    "- Conduct Regular Expression, Name Entity Recognition and POS\n",
    "- Compare different algorithms to find the best model fitting the data\n",
    "- Determine Model Selection using Accuracy Matrix and other techniques\n",
    "- Find out the similarity words within spam emails and ham emails\n",
    "- Implementation of models to test the result\n",
    "- Determine the advantage and disadvantage of each approaches\n",
    "\n",
    "\n",
    "\n",
    "### Data set information\n",
    "\n",
    "The original dataset is from the opensource “Spambase dataset” of the UCI machine learning repository(https://archive.ics.uci. edu/ml/datasets/spambase). The data source for this project is from Kaggle(https://www.kaggle.com/ karthickveerakumar/spam-filter). There are total 5000 rows of observations with 2 columns of features. For a better practice for bigginer, the data is imported to the file by shuffling and select only 1000 rows for the project.\n",
    "\n"
   ]
  },
  {
   "cell_type": "code",
   "execution_count": 1,
   "metadata": {},
   "outputs": [],
   "source": [
    "import warnings\n",
    "warnings.filterwarnings(\"ignore\")\n",
    "\n",
    "from IPython.core.interactiveshell import InteractiveShell\n",
    "InteractiveShell.ast_node_interactivity = \"all\""
   ]
  },
  {
   "cell_type": "code",
   "execution_count": 2,
   "metadata": {},
   "outputs": [],
   "source": [
    "import numpy as np\n",
    "import pandas as pd\n",
    "import scipy as sp\n",
    "import matplotlib.pyplot as plt\n",
    "%matplotlib inline\n",
    "\n",
    "import re \n",
    "pd.options.display.max_colwidth = 200\n",
    "import gensim\n"
   ]
  },
  {
   "cell_type": "markdown",
   "metadata": {},
   "source": [
    "## Import dataset and Data Exploration\n",
    "\n",
    "[Source:](https://www.kaggle.com/karthickveerakumar/spam-filter)"
   ]
  },
  {
   "cell_type": "code",
   "execution_count": 3,
   "metadata": {},
   "outputs": [],
   "source": [
    "Emails = pd.read_csv('emails.csv')\n"
   ]
  },
  {
   "cell_type": "code",
   "execution_count": 4,
   "metadata": {},
   "outputs": [],
   "source": [
    "Emails = pd.DataFrame(Emails)"
   ]
  },
  {
   "cell_type": "code",
   "execution_count": 5,
   "metadata": {},
   "outputs": [],
   "source": [
    "Emails.columns = [\"text\",\"spam\"]"
   ]
  },
  {
   "cell_type": "code",
   "execution_count": 6,
   "metadata": {
    "scrolled": false
   },
   "outputs": [
    {
     "data": {
      "text/html": [
       "<div>\n",
       "<style scoped>\n",
       "    .dataframe tbody tr th:only-of-type {\n",
       "        vertical-align: middle;\n",
       "    }\n",
       "\n",
       "    .dataframe tbody tr th {\n",
       "        vertical-align: top;\n",
       "    }\n",
       "\n",
       "    .dataframe thead th {\n",
       "        text-align: right;\n",
       "    }\n",
       "</style>\n",
       "<table border=\"1\" class=\"dataframe\">\n",
       "  <thead>\n",
       "    <tr style=\"text-align: right;\">\n",
       "      <th></th>\n",
       "      <th>text</th>\n",
       "      <th>spam</th>\n",
       "    </tr>\n",
       "  </thead>\n",
       "  <tbody>\n",
       "    <tr>\n",
       "      <th>0</th>\n",
       "      <td>Subject: naturally irresistible your corporate identity  lt is really hard to recollect a company : the  market is full of suqgestions and the information isoverwhelminq ; but a good  catchy logo ...</td>\n",
       "      <td>1</td>\n",
       "    </tr>\n",
       "    <tr>\n",
       "      <th>1</th>\n",
       "      <td>Subject: the stock trading gunslinger  fanny is merrill but muzo not colza attainder and penultimate like esmark perspicuous ramble is segovia not group try slung kansas tanzania yes chameleon or ...</td>\n",
       "      <td>1</td>\n",
       "    </tr>\n",
       "    <tr>\n",
       "      <th>2</th>\n",
       "      <td>Subject: unbelievable new homes made easy  im wanting to show you this  homeowner  you have been pre - approved for a $ 454 , 169 home loan at a 3 . 72 fixed rate .  this offer is being extended t...</td>\n",
       "      <td>1</td>\n",
       "    </tr>\n",
       "    <tr>\n",
       "      <th>3</th>\n",
       "      <td>Subject: 4 color printing special  request additional information now ! click here  click here for a printable version of our order form ( pdf format )  phone : ( 626 ) 338 - 8090 fax : ( 626 ) 33...</td>\n",
       "      <td>1</td>\n",
       "    </tr>\n",
       "    <tr>\n",
       "      <th>4</th>\n",
       "      <td>Subject: do not have money , get software cds from here !  software compatibility . . . . ain ' t it great ?  grow old along with me the best is yet to be .  all tradgedies are finish ' d by death...</td>\n",
       "      <td>1</td>\n",
       "    </tr>\n",
       "  </tbody>\n",
       "</table>\n",
       "</div>"
      ],
      "text/plain": [
       "                                                                                                                                                                                                      text  \\\n",
       "0  Subject: naturally irresistible your corporate identity  lt is really hard to recollect a company : the  market is full of suqgestions and the information isoverwhelminq ; but a good  catchy logo ...   \n",
       "1  Subject: the stock trading gunslinger  fanny is merrill but muzo not colza attainder and penultimate like esmark perspicuous ramble is segovia not group try slung kansas tanzania yes chameleon or ...   \n",
       "2  Subject: unbelievable new homes made easy  im wanting to show you this  homeowner  you have been pre - approved for a $ 454 , 169 home loan at a 3 . 72 fixed rate .  this offer is being extended t...   \n",
       "3  Subject: 4 color printing special  request additional information now ! click here  click here for a printable version of our order form ( pdf format )  phone : ( 626 ) 338 - 8090 fax : ( 626 ) 33...   \n",
       "4  Subject: do not have money , get software cds from here !  software compatibility . . . . ain ' t it great ?  grow old along with me the best is yet to be .  all tradgedies are finish ' d by death...   \n",
       "\n",
       "   spam  \n",
       "0     1  \n",
       "1     1  \n",
       "2     1  \n",
       "3     1  \n",
       "4     1  "
      ]
     },
     "execution_count": 6,
     "metadata": {},
     "output_type": "execute_result"
    }
   ],
   "source": [
    "Emails.head()"
   ]
  },
  {
   "cell_type": "code",
   "execution_count": 7,
   "metadata": {
    "scrolled": true
   },
   "outputs": [
    {
     "data": {
      "text/plain": [
       "'Subject: unbelievable new homes made easy  im wanting to show you this  homeowner  you have been pre - approved for a $ 454 , 169 home loan at a 3 . 72 fixed rate .  this offer is being extended to you unconditionally and your credit is in no way a factor .  to take advantage of this limited time opportunity  all we ask is that you visit our website and complete  the 1 minute post approval form  look foward to hearing from you ,  dorcas pittman'"
      ]
     },
     "execution_count": 7,
     "metadata": {},
     "output_type": "execute_result"
    }
   ],
   "source": [
    "Emails['text'][2]"
   ]
  },
  {
   "cell_type": "code",
   "execution_count": 10,
   "metadata": {
    "scrolled": false
   },
   "outputs": [
    {
     "data": {
      "text/plain": [
       "text    0\n",
       "spam    0\n",
       "dtype: int64"
      ]
     },
     "execution_count": 10,
     "metadata": {},
     "output_type": "execute_result"
    }
   ],
   "source": [
    "Emails.isnull().sum()"
   ]
  },
  {
   "cell_type": "code",
   "execution_count": 11,
   "metadata": {
    "scrolled": false
   },
   "outputs": [
    {
     "data": {
      "text/plain": [
       "0    4360\n",
       "1    1368\n",
       "Name: spam, dtype: int64"
      ]
     },
     "execution_count": 11,
     "metadata": {},
     "output_type": "execute_result"
    }
   ],
   "source": [
    "Emails[\"spam\"].value_counts()"
   ]
  },
  {
   "cell_type": "code",
   "execution_count": 12,
   "metadata": {
    "scrolled": true
   },
   "outputs": [
    {
     "name": "stdout",
     "output_type": "stream",
     "text": [
      "Stored 'Emails' (DataFrame)\n"
     ]
    }
   ],
   "source": [
    "%store \"Emails\""
   ]
  },
  {
   "cell_type": "code",
   "execution_count": 13,
   "metadata": {},
   "outputs": [],
   "source": [
    "email = Emails"
   ]
  },
  {
   "cell_type": "markdown",
   "metadata": {},
   "source": [
    "### Randomly select 1000 rows for this project"
   ]
  },
  {
   "cell_type": "code",
   "execution_count": 14,
   "metadata": {},
   "outputs": [],
   "source": [
    "import random\n",
    "a = random.sample(range(0,5000),1000)\n",
    "email = email.loc[a]\n"
   ]
  },
  {
   "cell_type": "code",
   "execution_count": 15,
   "metadata": {},
   "outputs": [
    {
     "data": {
      "text/plain": [
       "0    741\n",
       "1    259\n",
       "Name: spam, dtype: int64"
      ]
     },
     "execution_count": 15,
     "metadata": {},
     "output_type": "execute_result"
    }
   ],
   "source": [
    "email[\"spam\"].value_counts()"
   ]
  },
  {
   "cell_type": "code",
   "execution_count": 16,
   "metadata": {
    "scrolled": true
   },
   "outputs": [
    {
     "name": "stdout",
     "output_type": "stream",
     "text": [
      "Stored 'email' (DataFrame)\n"
     ]
    }
   ],
   "source": [
    "%store \"email\""
   ]
  },
  {
   "cell_type": "code",
   "execution_count": 17,
   "metadata": {},
   "outputs": [],
   "source": [
    "emails = email"
   ]
  },
  {
   "cell_type": "code",
   "execution_count": 18,
   "metadata": {
    "scrolled": true
   },
   "outputs": [
    {
     "data": {
      "text/plain": [
       "0    741\n",
       "1    259\n",
       "Name: spam, dtype: int64"
      ]
     },
     "execution_count": 18,
     "metadata": {},
     "output_type": "execute_result"
    }
   ],
   "source": [
    "emails[\"spam\"].value_counts()\n"
   ]
  },
  {
   "cell_type": "code",
   "execution_count": 19,
   "metadata": {},
   "outputs": [
    {
     "data": {
      "text/plain": [
       "pandas.core.series.Series"
      ]
     },
     "execution_count": 19,
     "metadata": {},
     "output_type": "execute_result"
    }
   ],
   "source": [
    "type(emails['text'])"
   ]
  },
  {
   "cell_type": "code",
   "execution_count": 20,
   "metadata": {},
   "outputs": [
    {
     "data": {
      "text/html": [
       "<div>\n",
       "<style scoped>\n",
       "    .dataframe tbody tr th:only-of-type {\n",
       "        vertical-align: middle;\n",
       "    }\n",
       "\n",
       "    .dataframe tbody tr th {\n",
       "        vertical-align: top;\n",
       "    }\n",
       "\n",
       "    .dataframe thead th {\n",
       "        text-align: right;\n",
       "    }\n",
       "</style>\n",
       "<table border=\"1\" class=\"dataframe\">\n",
       "  <thead>\n",
       "    <tr style=\"text-align: right;\">\n",
       "      <th></th>\n",
       "      <th>text</th>\n",
       "      <th>spam</th>\n",
       "    </tr>\n",
       "  </thead>\n",
       "  <tbody>\n",
       "    <tr>\n",
       "      <th>3973</th>\n",
       "      <td>Subject: fyi : energy operations promotions  hi vince , scott pleus ( listed below in the director promotion section ) is  bandwidth - trading backoffice person we \u0001 , ve been working with . i hav...</td>\n",
       "      <td>0</td>\n",
       "    </tr>\n",
       "    <tr>\n",
       "      <th>4996</th>\n",
       "      <td>Subject: hedge effectiveness test for fair value hedges  gentlemen :  we have had favorable responses regarding the use of our volatility  reduction method ( roger , i ' ve attached a copy of our ...</td>\n",
       "      <td>0</td>\n",
       "    </tr>\n",
       "    <tr>\n",
       "      <th>1498</th>\n",
       "      <td>Subject: merit and equity increases  norma ,  i am sending you an excel spreadsheet with proposed  merit and equity increases .  i have slightly exceeded the merit quota .  the equity increases ad...</td>\n",
       "      <td>0</td>\n",
       "    </tr>\n",
       "    <tr>\n",
       "      <th>3701</th>\n",
       "      <td>Subject: thank you !  fyi from valeria .  - - - - - - - - - - - - - - - - - - - - - - forwarded by shirley crenshaw / hou / ect on 09 / 12 / 2000  10 : 03 am - - - - - - - - - - - - - - - - - - - ...</td>\n",
       "      <td>0</td>\n",
       "    </tr>\n",
       "    <tr>\n",
       "      <th>1897</th>\n",
       "      <td>Subject: your talk on 2 / 7 / 00 ( monday ) ( fwd )  vince : a minor revision of my earlier email shown below . the last line  should read ' i will be waiting in my office from 6 : 30 - 6 : 50 for...</td>\n",
       "      <td>0</td>\n",
       "    </tr>\n",
       "  </tbody>\n",
       "</table>\n",
       "</div>"
      ],
      "text/plain": [
       "                                                                                                                                                                                                         text  \\\n",
       "3973  Subject: fyi : energy operations promotions  hi vince , scott pleus ( listed below in the director promotion section ) is  bandwidth - trading backoffice person we \u0001 , ve been working with . i hav...   \n",
       "4996  Subject: hedge effectiveness test for fair value hedges  gentlemen :  we have had favorable responses regarding the use of our volatility  reduction method ( roger , i ' ve attached a copy of our ...   \n",
       "1498  Subject: merit and equity increases  norma ,  i am sending you an excel spreadsheet with proposed  merit and equity increases .  i have slightly exceeded the merit quota .  the equity increases ad...   \n",
       "3701  Subject: thank you !  fyi from valeria .  - - - - - - - - - - - - - - - - - - - - - - forwarded by shirley crenshaw / hou / ect on 09 / 12 / 2000  10 : 03 am - - - - - - - - - - - - - - - - - - - ...   \n",
       "1897  Subject: your talk on 2 / 7 / 00 ( monday ) ( fwd )  vince : a minor revision of my earlier email shown below . the last line  should read ' i will be waiting in my office from 6 : 30 - 6 : 50 for...   \n",
       "\n",
       "      spam  \n",
       "3973     0  \n",
       "4996     0  \n",
       "1498     0  \n",
       "3701     0  \n",
       "1897     0  "
      ]
     },
     "execution_count": 20,
     "metadata": {},
     "output_type": "execute_result"
    }
   ],
   "source": [
    "emails.head()"
   ]
  },
  {
   "cell_type": "markdown",
   "metadata": {},
   "source": [
    "### Visulazaion of the volums of spam emails and none spam emails"
   ]
  },
  {
   "cell_type": "code",
   "execution_count": 21,
   "metadata": {},
   "outputs": [
    {
     "data": {
      "image/png": "[encoded data removed]",
      "text/plain": [
       "<Figure size 432x288 with 1 Axes>"
      ]
     },
     "metadata": {
      "needs_background": "light"
     },
     "output_type": "display_data"
    }
   ],
   "source": [
    "import seaborn as sns\n",
    "plt.figure(figsize=(6,4))\n",
    "sns.set_context('talk') \n",
    "sns.countplot(emails['spam'], palette=\"plasma\")\n",
    "plt.title('spam vs ham');\n"
   ]
  },
  {
   "cell_type": "markdown",
   "metadata": {},
   "source": [
    "### Make word cloud to compare the spam emails and non spam emails\n",
    "\n"
   ]
  },
  {
   "cell_type": "code",
   "execution_count": 22,
   "metadata": {},
   "outputs": [],
   "source": [
    "from os import path\n",
    "from PIL import Image\n",
    "from wordcloud import WordCloud, STOPWORDS, ImageColorGenerator"
   ]
  },
  {
   "cell_type": "markdown",
   "metadata": {},
   "source": [
    "### Make two subset filter by \"spam\" or \"ham\""
   ]
  },
  {
   "cell_type": "code",
   "execution_count": 23,
   "metadata": {},
   "outputs": [
    {
     "data": {
      "text/plain": [
       "(259, 2)"
      ]
     },
     "execution_count": 23,
     "metadata": {},
     "output_type": "execute_result"
    }
   ],
   "source": [
    "spamdf = emails[emails['spam']== 1]\n",
    "spamdf.shape"
   ]
  },
  {
   "cell_type": "code",
   "execution_count": 24,
   "metadata": {},
   "outputs": [
    {
     "data": {
      "text/plain": [
       "(741, 2)"
      ]
     },
     "execution_count": 24,
     "metadata": {},
     "output_type": "execute_result"
    }
   ],
   "source": [
    "hamdf = emails[emails[\"spam\"] == 0]\n",
    "\n",
    "hamdf.shape"
   ]
  },
  {
   "cell_type": "code",
   "execution_count": 25,
   "metadata": {},
   "outputs": [],
   "source": [
    "X_spam= np.array(spamdf['text'])\n",
    "X_ham = np.array(hamdf['text'])"
   ]
  },
  {
   "cell_type": "code",
   "execution_count": 26,
   "metadata": {},
   "outputs": [],
   "source": [
    "doc_spam = np.array_str(X_spam)\n",
    "doc_ham = np.array_str(X_ham)"
   ]
  },
  {
   "cell_type": "code",
   "execution_count": 27,
   "metadata": {
    "scrolled": true
   },
   "outputs": [
    {
     "data": {
      "text/plain": [
       "<matplotlib.image.AxesImage at 0x7fa5b3836dc0>"
      ]
     },
     "execution_count": 27,
     "metadata": {},
     "output_type": "execute_result"
    },
    {
     "data": {
      "text/plain": [
       "(-0.5, 399.5, 199.5, -0.5)"
      ]
     },
     "execution_count": 27,
     "metadata": {},
     "output_type": "execute_result"
    },
    {
     "data": {
      "image/png": "[encoded data removed]",
      "text/plain": [
       "<Figure size 432x288 with 1 Axes>"
      ]
     },
     "metadata": {
      "needs_background": "light"
     },
     "output_type": "display_data"
    }
   ],
   "source": [
    "wordcloud = WordCloud().generate(doc_spam)\n",
    "plt.imshow(wordcloud, interpolation='bilinear')\n",
    "plt.axis(\"off\")\n",
    "plt.show()"
   ]
  },
  {
   "cell_type": "code",
   "execution_count": 28,
   "metadata": {},
   "outputs": [
    {
     "data": {
      "image/png": "[encoded data removed]",
      "text/plain": [
       "<Figure size 432x288 with 1 Axes>"
      ]
     },
     "metadata": {
      "needs_background": "light"
     },
     "output_type": "display_data"
    }
   ],
   "source": [
    "wordcloud = WordCloud().generate(doc_ham)\n",
    "wordcloud = WordCloud(max_font_size=50, max_words=100, background_color=\"white\").generate(doc_ham)\n",
    "plt.figure()\n",
    "plt.imshow(wordcloud, interpolation=\"bilinear\")\n",
    "plt.axis(\"off\")\n",
    "plt.show();\n"
   ]
  },
  {
   "cell_type": "markdown",
   "metadata": {},
   "source": [
    "## Text Pre_processing"
   ]
  },
  {
   "cell_type": "markdown",
   "metadata": {},
   "source": [
    "### Simple text-processing"
   ]
  },
  {
   "cell_type": "code",
   "execution_count": 29,
   "metadata": {},
   "outputs": [],
   "source": [
    "emails = email"
   ]
  },
  {
   "cell_type": "code",
   "execution_count": 30,
   "metadata": {},
   "outputs": [],
   "source": [
    "X = np.array(emails['text'])"
   ]
  },
  {
   "cell_type": "code",
   "execution_count": 31,
   "metadata": {},
   "outputs": [],
   "source": [
    "import nltk\n",
    "#nltk.download()\n"
   ]
  },
  {
   "cell_type": "code",
   "execution_count": 32,
   "metadata": {},
   "outputs": [
    {
     "name": "stderr",
     "output_type": "stream",
     "text": [
      "[nltk_data] Downloading package stopwords to\n",
      "[nltk_data]     /Users/jeanbai/nltk_data...\n",
      "[nltk_data]   Package stopwords is already up-to-date!\n"
     ]
    },
    {
     "data": {
      "text/plain": [
       "True"
      ]
     },
     "execution_count": 32,
     "metadata": {},
     "output_type": "execute_result"
    }
   ],
   "source": [
    "\n",
    "from nltk.corpus import stopwords\n",
    "nltk.download('stopwords')\n",
    "from nltk.tokenize import word_tokenize\n",
    "\n",
    "\n",
    "stop_words = nltk.corpus.stopwords.words('english')\n",
    "\n",
    "\n",
    "def normalize_document(doc):\n",
    "    \n",
    "    # remove of hyperlinks\n",
    "    doc = re.sub(r\"http\\S+\", \"\",doc)\n",
    "    # remove of HTML tags\n",
    "    doc = re.sub(r\"'<.*?>''\", \"\",doc)\n",
    "\n",
    "    \n",
    "    # tokenize document\n",
    "    tokens = word_tokenize(doc)\n",
    "    \n",
    "    # filter stopwords out of document\n",
    "    filtered_tokens = [token for token in tokens if token not in stop_words]\n",
    "    # re-create document from filtered tokens\n",
    "    doc = ' '.join(filtered_tokens)\n",
    "    \n",
    "    return doc\n",
    "\n",
    "normalize_corpus = np.vectorize(normalize_document)\n"
   ]
  },
  {
   "cell_type": "code",
   "execution_count": 33,
   "metadata": {},
   "outputs": [],
   "source": [
    "X1 = normalize_corpus(X)"
   ]
  },
  {
   "cell_type": "code",
   "execution_count": 34,
   "metadata": {},
   "outputs": [],
   "source": [
    "X1_df = pd.DataFrame(X1)"
   ]
  },
  {
   "cell_type": "code",
   "execution_count": 35,
   "metadata": {},
   "outputs": [],
   "source": [
    "import re\n",
    "import string\n",
    "\n",
    "\n",
    "def clean_text(text):\n",
    "    '''Make text lowercase, remove text in square brackets, remove punctuation and remove words containing numbers.'''\n",
    "    text = text.lower()\n",
    "    text = re.sub('\\[.*?\\]', '', text)\n",
    "    text = re.sub('[%s]' % re.escape(string.punctuation), '', text)\n",
    "    text = re.sub('\\w*\\d\\w*', '', text)\n",
    "    return text\n",
    "\n",
    "clean = lambda x: clean_text(x)"
   ]
  },
  {
   "cell_type": "code",
   "execution_count": 36,
   "metadata": {
    "scrolled": true
   },
   "outputs": [],
   "source": [
    "X_clean = pd.DataFrame(X1_df[0].apply(clean))\n"
   ]
  },
  {
   "cell_type": "code",
   "execution_count": 37,
   "metadata": {},
   "outputs": [
    {
     "data": {
      "text/html": [
       "<div>\n",
       "<style scoped>\n",
       "    .dataframe tbody tr th:only-of-type {\n",
       "        vertical-align: middle;\n",
       "    }\n",
       "\n",
       "    .dataframe tbody tr th {\n",
       "        vertical-align: top;\n",
       "    }\n",
       "\n",
       "    .dataframe thead th {\n",
       "        text-align: right;\n",
       "    }\n",
       "</style>\n",
       "<table border=\"1\" class=\"dataframe\">\n",
       "  <thead>\n",
       "    <tr style=\"text-align: right;\">\n",
       "      <th></th>\n",
       "      <th>0</th>\n",
       "    </tr>\n",
       "  </thead>\n",
       "  <tbody>\n",
       "    <tr>\n",
       "      <th>0</th>\n",
       "      <td>subject  fyi  energy operations promotions hi vince  scott pleus  listed director promotion section  bandwidth  trading backoffice person \u0001  working  known scott ebs since started around time  fac...</td>\n",
       "    </tr>\n",
       "    <tr>\n",
       "      <th>1</th>\n",
       "      <td>subject  hedge effectiveness test fair value hedges gentlemen  favorable responses regarding use volatility reduction method  roger   attached copy article case  seen   however  continued quibble ...</td>\n",
       "    </tr>\n",
       "    <tr>\n",
       "      <th>2</th>\n",
       "      <td>subject  merit equity increases norma  sending excel spreadsheet proposed merit equity increases  slightly exceeded merit quota  equity increases address two issues  retention error setting salary...</td>\n",
       "    </tr>\n",
       "    <tr>\n",
       "      <th>3</th>\n",
       "      <td>subject  thank  fyi valeria                        forwarded shirley crenshaw  hou  ect                                    valeria   stone  exxon  sprint  com            shirley  crenshaw  enron  ...</td>\n",
       "    </tr>\n",
       "    <tr>\n",
       "      <th>4</th>\n",
       "      <td>subject  talk       monday   fwd  vince  minor revision earlier email shown  last line read  waiting office        call     office phone     sorry resend email  ed           forwarded message     ...</td>\n",
       "    </tr>\n",
       "    <tr>\n",
       "      <th>...</th>\n",
       "      <td>...</td>\n",
       "    </tr>\n",
       "    <tr>\n",
       "      <th>995</th>\n",
       "      <td>subject  project richard  would like inform decided participation project  thanks interest enron involved study  vince kaminski</td>\n",
       "    </tr>\n",
       "    <tr>\n",
       "      <th>996</th>\n",
       "      <td>subject   phone interview telephone interview jerzy jarosz  resume attached  wednesday  july     pm houston time  would like call home  telephone        reserved ebl  interview  questions  please ...</td>\n",
       "    </tr>\n",
       "    <tr>\n",
       "      <th>997</th>\n",
       "      <td>subject  fw  energy leader consulting generation evaluator  ege  vince  gentleman wants meet  th       original message        steve mitnick   enron  sent  monday  may        crenshaw  shirley cc ...</td>\n",
       "    </tr>\n",
       "    <tr>\n",
       "      <th>998</th>\n",
       "      <td>subject   working gas price model vince  simplified version brad  model mind   arbitrage  condition equates trading margins across country  costs transmission rise congestion network  wellhead sup...</td>\n",
       "    </tr>\n",
       "    <tr>\n",
       "      <th>999</th>\n",
       "      <td>subject  tuesday morning meeting first thing    vince  sorry couldnt connect last week  would tuesday morning first thing  say   get together discuss demo proposal issues  come office conveniently...</td>\n",
       "    </tr>\n",
       "  </tbody>\n",
       "</table>\n",
       "<p>1000 rows × 1 columns</p>\n",
       "</div>"
      ],
      "text/plain": [
       "                                                                                                                                                                                                           0\n",
       "0    subject  fyi  energy operations promotions hi vince  scott pleus  listed director promotion section  bandwidth  trading backoffice person \u0001  working  known scott ebs since started around time  fac...\n",
       "1    subject  hedge effectiveness test fair value hedges gentlemen  favorable responses regarding use volatility reduction method  roger   attached copy article case  seen   however  continued quibble ...\n",
       "2    subject  merit equity increases norma  sending excel spreadsheet proposed merit equity increases  slightly exceeded merit quota  equity increases address two issues  retention error setting salary...\n",
       "3    subject  thank  fyi valeria                        forwarded shirley crenshaw  hou  ect                                    valeria   stone  exxon  sprint  com            shirley  crenshaw  enron  ...\n",
       "4    subject  talk       monday   fwd  vince  minor revision earlier email shown  last line read  waiting office        call     office phone     sorry resend email  ed           forwarded message     ...\n",
       "..                                                                                                                                                                                                       ...\n",
       "995                                                                          subject  project richard  would like inform decided participation project  thanks interest enron involved study  vince kaminski\n",
       "996  subject   phone interview telephone interview jerzy jarosz  resume attached  wednesday  july     pm houston time  would like call home  telephone        reserved ebl  interview  questions  please ...\n",
       "997  subject  fw  energy leader consulting generation evaluator  ege  vince  gentleman wants meet  th       original message        steve mitnick   enron  sent  monday  may        crenshaw  shirley cc ...\n",
       "998  subject   working gas price model vince  simplified version brad  model mind   arbitrage  condition equates trading margins across country  costs transmission rise congestion network  wellhead sup...\n",
       "999  subject  tuesday morning meeting first thing    vince  sorry couldnt connect last week  would tuesday morning first thing  say   get together discuss demo proposal issues  come office conveniently...\n",
       "\n",
       "[1000 rows x 1 columns]"
      ]
     },
     "execution_count": 37,
     "metadata": {},
     "output_type": "execute_result"
    }
   ],
   "source": [
    "X_clean"
   ]
  },
  {
   "cell_type": "code",
   "execution_count": 38,
   "metadata": {},
   "outputs": [],
   "source": [
    "norm_X = np.array(X_clean[0])"
   ]
  },
  {
   "cell_type": "code",
   "execution_count": 39,
   "metadata": {},
   "outputs": [],
   "source": [
    "emails['norm_X'] = norm_X"
   ]
  },
  {
   "cell_type": "code",
   "execution_count": 40,
   "metadata": {
    "scrolled": true
   },
   "outputs": [
    {
     "data": {
      "text/html": [
       "<div>\n",
       "<style scoped>\n",
       "    .dataframe tbody tr th:only-of-type {\n",
       "        vertical-align: middle;\n",
       "    }\n",
       "\n",
       "    .dataframe tbody tr th {\n",
       "        vertical-align: top;\n",
       "    }\n",
       "\n",
       "    .dataframe thead th {\n",
       "        text-align: right;\n",
       "    }\n",
       "</style>\n",
       "<table border=\"1\" class=\"dataframe\">\n",
       "  <thead>\n",
       "    <tr style=\"text-align: right;\">\n",
       "      <th></th>\n",
       "      <th>text</th>\n",
       "      <th>spam</th>\n",
       "      <th>norm_X</th>\n",
       "    </tr>\n",
       "  </thead>\n",
       "  <tbody>\n",
       "    <tr>\n",
       "      <th>4996</th>\n",
       "      <td>Subject: hedge effectiveness test for fair value hedges  gentlemen :  we have had favorable responses regarding the use of our volatility  reduction method ( roger , i ' ve attached a copy of our ...</td>\n",
       "      <td>0</td>\n",
       "      <td>subject  hedge effectiveness test fair value hedges gentlemen  favorable responses regarding use volatility reduction method  roger   attached copy article case  seen   however  continued quibble ...</td>\n",
       "    </tr>\n",
       "    <tr>\n",
       "      <th>1498</th>\n",
       "      <td>Subject: merit and equity increases  norma ,  i am sending you an excel spreadsheet with proposed  merit and equity increases .  i have slightly exceeded the merit quota .  the equity increases ad...</td>\n",
       "      <td>0</td>\n",
       "      <td>subject  merit equity increases norma  sending excel spreadsheet proposed merit equity increases  slightly exceeded merit quota  equity increases address two issues  retention error setting salary...</td>\n",
       "    </tr>\n",
       "  </tbody>\n",
       "</table>\n",
       "</div>"
      ],
      "text/plain": [
       "                                                                                                                                                                                                         text  \\\n",
       "4996  Subject: hedge effectiveness test for fair value hedges  gentlemen :  we have had favorable responses regarding the use of our volatility  reduction method ( roger , i ' ve attached a copy of our ...   \n",
       "1498  Subject: merit and equity increases  norma ,  i am sending you an excel spreadsheet with proposed  merit and equity increases .  i have slightly exceeded the merit quota .  the equity increases ad...   \n",
       "\n",
       "      spam  \\\n",
       "4996     0   \n",
       "1498     0   \n",
       "\n",
       "                                                                                                                                                                                                       norm_X  \n",
       "4996  subject  hedge effectiveness test fair value hedges gentlemen  favorable responses regarding use volatility reduction method  roger   attached copy article case  seen   however  continued quibble ...  \n",
       "1498  subject  merit equity increases norma  sending excel spreadsheet proposed merit equity increases  slightly exceeded merit quota  equity increases address two issues  retention error setting salary...  "
      ]
     },
     "execution_count": 40,
     "metadata": {},
     "output_type": "execute_result"
    }
   ],
   "source": [
    "emails[1:3]"
   ]
  },
  {
   "cell_type": "code",
   "execution_count": 41,
   "metadata": {},
   "outputs": [],
   "source": [
    "norm_emails = emails"
   ]
  },
  {
   "cell_type": "code",
   "execution_count": 42,
   "metadata": {},
   "outputs": [],
   "source": [
    "norm_emails.to_csv('norm_emails.csv') \n"
   ]
  },
  {
   "cell_type": "markdown",
   "metadata": {},
   "source": [
    "## Use spaCy to remove more stop word"
   ]
  },
  {
   "cell_type": "code",
   "execution_count": 43,
   "metadata": {},
   "outputs": [],
   "source": [
    "import spacy\n",
    "nlp = spacy.load(\"en_core_web_lg\")\n",
    "\n",
    "\n",
    "all_stopwords = nlp.Defaults.stop_words\n",
    "\n",
    "\n",
    "def normalize_document(doc):\n",
    "    \n",
    "    # tokenize document\n",
    "    tokens = word_tokenize(doc)\n",
    "    \n",
    "    # filter stopwords out of document\n",
    "    filtered_tokens = [token for token in tokens if not token in all_stopwords]\n",
    "    # re-create document from filtered tokens\n",
    "    doc = ' '.join(filtered_tokens)\n",
    "    \n",
    "    return doc\n",
    "\n",
    "spacy_corpus1 = np.vectorize(normalize_document)\n",
    "\n",
    "\n",
    "nlp_X = spacy_corpus1(norm_X)"
   ]
  },
  {
   "cell_type": "code",
   "execution_count": 44,
   "metadata": {},
   "outputs": [],
   "source": [
    "\n",
    "nlp.Defaults.stop_words |= {'pm', 'com','cc','please','ect','http','www',}\n",
    "\n",
    "\n",
    "def normalize_document(doc):\n",
    "    \n",
    "    # tokenize document\n",
    "    tokens = word_tokenize(doc)\n",
    "    \n",
    "    # filter stopwords out of document\n",
    "    filtered_tokens = [token for token in tokens if not token in nlp.Defaults.stop_words]\n",
    "    # re-create document from filtered tokens\n",
    "    doc = ' '.join(filtered_tokens)\n",
    "    \n",
    "    return doc\n",
    "\n",
    "spacy_corpus2 = np.vectorize(normalize_document)\n"
   ]
  },
  {
   "cell_type": "code",
   "execution_count": 45,
   "metadata": {
    "scrolled": false
   },
   "outputs": [
    {
     "data": {
      "text/html": [
       "<div>\n",
       "<style scoped>\n",
       "    .dataframe tbody tr th:only-of-type {\n",
       "        vertical-align: middle;\n",
       "    }\n",
       "\n",
       "    .dataframe tbody tr th {\n",
       "        vertical-align: top;\n",
       "    }\n",
       "\n",
       "    .dataframe thead th {\n",
       "        text-align: right;\n",
       "    }\n",
       "</style>\n",
       "<table border=\"1\" class=\"dataframe\">\n",
       "  <thead>\n",
       "    <tr style=\"text-align: right;\">\n",
       "      <th></th>\n",
       "      <th>nlp_X</th>\n",
       "    </tr>\n",
       "  </thead>\n",
       "  <tbody>\n",
       "    <tr>\n",
       "      <th>0</th>\n",
       "      <td>subject fyi energy operations promotions hi vince scott pleus listed director promotion section bandwidth trading backoffice person \u0001 working known scott ebs started time fact people talk sally be...</td>\n",
       "    </tr>\n",
       "    <tr>\n",
       "      <th>1</th>\n",
       "      <td>subject hedge effectiveness test fair value hedges gentlemen favorable responses use volatility reduction method roger attached copy article case seen continued quibble create set data points inpu...</td>\n",
       "    </tr>\n",
       "  </tbody>\n",
       "</table>\n",
       "</div>"
      ],
      "text/plain": [
       "                                                                                                                                                                                                     nlp_X\n",
       "0  subject fyi energy operations promotions hi vince scott pleus listed director promotion section bandwidth trading backoffice person \u0001 working known scott ebs started time fact people talk sally be...\n",
       "1  subject hedge effectiveness test fair value hedges gentlemen favorable responses use volatility reduction method roger attached copy article case seen continued quibble create set data points inpu..."
      ]
     },
     "execution_count": 45,
     "metadata": {},
     "output_type": "execute_result"
    }
   ],
   "source": [
    "nlp_X = spacy_corpus2(nlp_X)\n",
    "\n",
    "nlp_emails = pd.DataFrame(nlp_X)\n",
    "nlp_emails.rename(columns={0:\"nlp_X\"}, inplace=True)\n",
    "\n",
    "nlp_emails[0:2]"
   ]
  },
  {
   "cell_type": "code",
   "execution_count": 71,
   "metadata": {},
   "outputs": [],
   "source": [
    "norm_emails[\"nlp_X\"]= nlp_X"
   ]
  },
  {
   "cell_type": "code",
   "execution_count": 72,
   "metadata": {
    "scrolled": true
   },
   "outputs": [
    {
     "data": {
      "text/html": [
       "<div>\n",
       "<style scoped>\n",
       "    .dataframe tbody tr th:only-of-type {\n",
       "        vertical-align: middle;\n",
       "    }\n",
       "\n",
       "    .dataframe tbody tr th {\n",
       "        vertical-align: top;\n",
       "    }\n",
       "\n",
       "    .dataframe thead th {\n",
       "        text-align: right;\n",
       "    }\n",
       "</style>\n",
       "<table border=\"1\" class=\"dataframe\">\n",
       "  <thead>\n",
       "    <tr style=\"text-align: right;\">\n",
       "      <th></th>\n",
       "      <th>text</th>\n",
       "      <th>spam</th>\n",
       "      <th>norm_X</th>\n",
       "      <th>nlp_X</th>\n",
       "    </tr>\n",
       "  </thead>\n",
       "  <tbody>\n",
       "    <tr>\n",
       "      <th>3973</th>\n",
       "      <td>Subject: fyi : energy operations promotions  hi vince , scott pleus ( listed below in the director promotion section ) is  bandwidth - trading backoffice person we \u0001 , ve been working with . i hav...</td>\n",
       "      <td>0</td>\n",
       "      <td>subject  fyi  energy operations promotions hi vince  scott pleus  listed director promotion section  bandwidth  trading backoffice person \u0001  working  known scott ebs since started around time  fac...</td>\n",
       "      <td>subject fyi energy operations promotions hi vince scott pleus listed director promotion section bandwidth trading backoffice person \u0001 working known scott ebs started time fact people talk sally be...</td>\n",
       "    </tr>\n",
       "    <tr>\n",
       "      <th>4996</th>\n",
       "      <td>Subject: hedge effectiveness test for fair value hedges  gentlemen :  we have had favorable responses regarding the use of our volatility  reduction method ( roger , i ' ve attached a copy of our ...</td>\n",
       "      <td>0</td>\n",
       "      <td>subject  hedge effectiveness test fair value hedges gentlemen  favorable responses regarding use volatility reduction method  roger   attached copy article case  seen   however  continued quibble ...</td>\n",
       "      <td>subject hedge effectiveness test fair value hedges gentlemen favorable responses use volatility reduction method roger attached copy article case seen continued quibble create set data points inpu...</td>\n",
       "    </tr>\n",
       "  </tbody>\n",
       "</table>\n",
       "</div>"
      ],
      "text/plain": [
       "                                                                                                                                                                                                         text  \\\n",
       "3973  Subject: fyi : energy operations promotions  hi vince , scott pleus ( listed below in the director promotion section ) is  bandwidth - trading backoffice person we \u0001 , ve been working with . i hav...   \n",
       "4996  Subject: hedge effectiveness test for fair value hedges  gentlemen :  we have had favorable responses regarding the use of our volatility  reduction method ( roger , i ' ve attached a copy of our ...   \n",
       "\n",
       "      spam  \\\n",
       "3973     0   \n",
       "4996     0   \n",
       "\n",
       "                                                                                                                                                                                                       norm_X  \\\n",
       "3973  subject  fyi  energy operations promotions hi vince  scott pleus  listed director promotion section  bandwidth  trading backoffice person \u0001  working  known scott ebs since started around time  fac...   \n",
       "4996  subject  hedge effectiveness test fair value hedges gentlemen  favorable responses regarding use volatility reduction method  roger   attached copy article case  seen   however  continued quibble ...   \n",
       "\n",
       "                                                                                                                                                                                                        nlp_X  \n",
       "3973  subject fyi energy operations promotions hi vince scott pleus listed director promotion section bandwidth trading backoffice person \u0001 working known scott ebs started time fact people talk sally be...  \n",
       "4996  subject hedge effectiveness test fair value hedges gentlemen favorable responses use volatility reduction method roger attached copy article case seen continued quibble create set data points inpu...  "
      ]
     },
     "execution_count": 72,
     "metadata": {},
     "output_type": "execute_result"
    }
   ],
   "source": [
    "norm_emails[0:2]"
   ]
  },
  {
   "cell_type": "code",
   "execution_count": 73,
   "metadata": {},
   "outputs": [],
   "source": [
    "nlp_emails = norm_emails"
   ]
  },
  {
   "cell_type": "markdown",
   "metadata": {},
   "source": [
    "### Make Bag of Words Model\n",
    "\n",
    "Text processing, tokenizing and stopwords are all included in sklearn CountVectorizer.\n",
    "\n",
    "Fit vectorize to the data(build a vocabulary, count the number of words). then transform the original text to vector"
   ]
  },
  {
   "cell_type": "markdown",
   "metadata": {},
   "source": [
    "### Bag of Words Model"
   ]
  },
  {
   "cell_type": "code",
   "execution_count": 75,
   "metadata": {},
   "outputs": [
    {
     "data": {
      "text/plain": [
       "array([[0, 0, 0, ..., 0, 0, 0],\n",
       "       [0, 0, 0, ..., 0, 0, 0],\n",
       "       [0, 0, 0, ..., 0, 0, 0],\n",
       "       ...,\n",
       "       [0, 0, 0, ..., 0, 0, 0],\n",
       "       [0, 0, 0, ..., 0, 0, 0],\n",
       "       [0, 0, 0, ..., 0, 0, 0]])"
      ]
     },
     "execution_count": 75,
     "metadata": {},
     "output_type": "execute_result"
    }
   ],
   "source": [
    "from sklearn.feature_extraction.text import CountVectorizer\n",
    "\n",
    "\n",
    "cv = CountVectorizer(min_df=0., max_df=1.)\n",
    "cv_nlp_X = cv.fit_transform(nlp_X)\n",
    "\n",
    "cv_nlp_X = cv_nlp_X.toarray()\n",
    "\n",
    "cv_nlp_X"
   ]
  },
  {
   "cell_type": "code",
   "execution_count": 76,
   "metadata": {},
   "outputs": [
    {
     "data": {
      "text/plain": [
       "14132"
      ]
     },
     "execution_count": 76,
     "metadata": {},
     "output_type": "execute_result"
    }
   ],
   "source": [
    "# get all unique words in the corpus\n",
    "vocab = cv.get_feature_names()\n",
    "len(vocab)"
   ]
  },
  {
   "cell_type": "code",
   "execution_count": 77,
   "metadata": {},
   "outputs": [
    {
     "data": {
      "text/plain": [
       "(1000, 14132)"
      ]
     },
     "execution_count": 77,
     "metadata": {},
     "output_type": "execute_result"
    }
   ],
   "source": [
    "from sklearn.feature_extraction.text import TfidfTransformer\n",
    "tfidf_transformer = TfidfTransformer()\n",
    "\n",
    "nlp_X_tfidf = tfidf_transformer.fit_transform(cv_nlp_X)\n",
    "\n",
    "nlp_X_tfidf.shape"
   ]
  },
  {
   "cell_type": "markdown",
   "metadata": {},
   "source": [
    "### TF-IDF Model\n",
    "\n",
    "#### Process vectorization and Tfidf by using one line of coding\n",
    "\n",
    "Convert a collection of raw documents to a matrix of TF-IDF features.\n",
    "Equivalent to CountVectorizer followed by TfidfTransformer."
   ]
  },
  {
   "cell_type": "code",
   "execution_count": 78,
   "metadata": {},
   "outputs": [],
   "source": [
    "from sklearn.feature_extraction.text import TfidfVectorizer"
   ]
  },
  {
   "cell_type": "code",
   "execution_count": 79,
   "metadata": {},
   "outputs": [
    {
     "data": {
      "text/plain": [
       "14111"
      ]
     },
     "execution_count": 79,
     "metadata": {},
     "output_type": "execute_result"
    }
   ],
   "source": [
    "tv = TfidfVectorizer(min_df=0., max_df=1., use_idf=True, stop_words='english')\n",
    "tv_nlp_X = tv.fit_transform(nlp_X)\n",
    "tv_nlp_X = tv_nlp_X.toarray()\n",
    "\n",
    "vocab = tv.get_feature_names()\n",
    "#pd.DataFrame(np.round(tv_train_matrix, 2), columns=vocab)\n",
    "len(vocab)"
   ]
  },
  {
   "cell_type": "code",
   "execution_count": 80,
   "metadata": {
    "scrolled": true
   },
   "outputs": [
    {
     "data": {
      "text/plain": [
       "(1000, 14111)"
      ]
     },
     "execution_count": 80,
     "metadata": {},
     "output_type": "execute_result"
    }
   ],
   "source": [
    "tv_nlp_X.shape"
   ]
  },
  {
   "cell_type": "code",
   "execution_count": 81,
   "metadata": {},
   "outputs": [
    {
     "data": {
      "text/plain": [
       "array([[0., 0., 0., ..., 0., 0., 0.],\n",
       "       [0., 0., 0., ..., 0., 0., 0.],\n",
       "       [0., 0., 0., ..., 0., 0., 0.],\n",
       "       ...,\n",
       "       [0., 0., 0., ..., 0., 0., 0.],\n",
       "       [0., 0., 0., ..., 0., 0., 0.],\n",
       "       [0., 0., 0., ..., 0., 0., 0.]])"
      ]
     },
     "execution_count": 81,
     "metadata": {},
     "output_type": "execute_result"
    }
   ],
   "source": [
    "tv_nlp_X\n"
   ]
  },
  {
   "cell_type": "markdown",
   "metadata": {},
   "source": [
    "### Document Similarity\n",
    "\n",
    "Use similarity metric, cosine similarity and compare pairwise document similarity based on their TF-IDF feature vectors"
   ]
  },
  {
   "cell_type": "code",
   "execution_count": 82,
   "metadata": {
    "scrolled": true
   },
   "outputs": [
    {
     "data": {
      "text/html": [
       "<div>\n",
       "<style scoped>\n",
       "    .dataframe tbody tr th:only-of-type {\n",
       "        vertical-align: middle;\n",
       "    }\n",
       "\n",
       "    .dataframe tbody tr th {\n",
       "        vertical-align: top;\n",
       "    }\n",
       "\n",
       "    .dataframe thead th {\n",
       "        text-align: right;\n",
       "    }\n",
       "</style>\n",
       "<table border=\"1\" class=\"dataframe\">\n",
       "  <thead>\n",
       "    <tr style=\"text-align: right;\">\n",
       "      <th></th>\n",
       "      <th>0</th>\n",
       "      <th>1</th>\n",
       "      <th>2</th>\n",
       "      <th>3</th>\n",
       "      <th>4</th>\n",
       "      <th>5</th>\n",
       "      <th>6</th>\n",
       "      <th>7</th>\n",
       "      <th>8</th>\n",
       "      <th>9</th>\n",
       "      <th>...</th>\n",
       "      <th>990</th>\n",
       "      <th>991</th>\n",
       "      <th>992</th>\n",
       "      <th>993</th>\n",
       "      <th>994</th>\n",
       "      <th>995</th>\n",
       "      <th>996</th>\n",
       "      <th>997</th>\n",
       "      <th>998</th>\n",
       "      <th>999</th>\n",
       "    </tr>\n",
       "  </thead>\n",
       "  <tbody>\n",
       "    <tr>\n",
       "      <th>0</th>\n",
       "      <td>1.000000</td>\n",
       "      <td>0.032651</td>\n",
       "      <td>0.009523</td>\n",
       "      <td>0.028757</td>\n",
       "      <td>0.081039</td>\n",
       "      <td>0.015919</td>\n",
       "      <td>0.054727</td>\n",
       "      <td>0.018041</td>\n",
       "      <td>0.010373</td>\n",
       "      <td>0.034104</td>\n",
       "      <td>...</td>\n",
       "      <td>0.010313</td>\n",
       "      <td>0.055398</td>\n",
       "      <td>0.042355</td>\n",
       "      <td>0.010482</td>\n",
       "      <td>0.022597</td>\n",
       "      <td>0.045488</td>\n",
       "      <td>0.007600</td>\n",
       "      <td>0.048093</td>\n",
       "      <td>0.066359</td>\n",
       "      <td>0.004815</td>\n",
       "    </tr>\n",
       "    <tr>\n",
       "      <th>1</th>\n",
       "      <td>0.032651</td>\n",
       "      <td>1.000000</td>\n",
       "      <td>0.010382</td>\n",
       "      <td>0.006669</td>\n",
       "      <td>0.018933</td>\n",
       "      <td>0.000469</td>\n",
       "      <td>0.008594</td>\n",
       "      <td>0.002887</td>\n",
       "      <td>0.079517</td>\n",
       "      <td>0.008091</td>\n",
       "      <td>...</td>\n",
       "      <td>0.044883</td>\n",
       "      <td>0.012605</td>\n",
       "      <td>0.013198</td>\n",
       "      <td>0.002124</td>\n",
       "      <td>0.003579</td>\n",
       "      <td>0.004886</td>\n",
       "      <td>0.028391</td>\n",
       "      <td>0.045981</td>\n",
       "      <td>0.013692</td>\n",
       "      <td>0.010767</td>\n",
       "    </tr>\n",
       "    <tr>\n",
       "      <th>2</th>\n",
       "      <td>0.009523</td>\n",
       "      <td>0.010382</td>\n",
       "      <td>1.000000</td>\n",
       "      <td>0.007147</td>\n",
       "      <td>0.010537</td>\n",
       "      <td>0.002618</td>\n",
       "      <td>0.017718</td>\n",
       "      <td>0.001419</td>\n",
       "      <td>0.000330</td>\n",
       "      <td>0.013296</td>\n",
       "      <td>...</td>\n",
       "      <td>0.000885</td>\n",
       "      <td>0.007800</td>\n",
       "      <td>0.012676</td>\n",
       "      <td>0.006216</td>\n",
       "      <td>0.000701</td>\n",
       "      <td>0.006792</td>\n",
       "      <td>0.024964</td>\n",
       "      <td>0.003216</td>\n",
       "      <td>0.001257</td>\n",
       "      <td>0.018667</td>\n",
       "    </tr>\n",
       "    <tr>\n",
       "      <th>3</th>\n",
       "      <td>0.028757</td>\n",
       "      <td>0.006669</td>\n",
       "      <td>0.007147</td>\n",
       "      <td>1.000000</td>\n",
       "      <td>0.035950</td>\n",
       "      <td>0.075953</td>\n",
       "      <td>0.125317</td>\n",
       "      <td>0.009929</td>\n",
       "      <td>0.008405</td>\n",
       "      <td>0.008700</td>\n",
       "      <td>...</td>\n",
       "      <td>0.007369</td>\n",
       "      <td>0.053496</td>\n",
       "      <td>0.014711</td>\n",
       "      <td>0.013105</td>\n",
       "      <td>0.026342</td>\n",
       "      <td>0.042769</td>\n",
       "      <td>0.246997</td>\n",
       "      <td>0.030577</td>\n",
       "      <td>0.006604</td>\n",
       "      <td>0.012262</td>\n",
       "    </tr>\n",
       "    <tr>\n",
       "      <th>4</th>\n",
       "      <td>0.081039</td>\n",
       "      <td>0.018933</td>\n",
       "      <td>0.010537</td>\n",
       "      <td>0.035950</td>\n",
       "      <td>1.000000</td>\n",
       "      <td>0.020829</td>\n",
       "      <td>0.034611</td>\n",
       "      <td>0.023486</td>\n",
       "      <td>0.018333</td>\n",
       "      <td>0.009386</td>\n",
       "      <td>...</td>\n",
       "      <td>0.008302</td>\n",
       "      <td>0.027268</td>\n",
       "      <td>0.045905</td>\n",
       "      <td>0.010281</td>\n",
       "      <td>0.007786</td>\n",
       "      <td>0.035861</td>\n",
       "      <td>0.048594</td>\n",
       "      <td>0.033011</td>\n",
       "      <td>0.021992</td>\n",
       "      <td>0.119402</td>\n",
       "    </tr>\n",
       "    <tr>\n",
       "      <th>...</th>\n",
       "      <td>...</td>\n",
       "      <td>...</td>\n",
       "      <td>...</td>\n",
       "      <td>...</td>\n",
       "      <td>...</td>\n",
       "      <td>...</td>\n",
       "      <td>...</td>\n",
       "      <td>...</td>\n",
       "      <td>...</td>\n",
       "      <td>...</td>\n",
       "      <td>...</td>\n",
       "      <td>...</td>\n",
       "      <td>...</td>\n",
       "      <td>...</td>\n",
       "      <td>...</td>\n",
       "      <td>...</td>\n",
       "      <td>...</td>\n",
       "      <td>...</td>\n",
       "      <td>...</td>\n",
       "      <td>...</td>\n",
       "      <td>...</td>\n",
       "    </tr>\n",
       "    <tr>\n",
       "      <th>995</th>\n",
       "      <td>0.045488</td>\n",
       "      <td>0.004886</td>\n",
       "      <td>0.006792</td>\n",
       "      <td>0.042769</td>\n",
       "      <td>0.035861</td>\n",
       "      <td>0.039181</td>\n",
       "      <td>0.021502</td>\n",
       "      <td>0.004127</td>\n",
       "      <td>0.000960</td>\n",
       "      <td>0.033595</td>\n",
       "      <td>...</td>\n",
       "      <td>0.002573</td>\n",
       "      <td>0.034203</td>\n",
       "      <td>0.017439</td>\n",
       "      <td>0.001362</td>\n",
       "      <td>0.002038</td>\n",
       "      <td>1.000000</td>\n",
       "      <td>0.065921</td>\n",
       "      <td>0.018612</td>\n",
       "      <td>0.003655</td>\n",
       "      <td>0.011450</td>\n",
       "    </tr>\n",
       "    <tr>\n",
       "      <th>996</th>\n",
       "      <td>0.007600</td>\n",
       "      <td>0.028391</td>\n",
       "      <td>0.024964</td>\n",
       "      <td>0.246997</td>\n",
       "      <td>0.048594</td>\n",
       "      <td>0.093999</td>\n",
       "      <td>0.168084</td>\n",
       "      <td>0.003651</td>\n",
       "      <td>0.011905</td>\n",
       "      <td>0.001249</td>\n",
       "      <td>...</td>\n",
       "      <td>0.002276</td>\n",
       "      <td>0.038372</td>\n",
       "      <td>0.028595</td>\n",
       "      <td>0.025491</td>\n",
       "      <td>0.011408</td>\n",
       "      <td>0.065921</td>\n",
       "      <td>1.000000</td>\n",
       "      <td>0.018288</td>\n",
       "      <td>0.010515</td>\n",
       "      <td>0.013893</td>\n",
       "    </tr>\n",
       "    <tr>\n",
       "      <th>997</th>\n",
       "      <td>0.048093</td>\n",
       "      <td>0.045981</td>\n",
       "      <td>0.003216</td>\n",
       "      <td>0.030577</td>\n",
       "      <td>0.033011</td>\n",
       "      <td>0.007861</td>\n",
       "      <td>0.022117</td>\n",
       "      <td>0.004065</td>\n",
       "      <td>0.022600</td>\n",
       "      <td>0.011171</td>\n",
       "      <td>...</td>\n",
       "      <td>0.019259</td>\n",
       "      <td>0.029609</td>\n",
       "      <td>0.024395</td>\n",
       "      <td>0.014199</td>\n",
       "      <td>0.004863</td>\n",
       "      <td>0.018612</td>\n",
       "      <td>0.018288</td>\n",
       "      <td>1.000000</td>\n",
       "      <td>0.038799</td>\n",
       "      <td>0.027344</td>\n",
       "    </tr>\n",
       "    <tr>\n",
       "      <th>998</th>\n",
       "      <td>0.066359</td>\n",
       "      <td>0.013692</td>\n",
       "      <td>0.001257</td>\n",
       "      <td>0.006604</td>\n",
       "      <td>0.021992</td>\n",
       "      <td>0.001409</td>\n",
       "      <td>0.008456</td>\n",
       "      <td>0.000764</td>\n",
       "      <td>0.022271</td>\n",
       "      <td>0.000261</td>\n",
       "      <td>...</td>\n",
       "      <td>0.000476</td>\n",
       "      <td>0.006751</td>\n",
       "      <td>0.021341</td>\n",
       "      <td>0.000252</td>\n",
       "      <td>0.011861</td>\n",
       "      <td>0.003655</td>\n",
       "      <td>0.010515</td>\n",
       "      <td>0.038799</td>\n",
       "      <td>1.000000</td>\n",
       "      <td>0.002120</td>\n",
       "    </tr>\n",
       "    <tr>\n",
       "      <th>999</th>\n",
       "      <td>0.004815</td>\n",
       "      <td>0.010767</td>\n",
       "      <td>0.018667</td>\n",
       "      <td>0.012262</td>\n",
       "      <td>0.119402</td>\n",
       "      <td>0.017101</td>\n",
       "      <td>0.028507</td>\n",
       "      <td>0.011111</td>\n",
       "      <td>0.008899</td>\n",
       "      <td>0.000819</td>\n",
       "      <td>...</td>\n",
       "      <td>0.001492</td>\n",
       "      <td>0.005313</td>\n",
       "      <td>0.010201</td>\n",
       "      <td>0.000790</td>\n",
       "      <td>0.001182</td>\n",
       "      <td>0.011450</td>\n",
       "      <td>0.013893</td>\n",
       "      <td>0.027344</td>\n",
       "      <td>0.002120</td>\n",
       "      <td>1.000000</td>\n",
       "    </tr>\n",
       "  </tbody>\n",
       "</table>\n",
       "<p>1000 rows × 1000 columns</p>\n",
       "</div>"
      ],
      "text/plain": [
       "          0         1         2         3         4         5         6    \\\n",
       "0    1.000000  0.032651  0.009523  0.028757  0.081039  0.015919  0.054727   \n",
       "1    0.032651  1.000000  0.010382  0.006669  0.018933  0.000469  0.008594   \n",
       "2    0.009523  0.010382  1.000000  0.007147  0.010537  0.002618  0.017718   \n",
       "3    0.028757  0.006669  0.007147  1.000000  0.035950  0.075953  0.125317   \n",
       "4    0.081039  0.018933  0.010537  0.035950  1.000000  0.020829  0.034611   \n",
       "..        ...       ...       ...       ...       ...       ...       ...   \n",
       "995  0.045488  0.004886  0.006792  0.042769  0.035861  0.039181  0.021502   \n",
       "996  0.007600  0.028391  0.024964  0.246997  0.048594  0.093999  0.168084   \n",
       "997  0.048093  0.045981  0.003216  0.030577  0.033011  0.007861  0.022117   \n",
       "998  0.066359  0.013692  0.001257  0.006604  0.021992  0.001409  0.008456   \n",
       "999  0.004815  0.010767  0.018667  0.012262  0.119402  0.017101  0.028507   \n",
       "\n",
       "          7         8         9    ...       990       991       992  \\\n",
       "0    0.018041  0.010373  0.034104  ...  0.010313  0.055398  0.042355   \n",
       "1    0.002887  0.079517  0.008091  ...  0.044883  0.012605  0.013198   \n",
       "2    0.001419  0.000330  0.013296  ...  0.000885  0.007800  0.012676   \n",
       "3    0.009929  0.008405  0.008700  ...  0.007369  0.053496  0.014711   \n",
       "4    0.023486  0.018333  0.009386  ...  0.008302  0.027268  0.045905   \n",
       "..        ...       ...       ...  ...       ...       ...       ...   \n",
       "995  0.004127  0.000960  0.033595  ...  0.002573  0.034203  0.017439   \n",
       "996  0.003651  0.011905  0.001249  ...  0.002276  0.038372  0.028595   \n",
       "997  0.004065  0.022600  0.011171  ...  0.019259  0.029609  0.024395   \n",
       "998  0.000764  0.022271  0.000261  ...  0.000476  0.006751  0.021341   \n",
       "999  0.011111  0.008899  0.000819  ...  0.001492  0.005313  0.010201   \n",
       "\n",
       "          993       994       995       996       997       998       999  \n",
       "0    0.010482  0.022597  0.045488  0.007600  0.048093  0.066359  0.004815  \n",
       "1    0.002124  0.003579  0.004886  0.028391  0.045981  0.013692  0.010767  \n",
       "2    0.006216  0.000701  0.006792  0.024964  0.003216  0.001257  0.018667  \n",
       "3    0.013105  0.026342  0.042769  0.246997  0.030577  0.006604  0.012262  \n",
       "4    0.010281  0.007786  0.035861  0.048594  0.033011  0.021992  0.119402  \n",
       "..        ...       ...       ...       ...       ...       ...       ...  \n",
       "995  0.001362  0.002038  1.000000  0.065921  0.018612  0.003655  0.011450  \n",
       "996  0.025491  0.011408  0.065921  1.000000  0.018288  0.010515  0.013893  \n",
       "997  0.014199  0.004863  0.018612  0.018288  1.000000  0.038799  0.027344  \n",
       "998  0.000252  0.011861  0.003655  0.010515  0.038799  1.000000  0.002120  \n",
       "999  0.000790  0.001182  0.011450  0.013893  0.027344  0.002120  1.000000  \n",
       "\n",
       "[1000 rows x 1000 columns]"
      ]
     },
     "execution_count": 82,
     "metadata": {},
     "output_type": "execute_result"
    }
   ],
   "source": [
    "from sklearn.metrics.pairwise import cosine_similarity\n",
    "\n",
    "similarity_matrix_nlp_X = cosine_similarity(tv_nlp_X)\n",
    "\n",
    "similarity_df_nlp_X = pd.DataFrame(similarity_matrix_nlp_X)\n",
    "similarity_df_nlp_X"
   ]
  },
  {
   "cell_type": "markdown",
   "metadata": {},
   "source": [
    "### Document Clustering with Similarity Features\n",
    "\n",
    "There are two types of hierarchical clustering algorithms namely, agglomerative and divisive methods. I will be using a agglomerative clustering algorithm, which is hierarchical clustering using a bottom up approach i.e. each observation or document starts in its own cluster and clusters are successively merged together using a distance metric which measures distances between data points and a linkage merge criterion. Will use the Ward method to govern the mergo strategy."
   ]
  },
  {
   "cell_type": "code",
   "execution_count": 83,
   "metadata": {},
   "outputs": [
    {
     "data": {
      "text/html": [
       "<div>\n",
       "<style scoped>\n",
       "    .dataframe tbody tr th:only-of-type {\n",
       "        vertical-align: middle;\n",
       "    }\n",
       "\n",
       "    .dataframe tbody tr th {\n",
       "        vertical-align: top;\n",
       "    }\n",
       "\n",
       "    .dataframe thead th {\n",
       "        text-align: right;\n",
       "    }\n",
       "</style>\n",
       "<table border=\"1\" class=\"dataframe\">\n",
       "  <thead>\n",
       "    <tr style=\"text-align: right;\">\n",
       "      <th></th>\n",
       "      <th>Document\\Cluster 1</th>\n",
       "      <th>Document\\Cluster 2</th>\n",
       "      <th>Distance</th>\n",
       "      <th>Cluster Size</th>\n",
       "    </tr>\n",
       "  </thead>\n",
       "  <tbody>\n",
       "    <tr>\n",
       "      <th>0</th>\n",
       "      <td>13</td>\n",
       "      <td>567</td>\n",
       "      <td>0</td>\n",
       "      <td>2</td>\n",
       "    </tr>\n",
       "    <tr>\n",
       "      <th>1</th>\n",
       "      <td>163</td>\n",
       "      <td>680</td>\n",
       "      <td>0</td>\n",
       "      <td>2</td>\n",
       "    </tr>\n",
       "    <tr>\n",
       "      <th>2</th>\n",
       "      <td>904</td>\n",
       "      <td>912</td>\n",
       "      <td>0</td>\n",
       "      <td>2</td>\n",
       "    </tr>\n",
       "    <tr>\n",
       "      <th>3</th>\n",
       "      <td>241</td>\n",
       "      <td>591</td>\n",
       "      <td>0</td>\n",
       "      <td>2</td>\n",
       "    </tr>\n",
       "    <tr>\n",
       "      <th>4</th>\n",
       "      <td>414</td>\n",
       "      <td>544</td>\n",
       "      <td>0</td>\n",
       "      <td>2</td>\n",
       "    </tr>\n",
       "    <tr>\n",
       "      <th>...</th>\n",
       "      <td>...</td>\n",
       "      <td>...</td>\n",
       "      <td>...</td>\n",
       "      <td>...</td>\n",
       "    </tr>\n",
       "    <tr>\n",
       "      <th>994</th>\n",
       "      <td>1881</td>\n",
       "      <td>1993</td>\n",
       "      <td>8.62288</td>\n",
       "      <td>330</td>\n",
       "    </tr>\n",
       "    <tr>\n",
       "      <th>995</th>\n",
       "      <td>1991</td>\n",
       "      <td>1992</td>\n",
       "      <td>8.92418</td>\n",
       "      <td>654</td>\n",
       "    </tr>\n",
       "    <tr>\n",
       "      <th>996</th>\n",
       "      <td>1068</td>\n",
       "      <td>1995</td>\n",
       "      <td>9.94232</td>\n",
       "      <td>662</td>\n",
       "    </tr>\n",
       "    <tr>\n",
       "      <th>997</th>\n",
       "      <td>1027</td>\n",
       "      <td>1996</td>\n",
       "      <td>11.0281</td>\n",
       "      <td>670</td>\n",
       "    </tr>\n",
       "    <tr>\n",
       "      <th>998</th>\n",
       "      <td>1994</td>\n",
       "      <td>1997</td>\n",
       "      <td>15.943</td>\n",
       "      <td>1000</td>\n",
       "    </tr>\n",
       "  </tbody>\n",
       "</table>\n",
       "<p>999 rows × 4 columns</p>\n",
       "</div>"
      ],
      "text/plain": [
       "    Document\\Cluster 1 Document\\Cluster 2 Distance Cluster Size\n",
       "0                   13                567        0            2\n",
       "1                  163                680        0            2\n",
       "2                  904                912        0            2\n",
       "3                  241                591        0            2\n",
       "4                  414                544        0            2\n",
       "..                 ...                ...      ...          ...\n",
       "994               1881               1993  8.62288          330\n",
       "995               1991               1992  8.92418          654\n",
       "996               1068               1995  9.94232          662\n",
       "997               1027               1996  11.0281          670\n",
       "998               1994               1997   15.943         1000\n",
       "\n",
       "[999 rows x 4 columns]"
      ]
     },
     "execution_count": 83,
     "metadata": {},
     "output_type": "execute_result"
    }
   ],
   "source": [
    "from scipy.cluster.hierarchy import dendrogram, linkage\n",
    "\n",
    "Z = linkage(similarity_matrix_nlp_X, 'ward')\n",
    "pd.DataFrame(Z, columns=['Document\\Cluster 1', 'Document\\Cluster 2', \n",
    "                         'Distance', 'Cluster Size'], dtype='object')\n"
   ]
  },
  {
   "cell_type": "code",
   "execution_count": 84,
   "metadata": {},
   "outputs": [
    {
     "data": {
      "image/png": "[encoded data removed]",
      "text/plain": [
       "<Figure size 576x216 with 1 Axes>"
      ]
     },
     "metadata": {
      "needs_background": "light"
     },
     "output_type": "display_data"
    }
   ],
   "source": [
    "plt.figure(figsize=(8, 3))\n",
    "plt.title('Hierarchical Clustering Dendrogram')\n",
    "plt.xlabel('Data point')\n",
    "plt.ylabel('Distance')\n",
    "dendrogram(Z)\n",
    "plt.axhline(y=1.0, c='k', ls='--', lw=0.5);\n"
   ]
  },
  {
   "cell_type": "markdown",
   "metadata": {},
   "source": [
    "### Topic Models\n",
    "\n",
    "Use Latent Dirichlet Allocation (LDA),which uses a generative probabilistic model where each document consists of a combination of several topics and each term or word can be assigned to a specific topic."
   ]
  },
  {
   "cell_type": "code",
   "execution_count": 85,
   "metadata": {
    "scrolled": true
   },
   "outputs": [
    {
     "data": {
      "text/html": [
       "<div>\n",
       "<style scoped>\n",
       "    .dataframe tbody tr th:only-of-type {\n",
       "        vertical-align: middle;\n",
       "    }\n",
       "\n",
       "    .dataframe tbody tr th {\n",
       "        vertical-align: top;\n",
       "    }\n",
       "\n",
       "    .dataframe thead th {\n",
       "        text-align: right;\n",
       "    }\n",
       "</style>\n",
       "<table border=\"1\" class=\"dataframe\">\n",
       "  <thead>\n",
       "    <tr style=\"text-align: right;\">\n",
       "      <th></th>\n",
       "      <th>T1</th>\n",
       "      <th>T2</th>\n",
       "      <th>T3</th>\n",
       "      <th>T4</th>\n",
       "      <th>T5</th>\n",
       "    </tr>\n",
       "  </thead>\n",
       "  <tbody>\n",
       "    <tr>\n",
       "      <th>0</th>\n",
       "      <td>0.014500</td>\n",
       "      <td>0.015047</td>\n",
       "      <td>0.941483</td>\n",
       "      <td>0.014498</td>\n",
       "      <td>0.014472</td>\n",
       "    </tr>\n",
       "    <tr>\n",
       "      <th>1</th>\n",
       "      <td>0.020740</td>\n",
       "      <td>0.020706</td>\n",
       "      <td>0.672451</td>\n",
       "      <td>0.265347</td>\n",
       "      <td>0.020756</td>\n",
       "    </tr>\n",
       "    <tr>\n",
       "      <th>2</th>\n",
       "      <td>0.035977</td>\n",
       "      <td>0.035958</td>\n",
       "      <td>0.855393</td>\n",
       "      <td>0.036291</td>\n",
       "      <td>0.036381</td>\n",
       "    </tr>\n",
       "    <tr>\n",
       "      <th>3</th>\n",
       "      <td>0.024811</td>\n",
       "      <td>0.025076</td>\n",
       "      <td>0.709696</td>\n",
       "      <td>0.024827</td>\n",
       "      <td>0.215590</td>\n",
       "    </tr>\n",
       "    <tr>\n",
       "      <th>4</th>\n",
       "      <td>0.024362</td>\n",
       "      <td>0.024395</td>\n",
       "      <td>0.902407</td>\n",
       "      <td>0.024444</td>\n",
       "      <td>0.024392</td>\n",
       "    </tr>\n",
       "    <tr>\n",
       "      <th>...</th>\n",
       "      <td>...</td>\n",
       "      <td>...</td>\n",
       "      <td>...</td>\n",
       "      <td>...</td>\n",
       "      <td>...</td>\n",
       "    </tr>\n",
       "    <tr>\n",
       "      <th>995</th>\n",
       "      <td>0.047003</td>\n",
       "      <td>0.047100</td>\n",
       "      <td>0.811864</td>\n",
       "      <td>0.047023</td>\n",
       "      <td>0.047008</td>\n",
       "    </tr>\n",
       "    <tr>\n",
       "      <th>996</th>\n",
       "      <td>0.036541</td>\n",
       "      <td>0.036557</td>\n",
       "      <td>0.853812</td>\n",
       "      <td>0.036546</td>\n",
       "      <td>0.036544</td>\n",
       "    </tr>\n",
       "    <tr>\n",
       "      <th>997</th>\n",
       "      <td>0.015562</td>\n",
       "      <td>0.015722</td>\n",
       "      <td>0.937488</td>\n",
       "      <td>0.015604</td>\n",
       "      <td>0.015624</td>\n",
       "    </tr>\n",
       "    <tr>\n",
       "      <th>998</th>\n",
       "      <td>0.021935</td>\n",
       "      <td>0.355540</td>\n",
       "      <td>0.578593</td>\n",
       "      <td>0.021980</td>\n",
       "      <td>0.021952</td>\n",
       "    </tr>\n",
       "    <tr>\n",
       "      <th>999</th>\n",
       "      <td>0.036715</td>\n",
       "      <td>0.036972</td>\n",
       "      <td>0.685983</td>\n",
       "      <td>0.203541</td>\n",
       "      <td>0.036789</td>\n",
       "    </tr>\n",
       "  </tbody>\n",
       "</table>\n",
       "<p>1000 rows × 5 columns</p>\n",
       "</div>"
      ],
      "text/plain": [
       "           T1        T2        T3        T4        T5\n",
       "0    0.014500  0.015047  0.941483  0.014498  0.014472\n",
       "1    0.020740  0.020706  0.672451  0.265347  0.020756\n",
       "2    0.035977  0.035958  0.855393  0.036291  0.036381\n",
       "3    0.024811  0.025076  0.709696  0.024827  0.215590\n",
       "4    0.024362  0.024395  0.902407  0.024444  0.024392\n",
       "..        ...       ...       ...       ...       ...\n",
       "995  0.047003  0.047100  0.811864  0.047023  0.047008\n",
       "996  0.036541  0.036557  0.853812  0.036546  0.036544\n",
       "997  0.015562  0.015722  0.937488  0.015604  0.015624\n",
       "998  0.021935  0.355540  0.578593  0.021980  0.021952\n",
       "999  0.036715  0.036972  0.685983  0.203541  0.036789\n",
       "\n",
       "[1000 rows x 5 columns]"
      ]
     },
     "execution_count": 85,
     "metadata": {},
     "output_type": "execute_result"
    }
   ],
   "source": [
    "from sklearn.decomposition import LatentDirichletAllocation\n",
    "\n",
    "lda = LatentDirichletAllocation(n_components=5, random_state=0)\n",
    "dt_matrix = lda.fit_transform(tv_nlp_X)\n",
    "features = pd.DataFrame(dt_matrix, columns=['T1', 'T2', 'T3','T4','T5'])\n",
    "features\n"
   ]
  },
  {
   "cell_type": "code",
   "execution_count": 86,
   "metadata": {
    "scrolled": false
   },
   "outputs": [
    {
     "name": "stdout",
     "output_type": "stream",
     "text": [
      "[('jul', 2.5546197162621715), ('software', 1.8505161078485985), ('squirrelmail', 1.845993250121989), ('save', 1.5573326990401766), ('mortgage', 1.479733667910193), ('projecthoneypot', 1.467861548813318), ('id', 1.3014877909876177), ('mailwisconsin', 1.297282499588872), ('tue', 1.290540630209582), ('dose', 1.2790969944281054)]\n",
      "[('adobe', 6.941341775573604), ('feedback', 4.679697970649231), ('request', 4.3963374370560215), ('approval', 3.2070877584780058), ('pep', 2.8119671171359477), ('cs', 2.354360900096736), ('thing', 2.3489188428548116), ('statements', 2.2788851926376528), ('software', 2.193868825827014), ('access', 2.0562961837164835)]\n",
      "[('enron', 40.99691141655827), ('vince', 38.35862701761313), ('subject', 28.01048472880686), ('hou', 25.750710661870023), ('kaminski', 22.89117942649349), ('research', 17.00586183070107), ('thanks', 15.443530815655189), ('know', 14.934803133065783), ('group', 14.733241102238095), ('time', 14.72846444092017)]\n",
      "[('account', 3.724719752112547), ('baylor', 3.6756371146259705), ('pjm', 2.231338996466786), ('ebay', 1.666647560461899), ('html', 1.549558023539334), ('po', 1.5013867943430474), ('box', 1.4328199273947086), ('test', 1.4204893095545261), ('bank', 1.3340390894272618), ('martinj', 1.3167549957549576)]\n",
      "[('viagra', 2.265528957380967), ('ehud', 2.201053742748023), ('save', 2.1162434136076658), ('delivery', 1.7178321657187174), ('ronn', 1.4681951491492229), ('fap', 1.3987697618955268), ('shdh', 1.3676795028622442), ('philippe', 1.2869291240149232), ('convinient', 1.2803412723521175), ('erectile', 1.2803412723521175)]\n"
     ]
    }
   ],
   "source": [
    "tt_matrix = lda.components_\n",
    "for topic_weights in tt_matrix:\n",
    "    topic = [(token, weight) for token, weight in zip(vocab, topic_weights)]\n",
    "    topic = sorted(topic, key=lambda x: -x[1])\n",
    "    topic = [item for item in topic if item[1] > 0.6]\n",
    "    print(topic[0:10])\n",
    "    "
   ]
  },
  {
   "cell_type": "markdown",
   "metadata": {},
   "source": [
    "### Document Clustering with Topic Model Features"
   ]
  },
  {
   "cell_type": "code",
   "execution_count": 87,
   "metadata": {
    "scrolled": true
   },
   "outputs": [
    {
     "data": {
      "text/plain": [
       "array([[0.10390877, 0.67093384, 0.84253439, 0.7954375 , 0.79957156],\n",
       "       [0.28982255, 0.30309849, 0.70303411, 0.65837954, 0.6630659 ],\n",
       "       [0.008009  , 0.59346972, 0.76540844, 0.71730364, 0.72193764],\n",
       "       ...,\n",
       "       [0.09944333, 0.6671686 , 0.83906062, 0.79163556, 0.7958363 ],\n",
       "       [0.41731102, 0.56522669, 0.34496541, 0.65610751, 0.66055836],\n",
       "       [0.23265418, 0.35564697, 0.67884637, 0.63296121, 0.63775068]])"
      ]
     },
     "execution_count": 87,
     "metadata": {},
     "output_type": "execute_result"
    },
    {
     "data": {
      "text/html": [
       "<div>\n",
       "<style scoped>\n",
       "    .dataframe tbody tr th:only-of-type {\n",
       "        vertical-align: middle;\n",
       "    }\n",
       "\n",
       "    .dataframe tbody tr th {\n",
       "        vertical-align: top;\n",
       "    }\n",
       "\n",
       "    .dataframe thead th {\n",
       "        text-align: right;\n",
       "    }\n",
       "</style>\n",
       "<table border=\"1\" class=\"dataframe\">\n",
       "  <thead>\n",
       "    <tr style=\"text-align: right;\">\n",
       "      <th></th>\n",
       "      <th>text</th>\n",
       "      <th>spam</th>\n",
       "      <th>norm_X</th>\n",
       "      <th>nlp_X</th>\n",
       "      <th>ClusterLabel</th>\n",
       "    </tr>\n",
       "  </thead>\n",
       "  <tbody>\n",
       "    <tr>\n",
       "      <th>0</th>\n",
       "      <td>Subject: naturally irresistible your corporate identity  lt is really hard to recollect a company : the  market is full of suqgestions and the information isoverwhelminq ; but a good  catchy logo ...</td>\n",
       "      <td>1.0</td>\n",
       "      <td>subject  naturally irresistible corporate identity lt really hard recollect company  market full suqgestions information isoverwhelminq  good catchy logo  stylish statlonery outstanding website ma...</td>\n",
       "      <td>subject naturally irresistible corporate identity lt hard recollect company market suqgestions information isoverwhelminq good catchy logo stylish statlonery outstanding website task easier promis...</td>\n",
       "      <td>0.0</td>\n",
       "    </tr>\n",
       "    <tr>\n",
       "      <th>1</th>\n",
       "      <td>Subject: the stock trading gunslinger  fanny is merrill but muzo not colza attainder and penultimate like esmark perspicuous ramble is segovia not group try slung kansas tanzania yes chameleon or ...</td>\n",
       "      <td>1.0</td>\n",
       "      <td>subject  stock trading gunslinger fanny merrill muzo colza attainder penultimate like esmark perspicuous ramble segovia group try slung kansas tanzania yes chameleon continuant clothesman libretto...</td>\n",
       "      <td>subject stock trading gunslinger fanny merrill muzo colza attainder penultimate like esmark perspicuous ramble segovia group try slung kansas tanzania yes chameleon continuant clothesman libretto ...</td>\n",
       "      <td>0.0</td>\n",
       "    </tr>\n",
       "    <tr>\n",
       "      <th>2</th>\n",
       "      <td>Subject: unbelievable new homes made easy  im wanting to show you this  homeowner  you have been pre - approved for a $ 454 , 169 home loan at a 3 . 72 fixed rate .  this offer is being extended t...</td>\n",
       "      <td>1.0</td>\n",
       "      <td>subject  unbelievable new homes made easy im wanting show homeowner pre  approved     home loan    fixed rate  offer extended unconditionally credit way factor  take advantage limited time opportu...</td>\n",
       "      <td>subject unbelievable new homes easy im wanting homeowner pre approved home loan fixed rate offer extended unconditionally credit way factor advantage limited time opportunity ask visit website com...</td>\n",
       "      <td>0.0</td>\n",
       "    </tr>\n",
       "    <tr>\n",
       "      <th>3</th>\n",
       "      <td>NaN</td>\n",
       "      <td>NaN</td>\n",
       "      <td>NaN</td>\n",
       "      <td>NaN</td>\n",
       "      <td>0.0</td>\n",
       "    </tr>\n",
       "    <tr>\n",
       "      <th>4</th>\n",
       "      <td>NaN</td>\n",
       "      <td>NaN</td>\n",
       "      <td>NaN</td>\n",
       "      <td>NaN</td>\n",
       "      <td>0.0</td>\n",
       "    </tr>\n",
       "    <tr>\n",
       "      <th>...</th>\n",
       "      <td>...</td>\n",
       "      <td>...</td>\n",
       "      <td>...</td>\n",
       "      <td>...</td>\n",
       "      <td>...</td>\n",
       "    </tr>\n",
       "    <tr>\n",
       "      <th>4978</th>\n",
       "      <td>Subject: interview schedule for aram sogomonian  please find the interview packet for the above - referenced person . the  interview will occur on wednesday october 25 , 2000 . please print both  ...</td>\n",
       "      <td>0.0</td>\n",
       "      <td>subject  interview schedule aram sogomonian please find interview packet  referenced person  interview occur wednesday october     please print documents reference  questions  conflicts schedule  ...</td>\n",
       "      <td>subject interview schedule aram sogomonian find interview packet referenced person interview occur wednesday october print documents reference questions conflicts schedule hesitate contact resume ...</td>\n",
       "      <td>NaN</td>\n",
       "    </tr>\n",
       "    <tr>\n",
       "      <th>4989</th>\n",
       "      <td>Subject: re : subscriptions  stephanie ,  please , discontinue credit and renew the two other publications :  energy &amp; power risk management and the journal of computational finance .  enron north...</td>\n",
       "      <td>0.0</td>\n",
       "      <td>subject   subscriptions stephanie  please  discontinue credit renew two publications  energy  power risk management journal computational finance  enron north america corp   stephanie e taylor    ...</td>\n",
       "      <td>subject subscriptions stephanie discontinue credit renew publications energy power risk management journal computational finance enron north america corp stephanie e taylor vince j kaminski hou su...</td>\n",
       "      <td>NaN</td>\n",
       "    </tr>\n",
       "    <tr>\n",
       "      <th>4995</th>\n",
       "      <td>Subject: re : mountaintop meetings next week  ravi ,  it ' s fine with me . i think the expense is justified ( as it ' s equal to the  cost of the alternative ) .  vince  ravi thuraisingham @ enro...</td>\n",
       "      <td>0.0</td>\n",
       "      <td>subject   mountaintop meetings next week ravi   fine  think expense justified   equal cost alternative   vince ravi thuraisingham  enron communications           pm  stinson gibner  hou  ect  ect ...</td>\n",
       "      <td>subject mountaintop meetings week ravi fine think expense justified equal cost alternative vince ravi thuraisingham enron communications stinson gibner hou vince kaminski subject mountaintop meeti...</td>\n",
       "      <td>NaN</td>\n",
       "    </tr>\n",
       "    <tr>\n",
       "      <th>4996</th>\n",
       "      <td>Subject: hedge effectiveness test for fair value hedges  gentlemen :  we have had favorable responses regarding the use of our volatility  reduction method ( roger , i ' ve attached a copy of our ...</td>\n",
       "      <td>0.0</td>\n",
       "      <td>subject  hedge effectiveness test fair value hedges gentlemen  favorable responses regarding use volatility reduction method  roger   attached copy article case  seen   however  continued quibble ...</td>\n",
       "      <td>subject hedge effectiveness test fair value hedges gentlemen favorable responses use volatility reduction method roger attached copy article case seen continued quibble create set data points inpu...</td>\n",
       "      <td>NaN</td>\n",
       "    </tr>\n",
       "    <tr>\n",
       "      <th>4998</th>\n",
       "      <td>Subject: 1 / 2 day seminar : the new texas electric market  fyi ,  i thought some of you might be interested in this half day seminar at ut .  bill hogan , as well as speakers from the iso and puc...</td>\n",
       "      <td>0.0</td>\n",
       "      <td>subject     day seminar  new texas electric market fyi  thought might interested half day seminar ut  bill hogan  well speakers iso puc scheduled speak  plan attend    register group    person   a...</td>\n",
       "      <td>subject day seminar new texas electric market fyi thought interested half day seminar ut bill hogan speakers iso puc scheduled speak plan attend register group person attend price person ross bald...</td>\n",
       "      <td>NaN</td>\n",
       "    </tr>\n",
       "  </tbody>\n",
       "</table>\n",
       "<p>1811 rows × 5 columns</p>\n",
       "</div>"
      ],
      "text/plain": [
       "                                                                                                                                                                                                         text  \\\n",
       "0     Subject: naturally irresistible your corporate identity  lt is really hard to recollect a company : the  market is full of suqgestions and the information isoverwhelminq ; but a good  catchy logo ...   \n",
       "1     Subject: the stock trading gunslinger  fanny is merrill but muzo not colza attainder and penultimate like esmark perspicuous ramble is segovia not group try slung kansas tanzania yes chameleon or ...   \n",
       "2     Subject: unbelievable new homes made easy  im wanting to show you this  homeowner  you have been pre - approved for a $ 454 , 169 home loan at a 3 . 72 fixed rate .  this offer is being extended t...   \n",
       "3                                                                                                                                                                                                         NaN   \n",
       "4                                                                                                                                                                                                         NaN   \n",
       "...                                                                                                                                                                                                       ...   \n",
       "4978  Subject: interview schedule for aram sogomonian  please find the interview packet for the above - referenced person . the  interview will occur on wednesday october 25 , 2000 . please print both  ...   \n",
       "4989  Subject: re : subscriptions  stephanie ,  please , discontinue credit and renew the two other publications :  energy & power risk management and the journal of computational finance .  enron north...   \n",
       "4995  Subject: re : mountaintop meetings next week  ravi ,  it ' s fine with me . i think the expense is justified ( as it ' s equal to the  cost of the alternative ) .  vince  ravi thuraisingham @ enro...   \n",
       "4996  Subject: hedge effectiveness test for fair value hedges  gentlemen :  we have had favorable responses regarding the use of our volatility  reduction method ( roger , i ' ve attached a copy of our ...   \n",
       "4998  Subject: 1 / 2 day seminar : the new texas electric market  fyi ,  i thought some of you might be interested in this half day seminar at ut .  bill hogan , as well as speakers from the iso and puc...   \n",
       "\n",
       "      spam  \\\n",
       "0      1.0   \n",
       "1      1.0   \n",
       "2      1.0   \n",
       "3      NaN   \n",
       "4      NaN   \n",
       "...    ...   \n",
       "4978   0.0   \n",
       "4989   0.0   \n",
       "4995   0.0   \n",
       "4996   0.0   \n",
       "4998   0.0   \n",
       "\n",
       "                                                                                                                                                                                                       norm_X  \\\n",
       "0     subject  naturally irresistible corporate identity lt really hard recollect company  market full suqgestions information isoverwhelminq  good catchy logo  stylish statlonery outstanding website ma...   \n",
       "1     subject  stock trading gunslinger fanny merrill muzo colza attainder penultimate like esmark perspicuous ramble segovia group try slung kansas tanzania yes chameleon continuant clothesman libretto...   \n",
       "2     subject  unbelievable new homes made easy im wanting show homeowner pre  approved     home loan    fixed rate  offer extended unconditionally credit way factor  take advantage limited time opportu...   \n",
       "3                                                                                                                                                                                                         NaN   \n",
       "4                                                                                                                                                                                                         NaN   \n",
       "...                                                                                                                                                                                                       ...   \n",
       "4978  subject  interview schedule aram sogomonian please find interview packet  referenced person  interview occur wednesday october     please print documents reference  questions  conflicts schedule  ...   \n",
       "4989  subject   subscriptions stephanie  please  discontinue credit renew two publications  energy  power risk management journal computational finance  enron north america corp   stephanie e taylor    ...   \n",
       "4995  subject   mountaintop meetings next week ravi   fine  think expense justified   equal cost alternative   vince ravi thuraisingham  enron communications           pm  stinson gibner  hou  ect  ect ...   \n",
       "4996  subject  hedge effectiveness test fair value hedges gentlemen  favorable responses regarding use volatility reduction method  roger   attached copy article case  seen   however  continued quibble ...   \n",
       "4998  subject     day seminar  new texas electric market fyi  thought might interested half day seminar ut  bill hogan  well speakers iso puc scheduled speak  plan attend    register group    person   a...   \n",
       "\n",
       "                                                                                                                                                                                                        nlp_X  \\\n",
       "0     subject naturally irresistible corporate identity lt hard recollect company market suqgestions information isoverwhelminq good catchy logo stylish statlonery outstanding website task easier promis...   \n",
       "1     subject stock trading gunslinger fanny merrill muzo colza attainder penultimate like esmark perspicuous ramble segovia group try slung kansas tanzania yes chameleon continuant clothesman libretto ...   \n",
       "2     subject unbelievable new homes easy im wanting homeowner pre approved home loan fixed rate offer extended unconditionally credit way factor advantage limited time opportunity ask visit website com...   \n",
       "3                                                                                                                                                                                                         NaN   \n",
       "4                                                                                                                                                                                                         NaN   \n",
       "...                                                                                                                                                                                                       ...   \n",
       "4978  subject interview schedule aram sogomonian find interview packet referenced person interview occur wednesday october print documents reference questions conflicts schedule hesitate contact resume ...   \n",
       "4989  subject subscriptions stephanie discontinue credit renew publications energy power risk management journal computational finance enron north america corp stephanie e taylor vince j kaminski hou su...   \n",
       "4995  subject mountaintop meetings week ravi fine think expense justified equal cost alternative vince ravi thuraisingham enron communications stinson gibner hou vince kaminski subject mountaintop meeti...   \n",
       "4996  subject hedge effectiveness test fair value hedges gentlemen favorable responses use volatility reduction method roger attached copy article case seen continued quibble create set data points inpu...   \n",
       "4998  subject day seminar new texas electric market fyi thought interested half day seminar ut bill hogan speakers iso puc scheduled speak plan attend register group person attend price person ross bald...   \n",
       "\n",
       "      ClusterLabel  \n",
       "0              0.0  \n",
       "1              0.0  \n",
       "2              0.0  \n",
       "3              0.0  \n",
       "4              0.0  \n",
       "...            ...  \n",
       "4978           NaN  \n",
       "4989           NaN  \n",
       "4995           NaN  \n",
       "4996           NaN  \n",
       "4998           NaN  \n",
       "\n",
       "[1811 rows x 5 columns]"
      ]
     },
     "execution_count": 87,
     "metadata": {},
     "output_type": "execute_result"
    }
   ],
   "source": [
    "from sklearn.cluster import KMeans\n",
    "\n",
    "km = KMeans(n_clusters=5, random_state=0)\n",
    "km.fit_transform(features)\n",
    "cluster_labels = km.labels_\n",
    "cluster_labels = pd.DataFrame(cluster_labels, columns=['ClusterLabel'])\n",
    "pd.concat([nlp_emails, cluster_labels], axis=1)\n"
   ]
  },
  {
   "cell_type": "markdown",
   "metadata": {},
   "source": [
    "#### Use the CountVectorizer treat the all text of emails dataset to view top 10 words for each topic\n",
    "\n",
    "create a new emails date with the norm_X."
   ]
  },
  {
   "cell_type": "code",
   "execution_count": 88,
   "metadata": {},
   "outputs": [],
   "source": [
    "cv = CountVectorizer(max_df=0.95, min_df=2)"
   ]
  },
  {
   "cell_type": "code",
   "execution_count": 89,
   "metadata": {},
   "outputs": [],
   "source": [
    "dtm = cv.fit_transform(nlp_emails['nlp_X'])"
   ]
  },
  {
   "cell_type": "code",
   "execution_count": 90,
   "metadata": {},
   "outputs": [
    {
     "data": {
      "text/plain": [
       "LatentDirichletAllocation(n_components=5, random_state=0)"
      ]
     },
     "execution_count": 90,
     "metadata": {},
     "output_type": "execute_result"
    }
   ],
   "source": [
    "lda.fit(dtm)"
   ]
  },
  {
   "cell_type": "code",
   "execution_count": 91,
   "metadata": {},
   "outputs": [
    {
     "data": {
      "text/plain": [
       "<1000x6773 sparse matrix of type '<class 'numpy.int64'>'\n",
       "\twith 70485 stored elements in Compressed Sparse Row format>"
      ]
     },
     "execution_count": 91,
     "metadata": {},
     "output_type": "execute_result"
    }
   ],
   "source": [
    "dtm"
   ]
  },
  {
   "cell_type": "code",
   "execution_count": 92,
   "metadata": {
    "scrolled": true
   },
   "outputs": [
    {
     "name": "stdout",
     "output_type": "stream",
     "text": [
      "THE TOP 10 WORDS FOR TOPIC #0\n",
      "['meeting', 'thanks', 'risk', 'research', 'edu', 'group', 'kaminski', 'hou', 'enron', 'vince']\n",
      "\n",
      "\n",
      "THE TOP 10 WORDS FOR TOPIC #1\n",
      "['forward', 'risk', 'data', 'price', 'model', 'new', 'gas', 'enron', 'power', 'energy']\n",
      "\n",
      "\n",
      "THE TOP 10 WORDS FOR TOPIC #2\n",
      "['money', 'list', 'account', 'time', 'website', 'click', 'email', 'business', 'company', 'information']\n",
      "\n",
      "\n",
      "THE TOP 10 WORDS FOR TOPIC #3\n",
      "['hou', 'time', 'software', 'real', 'kaminski', 'message', 'like', 'adobe', 'enron', 'vince']\n",
      "\n",
      "\n",
      "THE TOP 10 WORDS FOR TOPIC #4\n",
      "['thanks', 'let', 'group', 'know', 'shirley', 'research', 'kaminski', 'hou', 'vince', 'enron']\n",
      "\n",
      "\n"
     ]
    }
   ],
   "source": [
    "for index,topic in enumerate(lda.components_):\n",
    "    print(f'THE TOP 10 WORDS FOR TOPIC #{index}')\n",
    "    print([cv.get_feature_names()[i] for i in topic.argsort()[-10:]])\n",
    "    print('\\n')"
   ]
  },
  {
   "cell_type": "markdown",
   "metadata": {},
   "source": [
    "\n",
    "### Attaching Discovered Topic Labels to Original Articles"
   ]
  },
  {
   "cell_type": "code",
   "execution_count": 93,
   "metadata": {},
   "outputs": [],
   "source": [
    "topic_results = lda.transform(dtm)"
   ]
  },
  {
   "cell_type": "code",
   "execution_count": 94,
   "metadata": {},
   "outputs": [
    {
     "data": {
      "text/plain": [
       "1906"
      ]
     },
     "execution_count": 94,
     "metadata": {},
     "output_type": "execute_result"
    }
   ],
   "source": [
    "topic_results.argmax()"
   ]
  },
  {
   "cell_type": "code",
   "execution_count": 95,
   "metadata": {},
   "outputs": [],
   "source": [
    "nlp_emails['topic'] = topic_results.argmax(axis=1)"
   ]
  },
  {
   "cell_type": "code",
   "execution_count": 96,
   "metadata": {},
   "outputs": [
    {
     "data": {
      "text/html": [
       "<div>\n",
       "<style scoped>\n",
       "    .dataframe tbody tr th:only-of-type {\n",
       "        vertical-align: middle;\n",
       "    }\n",
       "\n",
       "    .dataframe tbody tr th {\n",
       "        vertical-align: top;\n",
       "    }\n",
       "\n",
       "    .dataframe thead th {\n",
       "        text-align: right;\n",
       "    }\n",
       "</style>\n",
       "<table border=\"1\" class=\"dataframe\">\n",
       "  <thead>\n",
       "    <tr style=\"text-align: right;\">\n",
       "      <th></th>\n",
       "      <th>text</th>\n",
       "      <th>spam</th>\n",
       "      <th>norm_X</th>\n",
       "      <th>nlp_X</th>\n",
       "      <th>topic</th>\n",
       "    </tr>\n",
       "  </thead>\n",
       "  <tbody>\n",
       "    <tr>\n",
       "      <th>3973</th>\n",
       "      <td>Subject: fyi : energy operations promotions  hi vince , scott pleus ( listed below in the director promotion section ) is  bandwidth - trading backoffice person we \u0001 , ve been working with . i hav...</td>\n",
       "      <td>0</td>\n",
       "      <td>subject  fyi  energy operations promotions hi vince  scott pleus  listed director promotion section  bandwidth  trading backoffice person \u0001  working  known scott ebs since started around time  fac...</td>\n",
       "      <td>subject fyi energy operations promotions hi vince scott pleus listed director promotion section bandwidth trading backoffice person \u0001 working known scott ebs started time fact people talk sally be...</td>\n",
       "      <td>4</td>\n",
       "    </tr>\n",
       "    <tr>\n",
       "      <th>4996</th>\n",
       "      <td>Subject: hedge effectiveness test for fair value hedges  gentlemen :  we have had favorable responses regarding the use of our volatility  reduction method ( roger , i ' ve attached a copy of our ...</td>\n",
       "      <td>0</td>\n",
       "      <td>subject  hedge effectiveness test fair value hedges gentlemen  favorable responses regarding use volatility reduction method  roger   attached copy article case  seen   however  continued quibble ...</td>\n",
       "      <td>subject hedge effectiveness test fair value hedges gentlemen favorable responses use volatility reduction method roger attached copy article case seen continued quibble create set data points inpu...</td>\n",
       "      <td>1</td>\n",
       "    </tr>\n",
       "    <tr>\n",
       "      <th>1498</th>\n",
       "      <td>Subject: merit and equity increases  norma ,  i am sending you an excel spreadsheet with proposed  merit and equity increases .  i have slightly exceeded the merit quota .  the equity increases ad...</td>\n",
       "      <td>0</td>\n",
       "      <td>subject  merit equity increases norma  sending excel spreadsheet proposed merit equity increases  slightly exceeded merit quota  equity increases address two issues  retention error setting salary...</td>\n",
       "      <td>subject merit equity increases norma sending excel spreadsheet proposed merit equity increases slightly exceeded merit quota equity increases address issues retention error setting salary hiring t...</td>\n",
       "      <td>3</td>\n",
       "    </tr>\n",
       "    <tr>\n",
       "      <th>3701</th>\n",
       "      <td>Subject: thank you !  fyi from valeria .  - - - - - - - - - - - - - - - - - - - - - - forwarded by shirley crenshaw / hou / ect on 09 / 12 / 2000  10 : 03 am - - - - - - - - - - - - - - - - - - - ...</td>\n",
       "      <td>0</td>\n",
       "      <td>subject  thank  fyi valeria                        forwarded shirley crenshaw  hou  ect                                    valeria   stone  exxon  sprint  com            shirley  crenshaw  enron  ...</td>\n",
       "      <td>subject thank fyi valeria forwarded shirley crenshaw hou valeria stone exxon sprint shirley crenshaw enron subject thank date september stone v valeria vistone americas ext shirley crenshaw enron ...</td>\n",
       "      <td>0</td>\n",
       "    </tr>\n",
       "    <tr>\n",
       "      <th>1897</th>\n",
       "      <td>Subject: your talk on 2 / 7 / 00 ( monday ) ( fwd )  vince : a minor revision of my earlier email shown below . the last line  should read ' i will be waiting in my office from 6 : 30 - 6 : 50 for...</td>\n",
       "      <td>0</td>\n",
       "      <td>subject  talk       monday   fwd  vince  minor revision earlier email shown  last line read  waiting office        call     office phone     sorry resend email  ed           forwarded message     ...</td>\n",
       "      <td>subject talk monday fwd vince minor revision earlier email shown line read waiting office office phone sorry resend email ed forwarded message date thu feb cst edward kao vince j kaminski subject ...</td>\n",
       "      <td>4</td>\n",
       "    </tr>\n",
       "  </tbody>\n",
       "</table>\n",
       "</div>"
      ],
      "text/plain": [
       "                                                                                                                                                                                                         text  \\\n",
       "3973  Subject: fyi : energy operations promotions  hi vince , scott pleus ( listed below in the director promotion section ) is  bandwidth - trading backoffice person we \u0001 , ve been working with . i hav...   \n",
       "4996  Subject: hedge effectiveness test for fair value hedges  gentlemen :  we have had favorable responses regarding the use of our volatility  reduction method ( roger , i ' ve attached a copy of our ...   \n",
       "1498  Subject: merit and equity increases  norma ,  i am sending you an excel spreadsheet with proposed  merit and equity increases .  i have slightly exceeded the merit quota .  the equity increases ad...   \n",
       "3701  Subject: thank you !  fyi from valeria .  - - - - - - - - - - - - - - - - - - - - - - forwarded by shirley crenshaw / hou / ect on 09 / 12 / 2000  10 : 03 am - - - - - - - - - - - - - - - - - - - ...   \n",
       "1897  Subject: your talk on 2 / 7 / 00 ( monday ) ( fwd )  vince : a minor revision of my earlier email shown below . the last line  should read ' i will be waiting in my office from 6 : 30 - 6 : 50 for...   \n",
       "\n",
       "      spam  \\\n",
       "3973     0   \n",
       "4996     0   \n",
       "1498     0   \n",
       "3701     0   \n",
       "1897     0   \n",
       "\n",
       "                                                                                                                                                                                                       norm_X  \\\n",
       "3973  subject  fyi  energy operations promotions hi vince  scott pleus  listed director promotion section  bandwidth  trading backoffice person \u0001  working  known scott ebs since started around time  fac...   \n",
       "4996  subject  hedge effectiveness test fair value hedges gentlemen  favorable responses regarding use volatility reduction method  roger   attached copy article case  seen   however  continued quibble ...   \n",
       "1498  subject  merit equity increases norma  sending excel spreadsheet proposed merit equity increases  slightly exceeded merit quota  equity increases address two issues  retention error setting salary...   \n",
       "3701  subject  thank  fyi valeria                        forwarded shirley crenshaw  hou  ect                                    valeria   stone  exxon  sprint  com            shirley  crenshaw  enron  ...   \n",
       "1897  subject  talk       monday   fwd  vince  minor revision earlier email shown  last line read  waiting office        call     office phone     sorry resend email  ed           forwarded message     ...   \n",
       "\n",
       "                                                                                                                                                                                                        nlp_X  \\\n",
       "3973  subject fyi energy operations promotions hi vince scott pleus listed director promotion section bandwidth trading backoffice person \u0001 working known scott ebs started time fact people talk sally be...   \n",
       "4996  subject hedge effectiveness test fair value hedges gentlemen favorable responses use volatility reduction method roger attached copy article case seen continued quibble create set data points inpu...   \n",
       "1498  subject merit equity increases norma sending excel spreadsheet proposed merit equity increases slightly exceeded merit quota equity increases address issues retention error setting salary hiring t...   \n",
       "3701  subject thank fyi valeria forwarded shirley crenshaw hou valeria stone exxon sprint shirley crenshaw enron subject thank date september stone v valeria vistone americas ext shirley crenshaw enron ...   \n",
       "1897  subject talk monday fwd vince minor revision earlier email shown line read waiting office office phone sorry resend email ed forwarded message date thu feb cst edward kao vince j kaminski subject ...   \n",
       "\n",
       "      topic  \n",
       "3973      4  \n",
       "4996      1  \n",
       "1498      3  \n",
       "3701      0  \n",
       "1897      4  "
      ]
     },
     "execution_count": 96,
     "metadata": {},
     "output_type": "execute_result"
    }
   ],
   "source": [
    "nlp_emails[0:5]"
   ]
  },
  {
   "cell_type": "code",
   "execution_count": 97,
   "metadata": {
    "scrolled": false
   },
   "outputs": [
    {
     "data": {
      "image/png": "[encoded data removed]",
      "text/plain": [
       "<Figure size 432x288 with 1 Axes>"
      ]
     },
     "metadata": {
      "needs_background": "light"
     },
     "output_type": "display_data"
    }
   ],
   "source": [
    "import seaborn as sns\n",
    "plt.figure(figsize=(6,4))\n",
    "sns.set_context('talk') \n",
    "sns.countplot(y=nlp_emails['topic'], palette=\"plasma\")\n",
    "plt.title('Topic Distribution');"
   ]
  },
  {
   "cell_type": "markdown",
   "metadata": {},
   "source": [
    "### Use the components index to find a single topic for each array as an example"
   ]
  },
  {
   "cell_type": "code",
   "execution_count": 98,
   "metadata": {},
   "outputs": [],
   "source": [
    "single_topic = lda.components_[2]"
   ]
  },
  {
   "cell_type": "code",
   "execution_count": 99,
   "metadata": {},
   "outputs": [
    {
     "data": {
      "text/plain": [
       "array([6365, 4204, 2736, ...,  762, 1119, 3045])"
      ]
     },
     "execution_count": 99,
     "metadata": {},
     "output_type": "execute_result"
    }
   ],
   "source": [
    "single_topic.argsort()"
   ]
  },
  {
   "cell_type": "code",
   "execution_count": 100,
   "metadata": {
    "scrolled": true
   },
   "outputs": [
    {
     "data": {
      "text/plain": [
       "0.2041850165054159"
      ]
     },
     "execution_count": 100,
     "metadata": {},
     "output_type": "execute_result"
    },
    {
     "data": {
      "text/plain": [
       "array([3993, 3560,   39, 6180, 6619, 1026, 1975,  762, 1119, 3045])"
      ]
     },
     "execution_count": 100,
     "metadata": {},
     "output_type": "execute_result"
    },
    {
     "name": "stdout",
     "output_type": "stream",
     "text": [
      "money\n",
      "list\n",
      "account\n",
      "time\n",
      "website\n",
      "click\n",
      "email\n",
      "business\n",
      "company\n",
      "information\n"
     ]
    }
   ],
   "source": [
    "single_topic[100]\n",
    "#Top 10 words for this topic at the number 1055 email.\n",
    "\n",
    "single_topic.argsort()[-10:]\n",
    "\n",
    "top_word_indices = single_topic.argsort()[-10:]\n",
    "#Get the text information of this top 10 words\n",
    "\n",
    "for index in top_word_indices:\n",
    "    print(cv.get_feature_names()[index])"
   ]
  },
  {
   "cell_type": "code",
   "execution_count": 102,
   "metadata": {},
   "outputs": [],
   "source": [
    "nlp_emails.to_csv(\"nlp_emails.csv\")\n"
   ]
  }
 ],
 "metadata": {
  "celltoolbar": "Raw Cell Format",
  "kernelspec": {
   "display_name": "Python 3",
   "language": "python",
   "name": "python3"
  },
  "language_info": {
   "codemirror_mode": {
    "name": "ipython",
    "version": 3
   },
   "file_extension": ".py",
   "mimetype": "text/x-python",
   "name": "python",
   "nbconvert_exporter": "python",
   "pygments_lexer": "ipython3",
   "version": "3.8.5"
  }
 },
 "nbformat": 4,
 "nbformat_minor": 2
}
